{
  "nbformat": 4,
  "nbformat_minor": 0,
  "metadata": {
    "colab": {
      "provenance": [],
      "authorship_tag": "ABX9TyOtv67GbHo/8FhvbZvWneRU",
      "include_colab_link": true
    },
    "kernelspec": {
      "name": "python3",
      "display_name": "Python 3"
    },
    "language_info": {
      "name": "python"
    }
  },
  "cells": [
    {
      "cell_type": "markdown",
      "metadata": {
        "id": "view-in-github",
        "colab_type": "text"
      },
      "source": [
        "<a href=\"https://colab.research.google.com/github/Pawan0178/Covid19_Data_Analysis/blob/main/Movie_Recommendation.ipynb\" target=\"_parent\"><img src=\"https://colab.research.google.com/assets/colab-badge.svg\" alt=\"Open In Colab\"/></a>"
      ]
    },
    {
      "cell_type": "markdown",
      "source": [
        "**Title of Project:** Movie Recommendation System"
      ],
      "metadata": {
        "id": "k52d2LencOET"
      }
    },
    {
      "cell_type": "markdown",
      "source": [
        "**Objective:**\n",
        "The objective of a movie recommendation system is to provide personalized movie suggestions that enhance user satisfaction, increase engagement, and promote content discovery by analyzing user preferences and viewing patterns."
      ],
      "metadata": {
        "id": "Bx_wGqW0bpsb"
      }
    },
    {
      "cell_type": "markdown",
      "source": [
        "**Data Source:** Ybi Foundation github account"
      ],
      "metadata": {
        "id": "4vMIaUDfcg18"
      }
    },
    {
      "cell_type": "markdown",
      "source": [
        "Import Library:"
      ],
      "metadata": {
        "id": "U2GfnMfbcaX5"
      }
    },
    {
      "cell_type": "code",
      "source": [
        "import pandas as pd\n",
        "import numpy as np"
      ],
      "metadata": {
        "id": "fPgm5kMfcmDH"
      },
      "execution_count": 1,
      "outputs": []
    },
    {
      "cell_type": "markdown",
      "source": [
        "**Import Dataset:**"
      ],
      "metadata": {
        "id": "BNsO4tLnc0Yv"
      }
    },
    {
      "cell_type": "code",
      "source": [
        "df = pd.read_csv(\"/content/Movies Recommendation.csv\")"
      ],
      "metadata": {
        "id": "sMTe3oOXcmOj"
      },
      "execution_count": 4,
      "outputs": []
    },
    {
      "cell_type": "code",
      "source": [
        "df.head(10)"
      ],
      "metadata": {
        "colab": {
          "base_uri": "https://localhost:8080/",
          "height": 1000
        },
        "id": "wq2a8dH1cmSR",
        "outputId": "3d6c0100-e46a-496b-c2ce-2a08e2521080"
      },
      "execution_count": 5,
      "outputs": [
        {
          "output_type": "execute_result",
          "data": {
            "text/plain": [
              "   Movie_ID                                        Movie_Title  \\\n",
              "0         1                                         Four Rooms   \n",
              "1         2                                          Star Wars   \n",
              "2         3                                       Finding Nemo   \n",
              "3         4                                       Forrest Gump   \n",
              "4         5                                    American Beauty   \n",
              "5         6                                 Dancer in the Dark   \n",
              "6         7                                  The Fifth Element   \n",
              "7         8                                         Metropolis   \n",
              "8         9                                 My Life Without Me   \n",
              "9        10  Pirates of the Caribbean: The Curse of the Bla...   \n",
              "\n",
              "                                         Movie_Genre Movie_Language  \\\n",
              "0                                       Crime Comedy             en   \n",
              "1                   Adventure Action Science Fiction             en   \n",
              "2                                   Animation Family             en   \n",
              "3                               Comedy Drama Romance             en   \n",
              "4                                              Drama             en   \n",
              "5                                  Drama Crime Music             en   \n",
              "6  Adventure Fantasy Action Thriller Science Fiction             en   \n",
              "7                              Drama Science Fiction             de   \n",
              "8                                      Drama Romance             en   \n",
              "9                           Adventure Fantasy Action             en   \n",
              "\n",
              "   Movie_Budget  Movie_Popularity Movie_Release_Date  Movie_Revenue  \\\n",
              "0       4000000         22.876230         09-12-1995        4300000   \n",
              "1      11000000        126.393695         25-05-1977      775398007   \n",
              "2      94000000         85.688789         30-05-2003      940335536   \n",
              "3      55000000        138.133331         06-07-1994      677945399   \n",
              "4      15000000         80.878605         15-09-1999      356296601   \n",
              "5      12800000         22.022228         17-05-2000       40031879   \n",
              "6      90000000        109.528572         07-05-1997      263920180   \n",
              "7      92620000         32.351527         10-01-1927         650422   \n",
              "8       4000000          7.958831         07-03-2003        9726954   \n",
              "9     140000000        271.972889         09-07-2003      655011224   \n",
              "\n",
              "   Movie_Runtime  Movie_Vote  ...  \\\n",
              "0           98.0         6.5  ...   \n",
              "1          121.0         8.1  ...   \n",
              "2          100.0         7.6  ...   \n",
              "3          142.0         8.2  ...   \n",
              "4          122.0         7.9  ...   \n",
              "5          140.0         7.6  ...   \n",
              "6          126.0         7.3  ...   \n",
              "7          153.0         8.0  ...   \n",
              "8          106.0         7.2  ...   \n",
              "9          143.0         7.5  ...   \n",
              "\n",
              "                                      Movie_Homepage  \\\n",
              "0                                                NaN   \n",
              "1  http://www.starwars.com/films/star-wars-episod...   \n",
              "2              http://movies.disney.com/finding-nemo   \n",
              "3                                                NaN   \n",
              "4                      http://www.dreamworks.com/ab/   \n",
              "5                                                NaN   \n",
              "6                                                NaN   \n",
              "7                                                NaN   \n",
              "8  http://www.clubcultura.com/clubcine/clubcineas...   \n",
              "9  http://disney.go.com/disneyvideos/liveaction/p...   \n",
              "\n",
              "                                      Movie_Keywords  \\\n",
              "0          hotel new year's eve witch bet hotel room   \n",
              "1        android galaxy hermit death star lightsaber   \n",
              "2  father son relationship harbor underwater fish...   \n",
              "3  vietnam veteran hippie mentally disabled runni...   \n",
              "4  male nudity female nudity adultery midlife cri...   \n",
              "5      individual dancing usa robbery factory worker   \n",
              "6                     clone taxi cyborg egypt future   \n",
              "7  man vs machine underground world inventor metr...   \n",
              "8  farewell responsability dying and death night ...   \n",
              "9  exotic island blacksmith east india trading co...   \n",
              "\n",
              "                                      Movie_Overview  \\\n",
              "0  It's Ted the Bellhop's first night on the job....   \n",
              "1  Princess Leia is captured and held hostage by ...   \n",
              "2  Nemo, an adventurous young clownfish, is unexp...   \n",
              "3  A man with a low IQ has accomplished great thi...   \n",
              "4  Lester Burnham, a depressed suburban father in...   \n",
              "5  Selma, a Czech immigrant on the verge of blind...   \n",
              "6  In 2257, a taxi driver is unintentionally give...   \n",
              "7  In a futuristic city sharply divided between t...   \n",
              "8  A Pedro Almodovar production in which a fatall...   \n",
              "9  Jack Sparrow, a freewheeling 17th-century pira...   \n",
              "\n",
              "                              Movie_Production_House  \\\n",
              "0  [{\"name\": \"Miramax Films\", \"id\": 14}, {\"name\":...   \n",
              "1  [{\"name\": \"Lucasfilm\", \"id\": 1}, {\"name\": \"Twe...   \n",
              "2     [{\"name\": \"Pixar Animation Studios\", \"id\": 3}]   \n",
              "3          [{\"name\": \"Paramount Pictures\", \"id\": 4}]   \n",
              "4  [{\"name\": \"DreamWorks SKG\", \"id\": 27}, {\"name\"...   \n",
              "5  [{\"name\": \"Fine Line Features\", \"id\": 8}, {\"na...   \n",
              "6  [{\"name\": \"Columbia Pictures\", \"id\": 5}, {\"nam...   \n",
              "7  [{\"name\": \"Paramount Pictures\", \"id\": 4}, {\"na...   \n",
              "8  [{\"name\": \"El Deseo\", \"id\": 49}, {\"name\": \"Mil...   \n",
              "9  [{\"name\": \"Walt Disney Pictures\", \"id\": 2}, {\"...   \n",
              "\n",
              "                            Movie_Production_Country  \\\n",
              "0  [{\"iso_3166_1\": \"US\", \"name\": \"United States o...   \n",
              "1  [{\"iso_3166_1\": \"US\", \"name\": \"United States o...   \n",
              "2  [{\"iso_3166_1\": \"US\", \"name\": \"United States o...   \n",
              "3  [{\"iso_3166_1\": \"US\", \"name\": \"United States o...   \n",
              "4  [{\"iso_3166_1\": \"US\", \"name\": \"United States o...   \n",
              "5  [{\"iso_3166_1\": \"AR\", \"name\": \"Argentina\"}, {\"...   \n",
              "6           [{\"iso_3166_1\": \"FR\", \"name\": \"France\"}]   \n",
              "7          [{\"iso_3166_1\": \"DE\", \"name\": \"Germany\"}]   \n",
              "8  [{\"iso_3166_1\": \"CA\", \"name\": \"Canada\"}, {\"iso...   \n",
              "9  [{\"iso_3166_1\": \"US\", \"name\": \"United States o...   \n",
              "\n",
              "                               Movie_Spoken_Language  \\\n",
              "0           [{\"iso_639_1\": \"en\", \"name\": \"English\"}]   \n",
              "1           [{\"iso_639_1\": \"en\", \"name\": \"English\"}]   \n",
              "2           [{\"iso_639_1\": \"en\", \"name\": \"English\"}]   \n",
              "3           [{\"iso_639_1\": \"en\", \"name\": \"English\"}]   \n",
              "4           [{\"iso_639_1\": \"en\", \"name\": \"English\"}]   \n",
              "5           [{\"iso_639_1\": \"en\", \"name\": \"English\"}]   \n",
              "6  [{\"iso_639_1\": \"en\", \"name\": \"English\"}, {\"iso...   \n",
              "7       [{\"iso_639_1\": \"xx\", \"name\": \"No Language\"}]   \n",
              "8           [{\"iso_639_1\": \"en\", \"name\": \"English\"}]   \n",
              "9           [{\"iso_639_1\": \"en\", \"name\": \"English\"}]   \n",
              "\n",
              "                                       Movie_Tagline  \\\n",
              "0  Twelve outrageous guests. Four scandalous requ...   \n",
              "1       A long time ago in a galaxy far, far away...   \n",
              "2  There are 3.7 trillion fish in the ocean, they...   \n",
              "3  The world will never be the same, once you've ...   \n",
              "4                                       Look closer.   \n",
              "5                        You don't need eyes to see.   \n",
              "6                     There is no future without it.   \n",
              "7  There can be no understanding between the hand...   \n",
              "8                                                NaN   \n",
              "9              Prepare to be blown out of the water.   \n",
              "\n",
              "                                          Movie_Cast  \\\n",
              "0  Tim Roth Antonio Banderas Jennifer Beals Madon...   \n",
              "1  Mark Hamill Harrison Ford Carrie Fisher Peter ...   \n",
              "2  Albert Brooks Ellen DeGeneres Alexander Gould ...   \n",
              "3  Tom Hanks Robin Wright Gary Sinise Mykelti Wil...   \n",
              "4  Kevin Spacey Annette Bening Thora Birch Wes Be...   \n",
              "5  Bj\\u00f6rk Catherine Deneuve David Morse Peter...   \n",
              "6  Bruce Willis Gary Oldman Ian Holm Milla Jovovi...   \n",
              "7  Brigitte Helm Alfred Abel Gustav Fr\\u00f6hlich...   \n",
              "8  Sarah Polley Amanda Plummer Scott Speedman Leo...   \n",
              "9  Johnny Depp Geoffrey Rush Orlando Bloom Keira ...   \n",
              "\n",
              "                                          Movie_Crew   Movie_Director  \n",
              "0  [{'name': 'Allison Anders', 'gender': 1, 'depa...   Allison Anders  \n",
              "1  [{'name': 'George Lucas', 'gender': 2, 'depart...     George Lucas  \n",
              "2  [{'name': 'Andrew Stanton', 'gender': 2, 'depa...   Andrew Stanton  \n",
              "3  [{'name': 'Alan Silvestri', 'gender': 2, 'depa...  Robert Zemeckis  \n",
              "4  [{'name': 'Thomas Newman', 'gender': 2, 'depar...       Sam Mendes  \n",
              "5  [{'name': 'Lars von Trier', 'gender': 2, 'depa...   Lars von Trier  \n",
              "6  [{'name': 'Luc Besson', 'gender': 2, 'departme...       Luc Besson  \n",
              "7  [{'name': 'Erich Pommer', 'gender': 2, 'depart...       Fritz Lang  \n",
              "8  [{'name': 'Isabel Coixet', 'gender': 1, 'depar...    Isabel Coixet  \n",
              "9  [{'name': 'Arthur Schmidt', 'gender': 2, 'depa...   Gore Verbinski  \n",
              "\n",
              "[10 rows x 21 columns]"
            ],
            "text/html": [
              "\n",
              "  <div id=\"df-6f65d62c-e860-46d4-8956-04dff447d006\" class=\"colab-df-container\">\n",
              "    <div>\n",
              "<style scoped>\n",
              "    .dataframe tbody tr th:only-of-type {\n",
              "        vertical-align: middle;\n",
              "    }\n",
              "\n",
              "    .dataframe tbody tr th {\n",
              "        vertical-align: top;\n",
              "    }\n",
              "\n",
              "    .dataframe thead th {\n",
              "        text-align: right;\n",
              "    }\n",
              "</style>\n",
              "<table border=\"1\" class=\"dataframe\">\n",
              "  <thead>\n",
              "    <tr style=\"text-align: right;\">\n",
              "      <th></th>\n",
              "      <th>Movie_ID</th>\n",
              "      <th>Movie_Title</th>\n",
              "      <th>Movie_Genre</th>\n",
              "      <th>Movie_Language</th>\n",
              "      <th>Movie_Budget</th>\n",
              "      <th>Movie_Popularity</th>\n",
              "      <th>Movie_Release_Date</th>\n",
              "      <th>Movie_Revenue</th>\n",
              "      <th>Movie_Runtime</th>\n",
              "      <th>Movie_Vote</th>\n",
              "      <th>...</th>\n",
              "      <th>Movie_Homepage</th>\n",
              "      <th>Movie_Keywords</th>\n",
              "      <th>Movie_Overview</th>\n",
              "      <th>Movie_Production_House</th>\n",
              "      <th>Movie_Production_Country</th>\n",
              "      <th>Movie_Spoken_Language</th>\n",
              "      <th>Movie_Tagline</th>\n",
              "      <th>Movie_Cast</th>\n",
              "      <th>Movie_Crew</th>\n",
              "      <th>Movie_Director</th>\n",
              "    </tr>\n",
              "  </thead>\n",
              "  <tbody>\n",
              "    <tr>\n",
              "      <th>0</th>\n",
              "      <td>1</td>\n",
              "      <td>Four Rooms</td>\n",
              "      <td>Crime Comedy</td>\n",
              "      <td>en</td>\n",
              "      <td>4000000</td>\n",
              "      <td>22.876230</td>\n",
              "      <td>09-12-1995</td>\n",
              "      <td>4300000</td>\n",
              "      <td>98.0</td>\n",
              "      <td>6.5</td>\n",
              "      <td>...</td>\n",
              "      <td>NaN</td>\n",
              "      <td>hotel new year's eve witch bet hotel room</td>\n",
              "      <td>It's Ted the Bellhop's first night on the job....</td>\n",
              "      <td>[{\"name\": \"Miramax Films\", \"id\": 14}, {\"name\":...</td>\n",
              "      <td>[{\"iso_3166_1\": \"US\", \"name\": \"United States o...</td>\n",
              "      <td>[{\"iso_639_1\": \"en\", \"name\": \"English\"}]</td>\n",
              "      <td>Twelve outrageous guests. Four scandalous requ...</td>\n",
              "      <td>Tim Roth Antonio Banderas Jennifer Beals Madon...</td>\n",
              "      <td>[{'name': 'Allison Anders', 'gender': 1, 'depa...</td>\n",
              "      <td>Allison Anders</td>\n",
              "    </tr>\n",
              "    <tr>\n",
              "      <th>1</th>\n",
              "      <td>2</td>\n",
              "      <td>Star Wars</td>\n",
              "      <td>Adventure Action Science Fiction</td>\n",
              "      <td>en</td>\n",
              "      <td>11000000</td>\n",
              "      <td>126.393695</td>\n",
              "      <td>25-05-1977</td>\n",
              "      <td>775398007</td>\n",
              "      <td>121.0</td>\n",
              "      <td>8.1</td>\n",
              "      <td>...</td>\n",
              "      <td>http://www.starwars.com/films/star-wars-episod...</td>\n",
              "      <td>android galaxy hermit death star lightsaber</td>\n",
              "      <td>Princess Leia is captured and held hostage by ...</td>\n",
              "      <td>[{\"name\": \"Lucasfilm\", \"id\": 1}, {\"name\": \"Twe...</td>\n",
              "      <td>[{\"iso_3166_1\": \"US\", \"name\": \"United States o...</td>\n",
              "      <td>[{\"iso_639_1\": \"en\", \"name\": \"English\"}]</td>\n",
              "      <td>A long time ago in a galaxy far, far away...</td>\n",
              "      <td>Mark Hamill Harrison Ford Carrie Fisher Peter ...</td>\n",
              "      <td>[{'name': 'George Lucas', 'gender': 2, 'depart...</td>\n",
              "      <td>George Lucas</td>\n",
              "    </tr>\n",
              "    <tr>\n",
              "      <th>2</th>\n",
              "      <td>3</td>\n",
              "      <td>Finding Nemo</td>\n",
              "      <td>Animation Family</td>\n",
              "      <td>en</td>\n",
              "      <td>94000000</td>\n",
              "      <td>85.688789</td>\n",
              "      <td>30-05-2003</td>\n",
              "      <td>940335536</td>\n",
              "      <td>100.0</td>\n",
              "      <td>7.6</td>\n",
              "      <td>...</td>\n",
              "      <td>http://movies.disney.com/finding-nemo</td>\n",
              "      <td>father son relationship harbor underwater fish...</td>\n",
              "      <td>Nemo, an adventurous young clownfish, is unexp...</td>\n",
              "      <td>[{\"name\": \"Pixar Animation Studios\", \"id\": 3}]</td>\n",
              "      <td>[{\"iso_3166_1\": \"US\", \"name\": \"United States o...</td>\n",
              "      <td>[{\"iso_639_1\": \"en\", \"name\": \"English\"}]</td>\n",
              "      <td>There are 3.7 trillion fish in the ocean, they...</td>\n",
              "      <td>Albert Brooks Ellen DeGeneres Alexander Gould ...</td>\n",
              "      <td>[{'name': 'Andrew Stanton', 'gender': 2, 'depa...</td>\n",
              "      <td>Andrew Stanton</td>\n",
              "    </tr>\n",
              "    <tr>\n",
              "      <th>3</th>\n",
              "      <td>4</td>\n",
              "      <td>Forrest Gump</td>\n",
              "      <td>Comedy Drama Romance</td>\n",
              "      <td>en</td>\n",
              "      <td>55000000</td>\n",
              "      <td>138.133331</td>\n",
              "      <td>06-07-1994</td>\n",
              "      <td>677945399</td>\n",
              "      <td>142.0</td>\n",
              "      <td>8.2</td>\n",
              "      <td>...</td>\n",
              "      <td>NaN</td>\n",
              "      <td>vietnam veteran hippie mentally disabled runni...</td>\n",
              "      <td>A man with a low IQ has accomplished great thi...</td>\n",
              "      <td>[{\"name\": \"Paramount Pictures\", \"id\": 4}]</td>\n",
              "      <td>[{\"iso_3166_1\": \"US\", \"name\": \"United States o...</td>\n",
              "      <td>[{\"iso_639_1\": \"en\", \"name\": \"English\"}]</td>\n",
              "      <td>The world will never be the same, once you've ...</td>\n",
              "      <td>Tom Hanks Robin Wright Gary Sinise Mykelti Wil...</td>\n",
              "      <td>[{'name': 'Alan Silvestri', 'gender': 2, 'depa...</td>\n",
              "      <td>Robert Zemeckis</td>\n",
              "    </tr>\n",
              "    <tr>\n",
              "      <th>4</th>\n",
              "      <td>5</td>\n",
              "      <td>American Beauty</td>\n",
              "      <td>Drama</td>\n",
              "      <td>en</td>\n",
              "      <td>15000000</td>\n",
              "      <td>80.878605</td>\n",
              "      <td>15-09-1999</td>\n",
              "      <td>356296601</td>\n",
              "      <td>122.0</td>\n",
              "      <td>7.9</td>\n",
              "      <td>...</td>\n",
              "      <td>http://www.dreamworks.com/ab/</td>\n",
              "      <td>male nudity female nudity adultery midlife cri...</td>\n",
              "      <td>Lester Burnham, a depressed suburban father in...</td>\n",
              "      <td>[{\"name\": \"DreamWorks SKG\", \"id\": 27}, {\"name\"...</td>\n",
              "      <td>[{\"iso_3166_1\": \"US\", \"name\": \"United States o...</td>\n",
              "      <td>[{\"iso_639_1\": \"en\", \"name\": \"English\"}]</td>\n",
              "      <td>Look closer.</td>\n",
              "      <td>Kevin Spacey Annette Bening Thora Birch Wes Be...</td>\n",
              "      <td>[{'name': 'Thomas Newman', 'gender': 2, 'depar...</td>\n",
              "      <td>Sam Mendes</td>\n",
              "    </tr>\n",
              "    <tr>\n",
              "      <th>5</th>\n",
              "      <td>6</td>\n",
              "      <td>Dancer in the Dark</td>\n",
              "      <td>Drama Crime Music</td>\n",
              "      <td>en</td>\n",
              "      <td>12800000</td>\n",
              "      <td>22.022228</td>\n",
              "      <td>17-05-2000</td>\n",
              "      <td>40031879</td>\n",
              "      <td>140.0</td>\n",
              "      <td>7.6</td>\n",
              "      <td>...</td>\n",
              "      <td>NaN</td>\n",
              "      <td>individual dancing usa robbery factory worker</td>\n",
              "      <td>Selma, a Czech immigrant on the verge of blind...</td>\n",
              "      <td>[{\"name\": \"Fine Line Features\", \"id\": 8}, {\"na...</td>\n",
              "      <td>[{\"iso_3166_1\": \"AR\", \"name\": \"Argentina\"}, {\"...</td>\n",
              "      <td>[{\"iso_639_1\": \"en\", \"name\": \"English\"}]</td>\n",
              "      <td>You don't need eyes to see.</td>\n",
              "      <td>Bj\\u00f6rk Catherine Deneuve David Morse Peter...</td>\n",
              "      <td>[{'name': 'Lars von Trier', 'gender': 2, 'depa...</td>\n",
              "      <td>Lars von Trier</td>\n",
              "    </tr>\n",
              "    <tr>\n",
              "      <th>6</th>\n",
              "      <td>7</td>\n",
              "      <td>The Fifth Element</td>\n",
              "      <td>Adventure Fantasy Action Thriller Science Fiction</td>\n",
              "      <td>en</td>\n",
              "      <td>90000000</td>\n",
              "      <td>109.528572</td>\n",
              "      <td>07-05-1997</td>\n",
              "      <td>263920180</td>\n",
              "      <td>126.0</td>\n",
              "      <td>7.3</td>\n",
              "      <td>...</td>\n",
              "      <td>NaN</td>\n",
              "      <td>clone taxi cyborg egypt future</td>\n",
              "      <td>In 2257, a taxi driver is unintentionally give...</td>\n",
              "      <td>[{\"name\": \"Columbia Pictures\", \"id\": 5}, {\"nam...</td>\n",
              "      <td>[{\"iso_3166_1\": \"FR\", \"name\": \"France\"}]</td>\n",
              "      <td>[{\"iso_639_1\": \"en\", \"name\": \"English\"}, {\"iso...</td>\n",
              "      <td>There is no future without it.</td>\n",
              "      <td>Bruce Willis Gary Oldman Ian Holm Milla Jovovi...</td>\n",
              "      <td>[{'name': 'Luc Besson', 'gender': 2, 'departme...</td>\n",
              "      <td>Luc Besson</td>\n",
              "    </tr>\n",
              "    <tr>\n",
              "      <th>7</th>\n",
              "      <td>8</td>\n",
              "      <td>Metropolis</td>\n",
              "      <td>Drama Science Fiction</td>\n",
              "      <td>de</td>\n",
              "      <td>92620000</td>\n",
              "      <td>32.351527</td>\n",
              "      <td>10-01-1927</td>\n",
              "      <td>650422</td>\n",
              "      <td>153.0</td>\n",
              "      <td>8.0</td>\n",
              "      <td>...</td>\n",
              "      <td>NaN</td>\n",
              "      <td>man vs machine underground world inventor metr...</td>\n",
              "      <td>In a futuristic city sharply divided between t...</td>\n",
              "      <td>[{\"name\": \"Paramount Pictures\", \"id\": 4}, {\"na...</td>\n",
              "      <td>[{\"iso_3166_1\": \"DE\", \"name\": \"Germany\"}]</td>\n",
              "      <td>[{\"iso_639_1\": \"xx\", \"name\": \"No Language\"}]</td>\n",
              "      <td>There can be no understanding between the hand...</td>\n",
              "      <td>Brigitte Helm Alfred Abel Gustav Fr\\u00f6hlich...</td>\n",
              "      <td>[{'name': 'Erich Pommer', 'gender': 2, 'depart...</td>\n",
              "      <td>Fritz Lang</td>\n",
              "    </tr>\n",
              "    <tr>\n",
              "      <th>8</th>\n",
              "      <td>9</td>\n",
              "      <td>My Life Without Me</td>\n",
              "      <td>Drama Romance</td>\n",
              "      <td>en</td>\n",
              "      <td>4000000</td>\n",
              "      <td>7.958831</td>\n",
              "      <td>07-03-2003</td>\n",
              "      <td>9726954</td>\n",
              "      <td>106.0</td>\n",
              "      <td>7.2</td>\n",
              "      <td>...</td>\n",
              "      <td>http://www.clubcultura.com/clubcine/clubcineas...</td>\n",
              "      <td>farewell responsability dying and death night ...</td>\n",
              "      <td>A Pedro Almodovar production in which a fatall...</td>\n",
              "      <td>[{\"name\": \"El Deseo\", \"id\": 49}, {\"name\": \"Mil...</td>\n",
              "      <td>[{\"iso_3166_1\": \"CA\", \"name\": \"Canada\"}, {\"iso...</td>\n",
              "      <td>[{\"iso_639_1\": \"en\", \"name\": \"English\"}]</td>\n",
              "      <td>NaN</td>\n",
              "      <td>Sarah Polley Amanda Plummer Scott Speedman Leo...</td>\n",
              "      <td>[{'name': 'Isabel Coixet', 'gender': 1, 'depar...</td>\n",
              "      <td>Isabel Coixet</td>\n",
              "    </tr>\n",
              "    <tr>\n",
              "      <th>9</th>\n",
              "      <td>10</td>\n",
              "      <td>Pirates of the Caribbean: The Curse of the Bla...</td>\n",
              "      <td>Adventure Fantasy Action</td>\n",
              "      <td>en</td>\n",
              "      <td>140000000</td>\n",
              "      <td>271.972889</td>\n",
              "      <td>09-07-2003</td>\n",
              "      <td>655011224</td>\n",
              "      <td>143.0</td>\n",
              "      <td>7.5</td>\n",
              "      <td>...</td>\n",
              "      <td>http://disney.go.com/disneyvideos/liveaction/p...</td>\n",
              "      <td>exotic island blacksmith east india trading co...</td>\n",
              "      <td>Jack Sparrow, a freewheeling 17th-century pira...</td>\n",
              "      <td>[{\"name\": \"Walt Disney Pictures\", \"id\": 2}, {\"...</td>\n",
              "      <td>[{\"iso_3166_1\": \"US\", \"name\": \"United States o...</td>\n",
              "      <td>[{\"iso_639_1\": \"en\", \"name\": \"English\"}]</td>\n",
              "      <td>Prepare to be blown out of the water.</td>\n",
              "      <td>Johnny Depp Geoffrey Rush Orlando Bloom Keira ...</td>\n",
              "      <td>[{'name': 'Arthur Schmidt', 'gender': 2, 'depa...</td>\n",
              "      <td>Gore Verbinski</td>\n",
              "    </tr>\n",
              "  </tbody>\n",
              "</table>\n",
              "<p>10 rows × 21 columns</p>\n",
              "</div>\n",
              "    <div class=\"colab-df-buttons\">\n",
              "\n",
              "  <div class=\"colab-df-container\">\n",
              "    <button class=\"colab-df-convert\" onclick=\"convertToInteractive('df-6f65d62c-e860-46d4-8956-04dff447d006')\"\n",
              "            title=\"Convert this dataframe to an interactive table.\"\n",
              "            style=\"display:none;\">\n",
              "\n",
              "  <svg xmlns=\"http://www.w3.org/2000/svg\" height=\"24px\" viewBox=\"0 -960 960 960\">\n",
              "    <path d=\"M120-120v-720h720v720H120Zm60-500h600v-160H180v160Zm220 220h160v-160H400v160Zm0 220h160v-160H400v160ZM180-400h160v-160H180v160Zm440 0h160v-160H620v160ZM180-180h160v-160H180v160Zm440 0h160v-160H620v160Z\"/>\n",
              "  </svg>\n",
              "    </button>\n",
              "\n",
              "  <style>\n",
              "    .colab-df-container {\n",
              "      display:flex;\n",
              "      gap: 12px;\n",
              "    }\n",
              "\n",
              "    .colab-df-convert {\n",
              "      background-color: #E8F0FE;\n",
              "      border: none;\n",
              "      border-radius: 50%;\n",
              "      cursor: pointer;\n",
              "      display: none;\n",
              "      fill: #1967D2;\n",
              "      height: 32px;\n",
              "      padding: 0 0 0 0;\n",
              "      width: 32px;\n",
              "    }\n",
              "\n",
              "    .colab-df-convert:hover {\n",
              "      background-color: #E2EBFA;\n",
              "      box-shadow: 0px 1px 2px rgba(60, 64, 67, 0.3), 0px 1px 3px 1px rgba(60, 64, 67, 0.15);\n",
              "      fill: #174EA6;\n",
              "    }\n",
              "\n",
              "    .colab-df-buttons div {\n",
              "      margin-bottom: 4px;\n",
              "    }\n",
              "\n",
              "    [theme=dark] .colab-df-convert {\n",
              "      background-color: #3B4455;\n",
              "      fill: #D2E3FC;\n",
              "    }\n",
              "\n",
              "    [theme=dark] .colab-df-convert:hover {\n",
              "      background-color: #434B5C;\n",
              "      box-shadow: 0px 1px 3px 1px rgba(0, 0, 0, 0.15);\n",
              "      filter: drop-shadow(0px 1px 2px rgba(0, 0, 0, 0.3));\n",
              "      fill: #FFFFFF;\n",
              "    }\n",
              "  </style>\n",
              "\n",
              "    <script>\n",
              "      const buttonEl =\n",
              "        document.querySelector('#df-6f65d62c-e860-46d4-8956-04dff447d006 button.colab-df-convert');\n",
              "      buttonEl.style.display =\n",
              "        google.colab.kernel.accessAllowed ? 'block' : 'none';\n",
              "\n",
              "      async function convertToInteractive(key) {\n",
              "        const element = document.querySelector('#df-6f65d62c-e860-46d4-8956-04dff447d006');\n",
              "        const dataTable =\n",
              "          await google.colab.kernel.invokeFunction('convertToInteractive',\n",
              "                                                    [key], {});\n",
              "        if (!dataTable) return;\n",
              "\n",
              "        const docLinkHtml = 'Like what you see? Visit the ' +\n",
              "          '<a target=\"_blank\" href=https://colab.research.google.com/notebooks/data_table.ipynb>data table notebook</a>'\n",
              "          + ' to learn more about interactive tables.';\n",
              "        element.innerHTML = '';\n",
              "        dataTable['output_type'] = 'display_data';\n",
              "        await google.colab.output.renderOutput(dataTable, element);\n",
              "        const docLink = document.createElement('div');\n",
              "        docLink.innerHTML = docLinkHtml;\n",
              "        element.appendChild(docLink);\n",
              "      }\n",
              "    </script>\n",
              "  </div>\n",
              "\n",
              "\n",
              "<div id=\"df-55c07875-da96-4233-a25c-ae8441d8a843\">\n",
              "  <button class=\"colab-df-quickchart\" onclick=\"quickchart('df-55c07875-da96-4233-a25c-ae8441d8a843')\"\n",
              "            title=\"Suggest charts\"\n",
              "            style=\"display:none;\">\n",
              "\n",
              "<svg xmlns=\"http://www.w3.org/2000/svg\" height=\"24px\"viewBox=\"0 0 24 24\"\n",
              "     width=\"24px\">\n",
              "    <g>\n",
              "        <path d=\"M19 3H5c-1.1 0-2 .9-2 2v14c0 1.1.9 2 2 2h14c1.1 0 2-.9 2-2V5c0-1.1-.9-2-2-2zM9 17H7v-7h2v7zm4 0h-2V7h2v10zm4 0h-2v-4h2v4z\"/>\n",
              "    </g>\n",
              "</svg>\n",
              "  </button>\n",
              "\n",
              "<style>\n",
              "  .colab-df-quickchart {\n",
              "      --bg-color: #E8F0FE;\n",
              "      --fill-color: #1967D2;\n",
              "      --hover-bg-color: #E2EBFA;\n",
              "      --hover-fill-color: #174EA6;\n",
              "      --disabled-fill-color: #AAA;\n",
              "      --disabled-bg-color: #DDD;\n",
              "  }\n",
              "\n",
              "  [theme=dark] .colab-df-quickchart {\n",
              "      --bg-color: #3B4455;\n",
              "      --fill-color: #D2E3FC;\n",
              "      --hover-bg-color: #434B5C;\n",
              "      --hover-fill-color: #FFFFFF;\n",
              "      --disabled-bg-color: #3B4455;\n",
              "      --disabled-fill-color: #666;\n",
              "  }\n",
              "\n",
              "  .colab-df-quickchart {\n",
              "    background-color: var(--bg-color);\n",
              "    border: none;\n",
              "    border-radius: 50%;\n",
              "    cursor: pointer;\n",
              "    display: none;\n",
              "    fill: var(--fill-color);\n",
              "    height: 32px;\n",
              "    padding: 0;\n",
              "    width: 32px;\n",
              "  }\n",
              "\n",
              "  .colab-df-quickchart:hover {\n",
              "    background-color: var(--hover-bg-color);\n",
              "    box-shadow: 0 1px 2px rgba(60, 64, 67, 0.3), 0 1px 3px 1px rgba(60, 64, 67, 0.15);\n",
              "    fill: var(--button-hover-fill-color);\n",
              "  }\n",
              "\n",
              "  .colab-df-quickchart-complete:disabled,\n",
              "  .colab-df-quickchart-complete:disabled:hover {\n",
              "    background-color: var(--disabled-bg-color);\n",
              "    fill: var(--disabled-fill-color);\n",
              "    box-shadow: none;\n",
              "  }\n",
              "\n",
              "  .colab-df-spinner {\n",
              "    border: 2px solid var(--fill-color);\n",
              "    border-color: transparent;\n",
              "    border-bottom-color: var(--fill-color);\n",
              "    animation:\n",
              "      spin 1s steps(1) infinite;\n",
              "  }\n",
              "\n",
              "  @keyframes spin {\n",
              "    0% {\n",
              "      border-color: transparent;\n",
              "      border-bottom-color: var(--fill-color);\n",
              "      border-left-color: var(--fill-color);\n",
              "    }\n",
              "    20% {\n",
              "      border-color: transparent;\n",
              "      border-left-color: var(--fill-color);\n",
              "      border-top-color: var(--fill-color);\n",
              "    }\n",
              "    30% {\n",
              "      border-color: transparent;\n",
              "      border-left-color: var(--fill-color);\n",
              "      border-top-color: var(--fill-color);\n",
              "      border-right-color: var(--fill-color);\n",
              "    }\n",
              "    40% {\n",
              "      border-color: transparent;\n",
              "      border-right-color: var(--fill-color);\n",
              "      border-top-color: var(--fill-color);\n",
              "    }\n",
              "    60% {\n",
              "      border-color: transparent;\n",
              "      border-right-color: var(--fill-color);\n",
              "    }\n",
              "    80% {\n",
              "      border-color: transparent;\n",
              "      border-right-color: var(--fill-color);\n",
              "      border-bottom-color: var(--fill-color);\n",
              "    }\n",
              "    90% {\n",
              "      border-color: transparent;\n",
              "      border-bottom-color: var(--fill-color);\n",
              "    }\n",
              "  }\n",
              "</style>\n",
              "\n",
              "  <script>\n",
              "    async function quickchart(key) {\n",
              "      const quickchartButtonEl =\n",
              "        document.querySelector('#' + key + ' button');\n",
              "      quickchartButtonEl.disabled = true;  // To prevent multiple clicks.\n",
              "      quickchartButtonEl.classList.add('colab-df-spinner');\n",
              "      try {\n",
              "        const charts = await google.colab.kernel.invokeFunction(\n",
              "            'suggestCharts', [key], {});\n",
              "      } catch (error) {\n",
              "        console.error('Error during call to suggestCharts:', error);\n",
              "      }\n",
              "      quickchartButtonEl.classList.remove('colab-df-spinner');\n",
              "      quickchartButtonEl.classList.add('colab-df-quickchart-complete');\n",
              "    }\n",
              "    (() => {\n",
              "      let quickchartButtonEl =\n",
              "        document.querySelector('#df-55c07875-da96-4233-a25c-ae8441d8a843 button');\n",
              "      quickchartButtonEl.style.display =\n",
              "        google.colab.kernel.accessAllowed ? 'block' : 'none';\n",
              "    })();\n",
              "  </script>\n",
              "</div>\n",
              "\n",
              "    </div>\n",
              "  </div>\n"
            ],
            "application/vnd.google.colaboratory.intrinsic+json": {
              "type": "dataframe",
              "variable_name": "df"
            }
          },
          "metadata": {},
          "execution_count": 5
        }
      ]
    },
    {
      "cell_type": "markdown",
      "source": [
        "**Describe Data:**"
      ],
      "metadata": {
        "id": "YdSgOg7Yd9AA"
      }
    },
    {
      "cell_type": "code",
      "source": [
        "df.info()"
      ],
      "metadata": {
        "colab": {
          "base_uri": "https://localhost:8080/"
        },
        "id": "YKvLmHyxcmcM",
        "outputId": "55b47c48-a6a4-43e0-b2a0-75c6d23ab94d"
      },
      "execution_count": 6,
      "outputs": [
        {
          "output_type": "stream",
          "name": "stdout",
          "text": [
            "<class 'pandas.core.frame.DataFrame'>\n",
            "RangeIndex: 4760 entries, 0 to 4759\n",
            "Data columns (total 21 columns):\n",
            " #   Column                    Non-Null Count  Dtype  \n",
            "---  ------                    --------------  -----  \n",
            " 0   Movie_ID                  4760 non-null   int64  \n",
            " 1   Movie_Title               4760 non-null   object \n",
            " 2   Movie_Genre               4760 non-null   object \n",
            " 3   Movie_Language            4760 non-null   object \n",
            " 4   Movie_Budget              4760 non-null   int64  \n",
            " 5   Movie_Popularity          4760 non-null   float64\n",
            " 6   Movie_Release_Date        4760 non-null   object \n",
            " 7   Movie_Revenue             4760 non-null   int64  \n",
            " 8   Movie_Runtime             4758 non-null   float64\n",
            " 9   Movie_Vote                4760 non-null   float64\n",
            " 10  Movie_Vote_Count          4760 non-null   int64  \n",
            " 11  Movie_Homepage            1699 non-null   object \n",
            " 12  Movie_Keywords            4373 non-null   object \n",
            " 13  Movie_Overview            4757 non-null   object \n",
            " 14  Movie_Production_House    4760 non-null   object \n",
            " 15  Movie_Production_Country  4760 non-null   object \n",
            " 16  Movie_Spoken_Language     4760 non-null   object \n",
            " 17  Movie_Tagline             3942 non-null   object \n",
            " 18  Movie_Cast                4733 non-null   object \n",
            " 19  Movie_Crew                4760 non-null   object \n",
            " 20  Movie_Director            4738 non-null   object \n",
            "dtypes: float64(3), int64(4), object(14)\n",
            "memory usage: 781.1+ KB\n"
          ]
        }
      ]
    },
    {
      "cell_type": "code",
      "source": [
        "df.shape"
      ],
      "metadata": {
        "colab": {
          "base_uri": "https://localhost:8080/"
        },
        "id": "cijijAEgcmfP",
        "outputId": "4c9d29f5-6bc3-4df9-c25b-6f4bc1160bfa"
      },
      "execution_count": 7,
      "outputs": [
        {
          "output_type": "execute_result",
          "data": {
            "text/plain": [
              "(4760, 21)"
            ]
          },
          "metadata": {},
          "execution_count": 7
        }
      ]
    },
    {
      "cell_type": "code",
      "source": [
        "df.columns"
      ],
      "metadata": {
        "colab": {
          "base_uri": "https://localhost:8080/"
        },
        "id": "OL78_A2lcmh4",
        "outputId": "5ed3298a-204f-46e9-ce56-d246a7f10c5f"
      },
      "execution_count": 8,
      "outputs": [
        {
          "output_type": "execute_result",
          "data": {
            "text/plain": [
              "Index(['Movie_ID', 'Movie_Title', 'Movie_Genre', 'Movie_Language',\n",
              "       'Movie_Budget', 'Movie_Popularity', 'Movie_Release_Date',\n",
              "       'Movie_Revenue', 'Movie_Runtime', 'Movie_Vote', 'Movie_Vote_Count',\n",
              "       'Movie_Homepage', 'Movie_Keywords', 'Movie_Overview',\n",
              "       'Movie_Production_House', 'Movie_Production_Country',\n",
              "       'Movie_Spoken_Language', 'Movie_Tagline', 'Movie_Cast', 'Movie_Crew',\n",
              "       'Movie_Director'],\n",
              "      dtype='object')"
            ]
          },
          "metadata": {},
          "execution_count": 8
        }
      ]
    },
    {
      "cell_type": "markdown",
      "source": [
        "Get Feature Selection:"
      ],
      "metadata": {
        "id": "4NZRMr5QsfXL"
      }
    },
    {
      "cell_type": "code",
      "source": [
        "df_features = df[['Movie_Genre','Movie_Keywords','Movie_Tagline','Movie_Cast','Movie_Director']].fillna('')"
      ],
      "metadata": {
        "id": "zdSCuNvFcmkg"
      },
      "execution_count": 12,
      "outputs": []
    },
    {
      "cell_type": "code",
      "source": [
        "df_features.shape"
      ],
      "metadata": {
        "colab": {
          "base_uri": "https://localhost:8080/"
        },
        "id": "JiYffojet6_t",
        "outputId": "40f3c778-aa80-4d6f-d143-798727c726c6"
      },
      "execution_count": 13,
      "outputs": [
        {
          "output_type": "execute_result",
          "data": {
            "text/plain": [
              "(4760, 5)"
            ]
          },
          "metadata": {},
          "execution_count": 13
        }
      ]
    },
    {
      "cell_type": "code",
      "source": [
        "df_features"
      ],
      "metadata": {
        "colab": {
          "base_uri": "https://localhost:8080/",
          "height": 580
        },
        "id": "SBIozBNwt7EX",
        "outputId": "291c673e-1d95-4961-dfdf-86209e40a1b9"
      },
      "execution_count": 14,
      "outputs": [
        {
          "output_type": "execute_result",
          "data": {
            "text/plain": [
              "                           Movie_Genre  \\\n",
              "0                         Crime Comedy   \n",
              "1     Adventure Action Science Fiction   \n",
              "2                     Animation Family   \n",
              "3                 Comedy Drama Romance   \n",
              "4                                Drama   \n",
              "...                                ...   \n",
              "4755                            Horror   \n",
              "4756               Comedy Family Drama   \n",
              "4757                    Thriller Drama   \n",
              "4758                            Family   \n",
              "4759                       Documentary   \n",
              "\n",
              "                                         Movie_Keywords  \\\n",
              "0             hotel new year's eve witch bet hotel room   \n",
              "1           android galaxy hermit death star lightsaber   \n",
              "2     father son relationship harbor underwater fish...   \n",
              "3     vietnam veteran hippie mentally disabled runni...   \n",
              "4     male nudity female nudity adultery midlife cri...   \n",
              "...                                                 ...   \n",
              "4755                                                      \n",
              "4756                                                      \n",
              "4757                     christian film sex trafficking   \n",
              "4758                                                      \n",
              "4759  music actors legendary perfomer classic hollyw...   \n",
              "\n",
              "                                          Movie_Tagline  \\\n",
              "0     Twelve outrageous guests. Four scandalous requ...   \n",
              "1          A long time ago in a galaxy far, far away...   \n",
              "2     There are 3.7 trillion fish in the ocean, they...   \n",
              "3     The world will never be the same, once you've ...   \n",
              "4                                          Look closer.   \n",
              "...                                                 ...   \n",
              "4755                The hot spot where Satan's waitin'.   \n",
              "4756           It’s better to stand out than to fit in.   \n",
              "4757           She never knew it could happen to her...   \n",
              "4758                                                      \n",
              "4759                                                      \n",
              "\n",
              "                                             Movie_Cast     Movie_Director  \n",
              "0     Tim Roth Antonio Banderas Jennifer Beals Madon...     Allison Anders  \n",
              "1     Mark Hamill Harrison Ford Carrie Fisher Peter ...       George Lucas  \n",
              "2     Albert Brooks Ellen DeGeneres Alexander Gould ...     Andrew Stanton  \n",
              "3     Tom Hanks Robin Wright Gary Sinise Mykelti Wil...    Robert Zemeckis  \n",
              "4     Kevin Spacey Annette Bening Thora Birch Wes Be...         Sam Mendes  \n",
              "...                                                 ...                ...  \n",
              "4755  Lisa Hart Carroll Michael Des Barres Paul Drak...         Pece Dingo  \n",
              "4756  Roni Akurati Brighton Sharbino Jason Lee Anjul...       Frank Lotito  \n",
              "4757  Nicole Smolen Kim Baldwin Ariana Stephens Brys...       Jaco Booyens  \n",
              "4758                                                                        \n",
              "4759                                    Tony Oppedisano  Simon Napier-Bell  \n",
              "\n",
              "[4760 rows x 5 columns]"
            ],
            "text/html": [
              "\n",
              "  <div id=\"df-c800088b-7167-4f29-97f6-56b00a3b0b29\" class=\"colab-df-container\">\n",
              "    <div>\n",
              "<style scoped>\n",
              "    .dataframe tbody tr th:only-of-type {\n",
              "        vertical-align: middle;\n",
              "    }\n",
              "\n",
              "    .dataframe tbody tr th {\n",
              "        vertical-align: top;\n",
              "    }\n",
              "\n",
              "    .dataframe thead th {\n",
              "        text-align: right;\n",
              "    }\n",
              "</style>\n",
              "<table border=\"1\" class=\"dataframe\">\n",
              "  <thead>\n",
              "    <tr style=\"text-align: right;\">\n",
              "      <th></th>\n",
              "      <th>Movie_Genre</th>\n",
              "      <th>Movie_Keywords</th>\n",
              "      <th>Movie_Tagline</th>\n",
              "      <th>Movie_Cast</th>\n",
              "      <th>Movie_Director</th>\n",
              "    </tr>\n",
              "  </thead>\n",
              "  <tbody>\n",
              "    <tr>\n",
              "      <th>0</th>\n",
              "      <td>Crime Comedy</td>\n",
              "      <td>hotel new year's eve witch bet hotel room</td>\n",
              "      <td>Twelve outrageous guests. Four scandalous requ...</td>\n",
              "      <td>Tim Roth Antonio Banderas Jennifer Beals Madon...</td>\n",
              "      <td>Allison Anders</td>\n",
              "    </tr>\n",
              "    <tr>\n",
              "      <th>1</th>\n",
              "      <td>Adventure Action Science Fiction</td>\n",
              "      <td>android galaxy hermit death star lightsaber</td>\n",
              "      <td>A long time ago in a galaxy far, far away...</td>\n",
              "      <td>Mark Hamill Harrison Ford Carrie Fisher Peter ...</td>\n",
              "      <td>George Lucas</td>\n",
              "    </tr>\n",
              "    <tr>\n",
              "      <th>2</th>\n",
              "      <td>Animation Family</td>\n",
              "      <td>father son relationship harbor underwater fish...</td>\n",
              "      <td>There are 3.7 trillion fish in the ocean, they...</td>\n",
              "      <td>Albert Brooks Ellen DeGeneres Alexander Gould ...</td>\n",
              "      <td>Andrew Stanton</td>\n",
              "    </tr>\n",
              "    <tr>\n",
              "      <th>3</th>\n",
              "      <td>Comedy Drama Romance</td>\n",
              "      <td>vietnam veteran hippie mentally disabled runni...</td>\n",
              "      <td>The world will never be the same, once you've ...</td>\n",
              "      <td>Tom Hanks Robin Wright Gary Sinise Mykelti Wil...</td>\n",
              "      <td>Robert Zemeckis</td>\n",
              "    </tr>\n",
              "    <tr>\n",
              "      <th>4</th>\n",
              "      <td>Drama</td>\n",
              "      <td>male nudity female nudity adultery midlife cri...</td>\n",
              "      <td>Look closer.</td>\n",
              "      <td>Kevin Spacey Annette Bening Thora Birch Wes Be...</td>\n",
              "      <td>Sam Mendes</td>\n",
              "    </tr>\n",
              "    <tr>\n",
              "      <th>...</th>\n",
              "      <td>...</td>\n",
              "      <td>...</td>\n",
              "      <td>...</td>\n",
              "      <td>...</td>\n",
              "      <td>...</td>\n",
              "    </tr>\n",
              "    <tr>\n",
              "      <th>4755</th>\n",
              "      <td>Horror</td>\n",
              "      <td></td>\n",
              "      <td>The hot spot where Satan's waitin'.</td>\n",
              "      <td>Lisa Hart Carroll Michael Des Barres Paul Drak...</td>\n",
              "      <td>Pece Dingo</td>\n",
              "    </tr>\n",
              "    <tr>\n",
              "      <th>4756</th>\n",
              "      <td>Comedy Family Drama</td>\n",
              "      <td></td>\n",
              "      <td>It’s better to stand out than to fit in.</td>\n",
              "      <td>Roni Akurati Brighton Sharbino Jason Lee Anjul...</td>\n",
              "      <td>Frank Lotito</td>\n",
              "    </tr>\n",
              "    <tr>\n",
              "      <th>4757</th>\n",
              "      <td>Thriller Drama</td>\n",
              "      <td>christian film sex trafficking</td>\n",
              "      <td>She never knew it could happen to her...</td>\n",
              "      <td>Nicole Smolen Kim Baldwin Ariana Stephens Brys...</td>\n",
              "      <td>Jaco Booyens</td>\n",
              "    </tr>\n",
              "    <tr>\n",
              "      <th>4758</th>\n",
              "      <td>Family</td>\n",
              "      <td></td>\n",
              "      <td></td>\n",
              "      <td></td>\n",
              "      <td></td>\n",
              "    </tr>\n",
              "    <tr>\n",
              "      <th>4759</th>\n",
              "      <td>Documentary</td>\n",
              "      <td>music actors legendary perfomer classic hollyw...</td>\n",
              "      <td></td>\n",
              "      <td>Tony Oppedisano</td>\n",
              "      <td>Simon Napier-Bell</td>\n",
              "    </tr>\n",
              "  </tbody>\n",
              "</table>\n",
              "<p>4760 rows × 5 columns</p>\n",
              "</div>\n",
              "    <div class=\"colab-df-buttons\">\n",
              "\n",
              "  <div class=\"colab-df-container\">\n",
              "    <button class=\"colab-df-convert\" onclick=\"convertToInteractive('df-c800088b-7167-4f29-97f6-56b00a3b0b29')\"\n",
              "            title=\"Convert this dataframe to an interactive table.\"\n",
              "            style=\"display:none;\">\n",
              "\n",
              "  <svg xmlns=\"http://www.w3.org/2000/svg\" height=\"24px\" viewBox=\"0 -960 960 960\">\n",
              "    <path d=\"M120-120v-720h720v720H120Zm60-500h600v-160H180v160Zm220 220h160v-160H400v160Zm0 220h160v-160H400v160ZM180-400h160v-160H180v160Zm440 0h160v-160H620v160ZM180-180h160v-160H180v160Zm440 0h160v-160H620v160Z\"/>\n",
              "  </svg>\n",
              "    </button>\n",
              "\n",
              "  <style>\n",
              "    .colab-df-container {\n",
              "      display:flex;\n",
              "      gap: 12px;\n",
              "    }\n",
              "\n",
              "    .colab-df-convert {\n",
              "      background-color: #E8F0FE;\n",
              "      border: none;\n",
              "      border-radius: 50%;\n",
              "      cursor: pointer;\n",
              "      display: none;\n",
              "      fill: #1967D2;\n",
              "      height: 32px;\n",
              "      padding: 0 0 0 0;\n",
              "      width: 32px;\n",
              "    }\n",
              "\n",
              "    .colab-df-convert:hover {\n",
              "      background-color: #E2EBFA;\n",
              "      box-shadow: 0px 1px 2px rgba(60, 64, 67, 0.3), 0px 1px 3px 1px rgba(60, 64, 67, 0.15);\n",
              "      fill: #174EA6;\n",
              "    }\n",
              "\n",
              "    .colab-df-buttons div {\n",
              "      margin-bottom: 4px;\n",
              "    }\n",
              "\n",
              "    [theme=dark] .colab-df-convert {\n",
              "      background-color: #3B4455;\n",
              "      fill: #D2E3FC;\n",
              "    }\n",
              "\n",
              "    [theme=dark] .colab-df-convert:hover {\n",
              "      background-color: #434B5C;\n",
              "      box-shadow: 0px 1px 3px 1px rgba(0, 0, 0, 0.15);\n",
              "      filter: drop-shadow(0px 1px 2px rgba(0, 0, 0, 0.3));\n",
              "      fill: #FFFFFF;\n",
              "    }\n",
              "  </style>\n",
              "\n",
              "    <script>\n",
              "      const buttonEl =\n",
              "        document.querySelector('#df-c800088b-7167-4f29-97f6-56b00a3b0b29 button.colab-df-convert');\n",
              "      buttonEl.style.display =\n",
              "        google.colab.kernel.accessAllowed ? 'block' : 'none';\n",
              "\n",
              "      async function convertToInteractive(key) {\n",
              "        const element = document.querySelector('#df-c800088b-7167-4f29-97f6-56b00a3b0b29');\n",
              "        const dataTable =\n",
              "          await google.colab.kernel.invokeFunction('convertToInteractive',\n",
              "                                                    [key], {});\n",
              "        if (!dataTable) return;\n",
              "\n",
              "        const docLinkHtml = 'Like what you see? Visit the ' +\n",
              "          '<a target=\"_blank\" href=https://colab.research.google.com/notebooks/data_table.ipynb>data table notebook</a>'\n",
              "          + ' to learn more about interactive tables.';\n",
              "        element.innerHTML = '';\n",
              "        dataTable['output_type'] = 'display_data';\n",
              "        await google.colab.output.renderOutput(dataTable, element);\n",
              "        const docLink = document.createElement('div');\n",
              "        docLink.innerHTML = docLinkHtml;\n",
              "        element.appendChild(docLink);\n",
              "      }\n",
              "    </script>\n",
              "  </div>\n",
              "\n",
              "\n",
              "<div id=\"df-c600115d-a753-4762-a81c-ae4bb4eb1435\">\n",
              "  <button class=\"colab-df-quickchart\" onclick=\"quickchart('df-c600115d-a753-4762-a81c-ae4bb4eb1435')\"\n",
              "            title=\"Suggest charts\"\n",
              "            style=\"display:none;\">\n",
              "\n",
              "<svg xmlns=\"http://www.w3.org/2000/svg\" height=\"24px\"viewBox=\"0 0 24 24\"\n",
              "     width=\"24px\">\n",
              "    <g>\n",
              "        <path d=\"M19 3H5c-1.1 0-2 .9-2 2v14c0 1.1.9 2 2 2h14c1.1 0 2-.9 2-2V5c0-1.1-.9-2-2-2zM9 17H7v-7h2v7zm4 0h-2V7h2v10zm4 0h-2v-4h2v4z\"/>\n",
              "    </g>\n",
              "</svg>\n",
              "  </button>\n",
              "\n",
              "<style>\n",
              "  .colab-df-quickchart {\n",
              "      --bg-color: #E8F0FE;\n",
              "      --fill-color: #1967D2;\n",
              "      --hover-bg-color: #E2EBFA;\n",
              "      --hover-fill-color: #174EA6;\n",
              "      --disabled-fill-color: #AAA;\n",
              "      --disabled-bg-color: #DDD;\n",
              "  }\n",
              "\n",
              "  [theme=dark] .colab-df-quickchart {\n",
              "      --bg-color: #3B4455;\n",
              "      --fill-color: #D2E3FC;\n",
              "      --hover-bg-color: #434B5C;\n",
              "      --hover-fill-color: #FFFFFF;\n",
              "      --disabled-bg-color: #3B4455;\n",
              "      --disabled-fill-color: #666;\n",
              "  }\n",
              "\n",
              "  .colab-df-quickchart {\n",
              "    background-color: var(--bg-color);\n",
              "    border: none;\n",
              "    border-radius: 50%;\n",
              "    cursor: pointer;\n",
              "    display: none;\n",
              "    fill: var(--fill-color);\n",
              "    height: 32px;\n",
              "    padding: 0;\n",
              "    width: 32px;\n",
              "  }\n",
              "\n",
              "  .colab-df-quickchart:hover {\n",
              "    background-color: var(--hover-bg-color);\n",
              "    box-shadow: 0 1px 2px rgba(60, 64, 67, 0.3), 0 1px 3px 1px rgba(60, 64, 67, 0.15);\n",
              "    fill: var(--button-hover-fill-color);\n",
              "  }\n",
              "\n",
              "  .colab-df-quickchart-complete:disabled,\n",
              "  .colab-df-quickchart-complete:disabled:hover {\n",
              "    background-color: var(--disabled-bg-color);\n",
              "    fill: var(--disabled-fill-color);\n",
              "    box-shadow: none;\n",
              "  }\n",
              "\n",
              "  .colab-df-spinner {\n",
              "    border: 2px solid var(--fill-color);\n",
              "    border-color: transparent;\n",
              "    border-bottom-color: var(--fill-color);\n",
              "    animation:\n",
              "      spin 1s steps(1) infinite;\n",
              "  }\n",
              "\n",
              "  @keyframes spin {\n",
              "    0% {\n",
              "      border-color: transparent;\n",
              "      border-bottom-color: var(--fill-color);\n",
              "      border-left-color: var(--fill-color);\n",
              "    }\n",
              "    20% {\n",
              "      border-color: transparent;\n",
              "      border-left-color: var(--fill-color);\n",
              "      border-top-color: var(--fill-color);\n",
              "    }\n",
              "    30% {\n",
              "      border-color: transparent;\n",
              "      border-left-color: var(--fill-color);\n",
              "      border-top-color: var(--fill-color);\n",
              "      border-right-color: var(--fill-color);\n",
              "    }\n",
              "    40% {\n",
              "      border-color: transparent;\n",
              "      border-right-color: var(--fill-color);\n",
              "      border-top-color: var(--fill-color);\n",
              "    }\n",
              "    60% {\n",
              "      border-color: transparent;\n",
              "      border-right-color: var(--fill-color);\n",
              "    }\n",
              "    80% {\n",
              "      border-color: transparent;\n",
              "      border-right-color: var(--fill-color);\n",
              "      border-bottom-color: var(--fill-color);\n",
              "    }\n",
              "    90% {\n",
              "      border-color: transparent;\n",
              "      border-bottom-color: var(--fill-color);\n",
              "    }\n",
              "  }\n",
              "</style>\n",
              "\n",
              "  <script>\n",
              "    async function quickchart(key) {\n",
              "      const quickchartButtonEl =\n",
              "        document.querySelector('#' + key + ' button');\n",
              "      quickchartButtonEl.disabled = true;  // To prevent multiple clicks.\n",
              "      quickchartButtonEl.classList.add('colab-df-spinner');\n",
              "      try {\n",
              "        const charts = await google.colab.kernel.invokeFunction(\n",
              "            'suggestCharts', [key], {});\n",
              "      } catch (error) {\n",
              "        console.error('Error during call to suggestCharts:', error);\n",
              "      }\n",
              "      quickchartButtonEl.classList.remove('colab-df-spinner');\n",
              "      quickchartButtonEl.classList.add('colab-df-quickchart-complete');\n",
              "    }\n",
              "    (() => {\n",
              "      let quickchartButtonEl =\n",
              "        document.querySelector('#df-c600115d-a753-4762-a81c-ae4bb4eb1435 button');\n",
              "      quickchartButtonEl.style.display =\n",
              "        google.colab.kernel.accessAllowed ? 'block' : 'none';\n",
              "    })();\n",
              "  </script>\n",
              "</div>\n",
              "\n",
              "  <div id=\"id_3308955a-af09-4e83-bb61-0479d8919b58\">\n",
              "    <style>\n",
              "      .colab-df-generate {\n",
              "        background-color: #E8F0FE;\n",
              "        border: none;\n",
              "        border-radius: 50%;\n",
              "        cursor: pointer;\n",
              "        display: none;\n",
              "        fill: #1967D2;\n",
              "        height: 32px;\n",
              "        padding: 0 0 0 0;\n",
              "        width: 32px;\n",
              "      }\n",
              "\n",
              "      .colab-df-generate:hover {\n",
              "        background-color: #E2EBFA;\n",
              "        box-shadow: 0px 1px 2px rgba(60, 64, 67, 0.3), 0px 1px 3px 1px rgba(60, 64, 67, 0.15);\n",
              "        fill: #174EA6;\n",
              "      }\n",
              "\n",
              "      [theme=dark] .colab-df-generate {\n",
              "        background-color: #3B4455;\n",
              "        fill: #D2E3FC;\n",
              "      }\n",
              "\n",
              "      [theme=dark] .colab-df-generate:hover {\n",
              "        background-color: #434B5C;\n",
              "        box-shadow: 0px 1px 3px 1px rgba(0, 0, 0, 0.15);\n",
              "        filter: drop-shadow(0px 1px 2px rgba(0, 0, 0, 0.3));\n",
              "        fill: #FFFFFF;\n",
              "      }\n",
              "    </style>\n",
              "    <button class=\"colab-df-generate\" onclick=\"generateWithVariable('df_features')\"\n",
              "            title=\"Generate code using this dataframe.\"\n",
              "            style=\"display:none;\">\n",
              "\n",
              "  <svg xmlns=\"http://www.w3.org/2000/svg\" height=\"24px\"viewBox=\"0 0 24 24\"\n",
              "       width=\"24px\">\n",
              "    <path d=\"M7,19H8.4L18.45,9,17,7.55,7,17.6ZM5,21V16.75L18.45,3.32a2,2,0,0,1,2.83,0l1.4,1.43a1.91,1.91,0,0,1,.58,1.4,1.91,1.91,0,0,1-.58,1.4L9.25,21ZM18.45,9,17,7.55Zm-12,3A5.31,5.31,0,0,0,4.9,8.1,5.31,5.31,0,0,0,1,6.5,5.31,5.31,0,0,0,4.9,4.9,5.31,5.31,0,0,0,6.5,1,5.31,5.31,0,0,0,8.1,4.9,5.31,5.31,0,0,0,12,6.5,5.46,5.46,0,0,0,6.5,12Z\"/>\n",
              "  </svg>\n",
              "    </button>\n",
              "    <script>\n",
              "      (() => {\n",
              "      const buttonEl =\n",
              "        document.querySelector('#id_3308955a-af09-4e83-bb61-0479d8919b58 button.colab-df-generate');\n",
              "      buttonEl.style.display =\n",
              "        google.colab.kernel.accessAllowed ? 'block' : 'none';\n",
              "\n",
              "      buttonEl.onclick = () => {\n",
              "        google.colab.notebook.generateWithVariable('df_features');\n",
              "      }\n",
              "      })();\n",
              "    </script>\n",
              "  </div>\n",
              "\n",
              "    </div>\n",
              "  </div>\n"
            ],
            "application/vnd.google.colaboratory.intrinsic+json": {
              "type": "dataframe",
              "variable_name": "df_features",
              "summary": "{\n  \"name\": \"df_features\",\n  \"rows\": 4760,\n  \"fields\": [\n    {\n      \"column\": \"Movie_Genre\",\n      \"properties\": {\n        \"dtype\": \"category\",\n        \"num_unique_values\": 1164,\n        \"samples\": [\n          \"Family Animation Adventure\",\n          \"Adventure Science Fiction Action\",\n          \"Action Crime Drama Romance Thriller\"\n        ],\n        \"semantic_type\": \"\",\n        \"description\": \"\"\n      }\n    },\n    {\n      \"column\": \"Movie_Keywords\",\n      \"properties\": {\n        \"dtype\": \"string\",\n        \"num_unique_values\": 4203,\n        \"samples\": [\n          \"canada nazis sequel spin off ancient evil\",\n          \"sex professor wedding woman director columbia university\",\n          \"prophecy sea beach gold small town\"\n        ],\n        \"semantic_type\": \"\",\n        \"description\": \"\"\n      }\n    },\n    {\n      \"column\": \"Movie_Tagline\",\n      \"properties\": {\n        \"dtype\": \"string\",\n        \"num_unique_values\": 3928,\n        \"samples\": [\n          \"The messenger must be silenced.\",\n          \"It's not the house that's haunted.\",\n          \"The final hunt begins.\"\n        ],\n        \"semantic_type\": \"\",\n        \"description\": \"\"\n      }\n    },\n    {\n      \"column\": \"Movie_Cast\",\n      \"properties\": {\n        \"dtype\": \"string\",\n        \"num_unique_values\": 4715,\n        \"samples\": [\n          \"Robin Tunney Fairuza Balk Neve Campbell Rachel True Skeet Ulrich\",\n          \"Peter Sellers Christopher Plummer Herbert Lom Catherine Schell Peter Arne\",\n          \"John Wayne Laraine Day Cedric Hardwicke Judith Anderson Anthony Quinn\"\n        ],\n        \"semantic_type\": \"\",\n        \"description\": \"\"\n      }\n    },\n    {\n      \"column\": \"Movie_Director\",\n      \"properties\": {\n        \"dtype\": \"category\",\n        \"num_unique_values\": 2332,\n        \"samples\": [\n          \"Rob McKittrick\",\n          \"Terron R. Parsons\",\n          \"Cyrus Nowrasteh\"\n        ],\n        \"semantic_type\": \"\",\n        \"description\": \"\"\n      }\n    }\n  ]\n}"
            }
          },
          "metadata": {},
          "execution_count": 14
        }
      ]
    },
    {
      "cell_type": "code",
      "source": [
        "x = df_features['Movie_Genre'] + ' ' + df_features['Movie_Keywords'] + ' ' + df_features['Movie_Tagline'] + ' ' + df_features['Movie_Cast'] + ' ' + df_features['Movie_Director']"
      ],
      "metadata": {
        "id": "0GDorXn2t7I5"
      },
      "execution_count": 15,
      "outputs": []
    },
    {
      "cell_type": "code",
      "source": [
        "x"
      ],
      "metadata": {
        "colab": {
          "base_uri": "https://localhost:8080/",
          "height": 458
        },
        "id": "51-5Z4NiuNAB",
        "outputId": "38486c53-9101-403a-a5c3-5b4b10362307"
      },
      "execution_count": 16,
      "outputs": [
        {
          "output_type": "execute_result",
          "data": {
            "text/plain": [
              "0       Crime Comedy hotel new year's eve witch bet ho...\n",
              "1       Adventure Action Science Fiction android galax...\n",
              "2       Animation Family father son relationship harbo...\n",
              "3       Comedy Drama Romance vietnam veteran hippie me...\n",
              "4       Drama male nudity female nudity adultery midli...\n",
              "                              ...                        \n",
              "4755    Horror  The hot spot where Satan's waitin'. Li...\n",
              "4756    Comedy Family Drama  It’s better to stand out ...\n",
              "4757    Thriller Drama christian film sex trafficking ...\n",
              "4758                                           Family    \n",
              "4759    Documentary music actors legendary perfomer cl...\n",
              "Length: 4760, dtype: object"
            ],
            "text/html": [
              "<div>\n",
              "<style scoped>\n",
              "    .dataframe tbody tr th:only-of-type {\n",
              "        vertical-align: middle;\n",
              "    }\n",
              "\n",
              "    .dataframe tbody tr th {\n",
              "        vertical-align: top;\n",
              "    }\n",
              "\n",
              "    .dataframe thead th {\n",
              "        text-align: right;\n",
              "    }\n",
              "</style>\n",
              "<table border=\"1\" class=\"dataframe\">\n",
              "  <thead>\n",
              "    <tr style=\"text-align: right;\">\n",
              "      <th></th>\n",
              "      <th>0</th>\n",
              "    </tr>\n",
              "  </thead>\n",
              "  <tbody>\n",
              "    <tr>\n",
              "      <th>0</th>\n",
              "      <td>Crime Comedy hotel new year's eve witch bet ho...</td>\n",
              "    </tr>\n",
              "    <tr>\n",
              "      <th>1</th>\n",
              "      <td>Adventure Action Science Fiction android galax...</td>\n",
              "    </tr>\n",
              "    <tr>\n",
              "      <th>2</th>\n",
              "      <td>Animation Family father son relationship harbo...</td>\n",
              "    </tr>\n",
              "    <tr>\n",
              "      <th>3</th>\n",
              "      <td>Comedy Drama Romance vietnam veteran hippie me...</td>\n",
              "    </tr>\n",
              "    <tr>\n",
              "      <th>4</th>\n",
              "      <td>Drama male nudity female nudity adultery midli...</td>\n",
              "    </tr>\n",
              "    <tr>\n",
              "      <th>...</th>\n",
              "      <td>...</td>\n",
              "    </tr>\n",
              "    <tr>\n",
              "      <th>4755</th>\n",
              "      <td>Horror  The hot spot where Satan's waitin'. Li...</td>\n",
              "    </tr>\n",
              "    <tr>\n",
              "      <th>4756</th>\n",
              "      <td>Comedy Family Drama  It’s better to stand out ...</td>\n",
              "    </tr>\n",
              "    <tr>\n",
              "      <th>4757</th>\n",
              "      <td>Thriller Drama christian film sex trafficking ...</td>\n",
              "    </tr>\n",
              "    <tr>\n",
              "      <th>4758</th>\n",
              "      <td>Family</td>\n",
              "    </tr>\n",
              "    <tr>\n",
              "      <th>4759</th>\n",
              "      <td>Documentary music actors legendary perfomer cl...</td>\n",
              "    </tr>\n",
              "  </tbody>\n",
              "</table>\n",
              "<p>4760 rows × 1 columns</p>\n",
              "</div><br><label><b>dtype:</b> object</label>"
            ]
          },
          "metadata": {},
          "execution_count": 16
        }
      ]
    },
    {
      "cell_type": "code",
      "source": [
        "x.shape\n"
      ],
      "metadata": {
        "colab": {
          "base_uri": "https://localhost:8080/"
        },
        "id": "mBwwAZoUuNDj",
        "outputId": "98224185-e2d5-4a57-bbe6-2b4245851d15"
      },
      "execution_count": 17,
      "outputs": [
        {
          "output_type": "execute_result",
          "data": {
            "text/plain": [
              "(4760,)"
            ]
          },
          "metadata": {},
          "execution_count": 17
        }
      ]
    },
    {
      "cell_type": "markdown",
      "source": [
        "**Data Preprocessing:**"
      ],
      "metadata": {
        "id": "Zy1JdblR6YBz"
      }
    },
    {
      "cell_type": "markdown",
      "source": [
        "**Get Feature Text Conversion To Tokens**"
      ],
      "metadata": {
        "id": "D28ltLgwuifv"
      }
    },
    {
      "cell_type": "code",
      "source": [
        "from sklearn.feature_extraction.text import TfidfVectorizer"
      ],
      "metadata": {
        "id": "bIKHDiLPuNOY"
      },
      "execution_count": 18,
      "outputs": []
    },
    {
      "cell_type": "code",
      "source": [
        "tfidf = TfidfVectorizer()"
      ],
      "metadata": {
        "id": "7qsnTdkhuNSi"
      },
      "execution_count": 20,
      "outputs": []
    },
    {
      "cell_type": "code",
      "source": [
        "x= tfidf.fit_transform(x)"
      ],
      "metadata": {
        "id": "Q0SY-_cVu9-W"
      },
      "execution_count": 21,
      "outputs": []
    },
    {
      "cell_type": "code",
      "source": [
        "x.shape"
      ],
      "metadata": {
        "colab": {
          "base_uri": "https://localhost:8080/"
        },
        "id": "bFk6XcCvvLUm",
        "outputId": "16ae5eb2-597b-49cc-80ea-0cb9ac1c1294"
      },
      "execution_count": 22,
      "outputs": [
        {
          "output_type": "execute_result",
          "data": {
            "text/plain": [
              "(4760, 17258)"
            ]
          },
          "metadata": {},
          "execution_count": 22
        }
      ]
    },
    {
      "cell_type": "code",
      "source": [
        "print(x)"
      ],
      "metadata": {
        "colab": {
          "base_uri": "https://localhost:8080/"
        },
        "id": "Z8eVfdmcvLXz",
        "outputId": "05a854a0-2ea5-4a03-f37f-8627d06cf64c"
      },
      "execution_count": 23,
      "outputs": [
        {
          "output_type": "stream",
          "name": "stdout",
          "text": [
            "  (0, 3583)\t0.06486754376295062\n",
            "  (0, 3240)\t0.04527089872278055\n",
            "  (0, 7213)\t0.25146675849405775\n",
            "  (0, 10898)\t0.17625708810661284\n",
            "  (0, 17052)\t0.26079573581490934\n",
            "  (0, 5059)\t0.29553419178998613\n",
            "  (0, 16862)\t0.12768803549311025\n",
            "  (0, 1595)\t0.15687561633854538\n",
            "  (0, 13052)\t0.1465525095337543\n",
            "  (0, 15708)\t0.17654247479915475\n",
            "  (0, 11362)\t0.18801785343006192\n",
            "  (0, 6463)\t0.18801785343006192\n",
            "  (0, 5662)\t0.1465525095337543\n",
            "  (0, 13467)\t0.19712637387361423\n",
            "  (0, 12731)\t0.19712637387361423\n",
            "  (0, 614)\t0.07642616241686973\n",
            "  (0, 11244)\t0.08262965296941757\n",
            "  (0, 9206)\t0.15186283580984414\n",
            "  (0, 1495)\t0.19712637387361423\n",
            "  (0, 7454)\t0.14745635785412262\n",
            "  (0, 7071)\t0.19822417598406614\n",
            "  (0, 5499)\t0.11454057510303811\n",
            "  (0, 3878)\t0.11998399582562203\n",
            "  (0, 11242)\t0.07277788238484746\n",
            "  (0, 15219)\t0.09800472886453934\n",
            "  :\t:\n",
            "  (4757, 3485)\t0.199161573117024\n",
            "  (4757, 1184)\t0.18890726729447022\n",
            "  (4757, 14568)\t0.24255077606762876\n",
            "  (4757, 15508)\t0.24255077606762876\n",
            "  (4757, 5802)\t0.24255077606762876\n",
            "  (4757, 819)\t0.27474840155297187\n",
            "  (4757, 14195)\t0.28805858134028367\n",
            "  (4757, 2227)\t0.28805858134028367\n",
            "  (4757, 7691)\t0.28805858134028367\n",
            "  (4757, 1932)\t0.28805858134028367\n",
            "  (4758, 5238)\t1.0\n",
            "  (4759, 10666)\t0.15888268987343043\n",
            "  (4759, 1490)\t0.21197258705292082\n",
            "  (4759, 15431)\t0.19628653185946862\n",
            "  (4759, 5690)\t0.19534291014627303\n",
            "  (4759, 14051)\t0.20084315377640435\n",
            "  (4759, 4358)\t0.18306542312175342\n",
            "  (4759, 10761)\t0.3126617295732147\n",
            "  (4759, 7130)\t0.26419662449963793\n",
            "  (4759, 3058)\t0.2812896191863103\n",
            "  (4759, 14062)\t0.3237911628497312\n",
            "  (4759, 8902)\t0.3040290704566037\n",
            "  (4759, 205)\t0.3237911628497312\n",
            "  (4759, 11708)\t0.33947721804318337\n",
            "  (4759, 11264)\t0.33947721804318337\n"
          ]
        }
      ]
    },
    {
      "cell_type": "markdown",
      "source": [
        "**Modelling:**"
      ],
      "metadata": {
        "id": "Mi2BzIjA58mR"
      }
    },
    {
      "cell_type": "markdown",
      "source": [
        "**Get Similarity Score using Cosine Similarity**"
      ],
      "metadata": {
        "id": "aVVarZ7wvowu"
      }
    },
    {
      "cell_type": "code",
      "source": [
        "from sklearn.metrics.pairwise import cosine_similarity"
      ],
      "metadata": {
        "id": "vogIcVYavLbI"
      },
      "execution_count": 24,
      "outputs": []
    },
    {
      "cell_type": "code",
      "source": [
        "Similarity_Score = cosine_similarity(x)"
      ],
      "metadata": {
        "id": "FHfryPdAu-CS"
      },
      "execution_count": 25,
      "outputs": []
    },
    {
      "cell_type": "code",
      "source": [
        "Similarity_Score"
      ],
      "metadata": {
        "colab": {
          "base_uri": "https://localhost:8080/"
        },
        "id": "LrYd23ydwQdx",
        "outputId": "25b31cc5-5f10-48d7-c76a-204e580d7bfe"
      },
      "execution_count": 26,
      "outputs": [
        {
          "output_type": "execute_result",
          "data": {
            "text/plain": [
              "array([[1.        , 0.01351235, 0.03570468, ..., 0.        , 0.        ,\n",
              "        0.        ],\n",
              "       [0.01351235, 1.        , 0.00806674, ..., 0.        , 0.        ,\n",
              "        0.        ],\n",
              "       [0.03570468, 0.00806674, 1.        , ..., 0.        , 0.08014876,\n",
              "        0.        ],\n",
              "       ...,\n",
              "       [0.        , 0.        , 0.        , ..., 1.        , 0.        ,\n",
              "        0.        ],\n",
              "       [0.        , 0.        , 0.08014876, ..., 0.        , 1.        ,\n",
              "        0.        ],\n",
              "       [0.        , 0.        , 0.        , ..., 0.        , 0.        ,\n",
              "        1.        ]])"
            ]
          },
          "metadata": {},
          "execution_count": 26
        }
      ]
    },
    {
      "cell_type": "code",
      "source": [
        "Similarity_Score.shape"
      ],
      "metadata": {
        "colab": {
          "base_uri": "https://localhost:8080/"
        },
        "id": "QKjxbiGswQnd",
        "outputId": "d067401f-e55a-46d3-acfc-57fba35d9ecd"
      },
      "execution_count": 27,
      "outputs": [
        {
          "output_type": "execute_result",
          "data": {
            "text/plain": [
              "(4760, 4760)"
            ]
          },
          "metadata": {},
          "execution_count": 27
        }
      ]
    },
    {
      "cell_type": "markdown",
      "source": [
        "**Get Movie Names as Input From User and Validate for Closest Spelling**"
      ],
      "metadata": {
        "id": "CinBCuEXwfq3"
      }
    },
    {
      "cell_type": "code",
      "source": [
        "Favourite_Movie_Name = input(' Enter your favourite movie name : ')"
      ],
      "metadata": {
        "colab": {
          "base_uri": "https://localhost:8080/"
        },
        "id": "C_v7tHGTwv1f",
        "outputId": "41a446b8-0b94-4a50-c8e0-d2e6a4c1c75d"
      },
      "execution_count": 28,
      "outputs": [
        {
          "name": "stdout",
          "output_type": "stream",
          "text": [
            " Enter your favourite movie name : avtaar\n"
          ]
        }
      ]
    },
    {
      "cell_type": "code",
      "source": [
        "All_Movies_Title_List = df['Movie_Title'].tolist()"
      ],
      "metadata": {
        "id": "iwX5_eahxEFW"
      },
      "execution_count": 29,
      "outputs": []
    },
    {
      "cell_type": "code",
      "source": [
        "import difflib"
      ],
      "metadata": {
        "id": "gZxSQkfuxEA1"
      },
      "execution_count": 30,
      "outputs": []
    },
    {
      "cell_type": "code",
      "source": [
        "Movie_Recommendation = difflib.get_close_matches(Favourite_Movie_Name, All_Movies_Title_List)\n",
        "print(Movie_Recommendation)"
      ],
      "metadata": {
        "colab": {
          "base_uri": "https://localhost:8080/"
        },
        "id": "NffpehlFxD1-",
        "outputId": "4a651bad-d043-4eef-9045-ebb212226598"
      },
      "execution_count": 31,
      "outputs": [
        {
          "output_type": "stream",
          "name": "stdout",
          "text": [
            "['Avatar', 'Gattaca']\n"
          ]
        }
      ]
    },
    {
      "cell_type": "code",
      "source": [
        "Close_Match = Movie_Recommendation[0]\n",
        "print(Close_Match)"
      ],
      "metadata": {
        "colab": {
          "base_uri": "https://localhost:8080/"
        },
        "id": "zurVnxNTxVXX",
        "outputId": "a6e2d5a1-85a9-4310-9412-a0e86bb4a59e"
      },
      "execution_count": 32,
      "outputs": [
        {
          "output_type": "stream",
          "name": "stdout",
          "text": [
            "Avatar\n"
          ]
        }
      ]
    },
    {
      "cell_type": "code",
      "source": [
        "Index_of_Close_Match_Movie = df[df.Movie_Title == Close_Match]['Movie_ID'].values[0]\n",
        "print(Index_of_Close_Match_Movie)"
      ],
      "metadata": {
        "colab": {
          "base_uri": "https://localhost:8080/"
        },
        "id": "631OwmJ6xVac",
        "outputId": "0c606f08-d2f3-46df-9855-9ed19865be98"
      },
      "execution_count": 33,
      "outputs": [
        {
          "output_type": "stream",
          "name": "stdout",
          "text": [
            "2692\n"
          ]
        }
      ]
    },
    {
      "cell_type": "code",
      "source": [
        "#Getting a list of similar movies\n",
        "Recommendation_Score = list(enumerate(Similarity_Score[Index_of_Close_Match_Movie]))\n",
        "print(Recommendation_Score)"
      ],
      "metadata": {
        "colab": {
          "base_uri": "https://localhost:8080/"
        },
        "id": "t__1nYBjxVd4",
        "outputId": "e21dd0a9-a5b1-4d49-d6a6-c1b67be0d87c"
      },
      "execution_count": 35,
      "outputs": [
        {
          "output_type": "stream",
          "name": "stdout",
          "text": [
            "[(0, 0.009805093506053453), (1, 0.0), (2, 0.0), (3, 0.00800429043895183), (4, 0.0026759665928032307), (5, 0.009639835665946629), (6, 0.0049636657561850026), (7, 0.012848827437220952), (8, 0.0027543335470164663), (9, 0.0060788229041643105), (10, 0.007539724639541887), (11, 0.0026263170118314915), (12, 0.0027083403549614574), (13, 0.012904730427356218), (14, 0.0), (15, 0.022556564866386047), (16, 0.005959078936688497), (17, 0.0), (18, 0.01363982471419508), (19, 0.008784739948684398), (20, 0.002652757093444607), (21, 0.015211614027840475), (22, 0.006522322352622825), (23, 0.0026429172195160198), (24, 0.001656448263643531), (25, 0.025600660315408176), (26, 0.0024815199490618002), (27, 0.004792270397812901), (28, 0.0), (29, 0.02328827758320444), (30, 0.004648836119227042), (31, 0.006723965537835128), (32, 0.007984548069367697), (33, 0.018612326068635436), (34, 0.007439622267479849), (35, 0.0060612328203774185), (36, 0.0), (37, 0.0), (38, 0.008085428274959462), (39, 0.0046323263203813065), (40, 0.015305064222782005), (41, 0.0028220612513682533), (42, 0.0072368252720716965), (43, 0.014851289474516489), (44, 0.03961780430399105), (45, 0.08999324643162437), (46, 0.01855499596172605), (47, 0.010374759033888029), (48, 0.015673410180680997), (49, 0.0), (50, 0.006986992676753986), (51, 0.014965979411782005), (52, 0.013600804094978335), (53, 0.0), (54, 0.0), (55, 0.0), (56, 0.006687995450791239), (57, 0.010835008478228547), (58, 0.0), (59, 0.0), (60, 0.007788672977779784), (61, 0.01765879545263525), (62, 0.10153560702418994), (63, 0.00724637379048299), (64, 0.0), (65, 0.03168092911305668), (66, 0.0025312341363153933), (67, 0.04506617878405939), (68, 0.022589410734540884), (69, 0.0050655150859636395), (70, 0.012784303893544423), (71, 0.0025982330319670914), (72, 0.011335815706635274), (73, 0.0), (74, 0.0026973212224978174), (75, 0.012892746449532828), (76, 0.003764277116293625), (77, 0.0034769808720954984), (78, 0.009399606571884909), (79, 0.009076618790839581), (80, 0.004227109798982705), (81, 0.007009943535800456), (82, 0.011894144332662657), (83, 0.018501078945740608), (84, 0.06182375996841291), (85, 0.01556541576266717), (86, 0.011733847489721559), (87, 0.01373171111603307), (88, 0.022301178722772527), (89, 0.04014807769109403), (90, 0.004511298820312949), (91, 0.0), (92, 0.0022319382023189014), (93, 0.004418656840322171), (94, 0.0042365859489527065), (95, 0.004745609331166691), (96, 0.008895438584707134), (97, 0.0022256720396511935), (98, 0.0024834093817619105), (99, 0.010108725363944759), (100, 0.0), (101, 0.0), (102, 0.0050401893607578485), (103, 0.002196696924815654), (104, 0.00916249023695782), (105, 0.009532098755129267), (106, 0.017511756601740803), (107, 0.00810878589263473), (108, 0.03871190052571695), (109, 0.038488255428289986), (110, 0.08361784775029485), (111, 0.00892830755196627), (112, 0.028472602360715568), (113, 0.007487310843562389), (114, 0.0025385934325731236), (115, 0.0025933002005932644), (116, 0.024231348845135225), (117, 0.0), (118, 0.0047336369622742935), (119, 0.008932839836200662), (120, 0.009912331765059942), (121, 0.002330964769408956), (122, 0.006517403480064114), (123, 0.018256088885426406), (124, 0.02498485601114488), (125, 0.012801531158627047), (126, 0.03803411394029396), (127, 0.0024694587388694607), (128, 0.005117957196142506), (129, 0.0017710145837505128), (130, 0.011926867676679179), (131, 0.006655142039509907), (132, 0.00224850359095424), (133, 0.0), (134, 0.0), (135, 0.004609422560900165), (136, 0.0023420536635438984), (137, 0.05248774397823476), (138, 0.0321965946966296), (139, 0.00793805341964405), (140, 0.0023757143815839364), (141, 0.0), (142, 0.019240338070260373), (143, 0.007421872725142621), (144, 0.01735016450551756), (145, 0.019128060100674707), (146, 0.0), (147, 0.01798970888682872), (148, 0.010606847740924956), (149, 0.011746502833415903), (150, 0.0), (151, 0.0), (152, 0.004480162377431887), (153, 0.0), (154, 0.002380610004741567), (155, 0.02353776545091888), (156, 0.007396517906534802), (157, 0.002415439486141447), (158, 0.00227496768572757), (159, 0.007126037020866246), (160, 0.01829843726228846), (161, 0.04350231968158565), (162, 0.00777079969696345), (163, 0.0), (164, 0.0086637829941784), (165, 0.0021924308432048874), (166, 0.03236744328857419), (167, 0.02657650964316936), (168, 0.00516262901543751), (169, 0.0024917837504511062), (170, 0.010590419372720969), (171, 0.0), (172, 0.04169042538412653), (173, 0.01695754465504918), (174, 0.030569480499441422), (175, 0.023330531483932514), (176, 0.02718380372445963), (177, 0.005599808753936732), (178, 0.0026679650494889234), (179, 0.030707903325990372), (180, 0.007560424083753986), (181, 0.014055923457905324), (182, 0.009177613098031676), (183, 0.008350342502147893), (184, 0.0022333195719391554), (185, 0.03981648215324947), (186, 0.0), (187, 0.004046624716605282), (188, 0.0), (189, 0.004777355844485406), (190, 0.012138750265674795), (191, 0.00411617790201361), (192, 0.002743055956303319), (193, 0.029212491040047018), (194, 0.0020348397455064384), (195, 0.002131742281162176), (196, 0.002130241788619929), (197, 0.008597042532415581), (198, 0.002573256321933335), (199, 0.018959792932713843), (200, 0.0063174060384895165), (201, 0.012194922563079247), (202, 0.0016641723699352563), (203, 0.01692391575379628), (204, 0.01868626967033217), (205, 0.0), (206, 0.010195436607244205), (207, 0.013202287890523336), (208, 0.014564317291621245), (209, 0.016326637209159098), (210, 0.038872494075225), (211, 0.002650943626518147), (212, 0.01673880855230024), (213, 0.04933586361371152), (214, 0.0), (215, 0.0024916105012742816), (216, 0.009964319549763762), (217, 0.006895954353204596), (218, 0.016329345660994338), (219, 0.0), (220, 0.004877383327231497), (221, 0.0024113614902875756), (222, 0.01785601302836042), (223, 0.0), (224, 0.007353548211987467), (225, 0.0), (226, 0.002535833594602342), (227, 0.04927271164177766), (228, 0.0019207863172057056), (229, 0.0023644648944414113), (230, 0.00639704758425901), (231, 0.013776482994224607), (232, 0.007072494943779912), (233, 0.004553254985288595), (234, 0.003970509617032527), (235, 0.002862603765501166), (236, 0.013361417399169878), (237, 0.0), (238, 0.007292058096564208), (239, 0.0048934110269985434), (240, 0.026409645255112177), (241, 0.02846230566947309), (242, 0.00788315237382412), (243, 0.009658171853199466), (244, 0.011434438545935371), (245, 0.0), (246, 0.0026971635638096143), (247, 0.002507649315273456), (248, 0.006076898456420151), (249, 0.002224218157121805), (250, 0.02960515626621145), (251, 0.013867966455367267), (252, 0.013883632146620806), (253, 0.0027728619056607952), (254, 0.06351452702158421), (255, 0.007486787644460761), (256, 0.007180422705514563), (257, 0.021804620814370096), (258, 0.0), (259, 0.0), (260, 0.004375759434559262), (261, 0.02232369294417245), (262, 0.002664335955514705), (263, 0.006216251561942655), (264, 0.0), (265, 0.0), (266, 0.010555380119079243), (267, 0.002149267600301901), (268, 0.002262024465164382), (269, 0.024722211015322168), (270, 0.010051806221174027), (271, 0.0105134991300384), (272, 0.0), (273, 0.01085132528958142), (274, 0.011035641459288753), (275, 0.0), (276, 0.013412243036761692), (277, 0.043059556789028404), (278, 0.0021843202599993138), (279, 0.01674439634537899), (280, 0.01613776228166816), (281, 0.010850110374057989), (282, 0.05879285017883315), (283, 0.0066630664847644825), (284, 0.027210766517313724), (285, 0.008704678727235578), (286, 0.0021763451606793822), (287, 0.015182057023698537), (288, 0.009496377944736414), (289, 0.003702706209227987), (290, 0.003764602526997217), (291, 0.010654114070260626), (292, 0.05110461872364793), (293, 0.0018032932320903583), (294, 0.003673282954906356), (295, 0.0037622811700992434), (296, 0.015204844606541184), (297, 0.0), (298, 0.0), (299, 0.0), (300, 0.006258139455269687), (301, 0.0069485776645648555), (302, 0.0), (303, 0.0050061679094136795), (304, 0.010776123342338816), (305, 0.004608912986979318), (306, 0.004250577618359522), (307, 0.008540452172185265), (308, 0.0028360394287527844), (309, 0.0072418730389647145), (310, 0.0044324607065052745), (311, 0.006640720103355573), (312, 0.0), (313, 0.011588694147227201), (314, 0.00386727864603967), (315, 0.004627579160961795), (316, 0.004275668536878031), (317, 0.013724375771018173), (318, 0.0027716213992394364), (319, 0.0), (320, 0.004836468342738552), (321, 0.010853546219663456), (322, 0.011011274215599966), (323, 0.004126702166598835), (324, 0.002337556451399951), (325, 0.0023966071369795313), (326, 0.0031059387747140853), (327, 0.010031091446491825), (328, 0.043787258882396256), (329, 0.01968018721233163), (330, 0.01990757698892509), (331, 0.0), (332, 0.013291392972049707), (333, 0.010396647172797039), (334, 0.033097160057045466), (335, 0.0), (336, 0.0047110789913987), (337, 0.0), (338, 0.0), (339, 0.0), (340, 0.0070577890082476336), (341, 0.012040276910772649), (342, 0.017625924860547256), (343, 0.01579270001770119), (344, 0.0), (345, 0.024810895755894055), (346, 0.009047329905670951), (347, 0.004629011445466316), (348, 0.002510604930984473), (349, 0.0024597751017132285), (350, 0.007783455522120416), (351, 0.0019349498104706414), (352, 0.0), (353, 0.009247286364833024), (354, 0.01023318036745526), (355, 0.002338600461277964), (356, 0.013085379213571963), (357, 0.002188566105292061), (358, 0.01524391279622352), (359, 0.002327468126652067), (360, 0.04140490881144238), (361, 0.0), (362, 0.0), (363, 0.007177918653319793), (364, 0.01811866749520875), (365, 0.0), (366, 0.0), (367, 0.0067777408568684945), (368, 0.008492469988221549), (369, 0.0054147171174585024), (370, 0.014201587388961136), (371, 0.02825155474042153), (372, 0.0023630726175345195), (373, 0.0024035937816996485), (374, 0.015464220140309494), (375, 0.004559317565774012), (376, 0.0), (377, 0.0026131342360246296), (378, 0.002547043242925246), (379, 0.0), (380, 0.0052998836952428295), (381, 0.026093203409695044), (382, 0.0), (383, 0.01946781715065465), (384, 0.04856161257376199), (385, 0.007832134714130213), (386, 0.006839997396687533), (387, 0.032522091160063736), (388, 0.0023942044323020653), (389, 0.0045928926555422215), (390, 0.0), (391, 0.0), (392, 0.0), (393, 0.0), (394, 0.0), (395, 0.002721065212472461), (396, 0.009236073372609652), (397, 0.004218130295350774), (398, 0.021995497360737776), (399, 0.0023500375059201137), (400, 0.002512895464605051), (401, 0.0), (402, 0.011099556911853731), (403, 0.007717320665807714), (404, 0.0), (405, 0.0), (406, 0.013996421309263716), (407, 0.012576162839507807), (408, 0.04269519176334116), (409, 0.017054864370849368), (410, 0.0023595146802160615), (411, 0.0), (412, 0.04506044778254055), (413, 0.007014363525749393), (414, 0.0049328465277153274), (415, 0.0), (416, 0.002324088327746965), (417, 0.010857053144102818), (418, 0.012363494963790642), (419, 0.0028564076731825024), (420, 0.004960790573790974), (421, 0.02749177219642947), (422, 0.006684770214378325), (423, 0.0), (424, 0.05839654732699123), (425, 0.0052336539784553745), (426, 0.004315083525299143), (427, 0.0), (428, 0.027941476362352217), (429, 0.01490779398390189), (430, 0.02847444789611042), (431, 0.0029909808972183077), (432, 0.0021575733461531416), (433, 0.01659482930332843), (434, 0.009092715784751789), (435, 0.009477836158719862), (436, 0.007999143568905943), (437, 0.014872318949017254), (438, 0.043072240443698714), (439, 0.0), (440, 0.0), (441, 0.0075240589992588355), (442, 0.021288297567688547), (443, 0.00826944426866319), (444, 0.002825858774682473), (445, 0.007794521839692808), (446, 0.00888200665157438), (447, 0.014770438618924464), (448, 0.002927379117072186), (449, 0.00823467413153059), (450, 0.015608519656568693), (451, 0.004633317948990185), (452, 0.011805040282430306), (453, 0.0019393347333000767), (454, 0.0), (455, 0.04213396440391407), (456, 0.002687049016489072), (457, 0.002327732812904547), (458, 0.015871922723417135), (459, 0.026041390263338297), (460, 0.004591946474043866), (461, 0.008378393185575846), (462, 0.03225758483924035), (463, 0.019270774055312002), (464, 0.00899985628656249), (465, 0.02832340194230097), (466, 0.0025073849909961025), (467, 0.0045476787092075905), (468, 0.010463913523735657), (469, 0.003812568168855789), (470, 0.014468577429467194), (471, 0.002368427181806095), (472, 0.00937363469527576), (473, 0.0022945038896853643), (474, 0.00743411352694556), (475, 0.0031830170208644714), (476, 0.002783982955315012), (477, 0.005239784974437233), (478, 0.00287030905466654), (479, 0.049988559818629624), (480, 0.0022254937857947676), (481, 0.015469390328392467), (482, 0.0143188654065172), (483, 0.010147870988533602), (484, 0.0), (485, 0.010299890463609938), (486, 0.0), (487, 0.002427831592230217), (488, 0.002453124966462653), (489, 0.0030339076498476585), (490, 0.0025114046023391725), (491, 0.0), (492, 0.0), (493, 0.007590992590773914), (494, 0.007107534761405223), (495, 0.0022431563403783133), (496, 0.013381535196328245), (497, 0.0062960181399715895), (498, 0.0), (499, 0.00276004299098267), (500, 0.01139692902865105), (501, 0.010495925548300911), (502, 0.014891603243137274), (503, 0.006882371442124131), (504, 0.002551508415229109), (505, 0.002409323202911005), (506, 0.0), (507, 0.0023814032611240723), (508, 0.0029161753848960135), (509, 0.00733202705436811), (510, 0.014297192125796507), (511, 0.016166552419491664), (512, 0.005483270579141842), (513, 0.00501502826446355), (514, 0.0050030246168500945), (515, 0.022499833096115876), (516, 0.0), (517, 0.0), (518, 0.002973240242939486), (519, 0.049135825613876125), (520, 0.0), (521, 0.006324471633262137), (522, 0.026704190546478414), (523, 0.011754752241863661), (524, 0.002326628494390853), (525, 0.0), (526, 0.003189205961226647), (527, 0.012408426657113936), (528, 0.0), (529, 0.0), (530, 0.029741021033032708), (531, 0.0), (532, 0.010853692109028056), (533, 0.01599913152574661), (534, 0.014049144161247579), (535, 0.0), (536, 0.0), (537, 0.0127285761634091), (538, 0.010837176004175738), (539, 0.006923300446519886), (540, 0.03445972856479224), (541, 0.0024531262551875307), (542, 0.009974966884476081), (543, 0.014815140222086215), (544, 0.009753397860988314), (545, 0.013484509510887666), (546, 0.0), (547, 0.03205811100816747), (548, 0.0), (549, 0.0), (550, 0.005095713449789214), (551, 0.016277960178301926), (552, 0.0), (553, 0.018685764365025583), (554, 0.0), (555, 0.010805867563405052), (556, 0.0), (557, 0.0), (558, 0.008862695499612723), (559, 0.004110087166529764), (560, 0.011723796536706643), (561, 0.004843879649288874), (562, 0.0054240222811259235), (563, 0.006446918984242734), (564, 0.0026570278494582496), (565, 0.0), (566, 0.019085435302379775), (567, 0.0), (568, 0.0060923938011236784), (569, 0.0), (570, 0.0), (571, 0.00551243089187356), (572, 0.0), (573, 0.0), (574, 0.0), (575, 0.0), (576, 0.0028589991183695838), (577, 0.0), (578, 0.033278162659926364), (579, 0.0025709274312358285), (580, 0.007471013806577874), (581, 0.006442908807660053), (582, 0.007738614071243571), (583, 0.005955003048448513), (584, 0.014718536886619442), (585, 0.0), (586, 0.015989792128490086), (587, 0.0027892462176755946), (588, 0.002635413829651665), (589, 0.0023504596104199854), (590, 0.06275727122098755), (591, 0.0), (592, 0.0), (593, 0.0269834518549629), (594, 0.0022668822325154743), (595, 0.005073766918951453), (596, 0.002841667503161745), (597, 0.00818469269722307), (598, 0.0023630170191799795), (599, 0.0), (600, 0.006911988221385434), (601, 0.0), (602, 0.0), (603, 0.0), (604, 0.013082263186631315), (605, 0.0022316315763223366), (606, 0.00738281553042624), (607, 0.0019542901203648206), (608, 0.006480886036499979), (609, 0.012436169884984385), (610, 0.0), (611, 0.004074741219502081), (612, 0.002692730520167283), (613, 0.022103917336711854), (614, 0.0029098979225331504), (615, 0.043627287472934005), (616, 0.007587604885805269), (617, 0.006036313815003582), (618, 0.029763727969072954), (619, 0.004592008813534647), (620, 0.015054170784840126), (621, 0.0098894425959586), (622, 0.015114877441477754), (623, 0.0026936257054534733), (624, 0.0023197786136598822), (625, 0.0039700919528630274), (626, 0.0021492988165263674), (627, 0.003434199982561845), (628, 0.08334515876919321), (629, 0.0290204466032395), (630, 0.0), (631, 0.009361669401453363), (632, 0.03852152259053765), (633, 0.0045195689450570255), (634, 0.004532017668175815), (635, 0.012208498691708225), (636, 0.007220498423054625), (637, 0.04421437006060525), (638, 0.01648509407336536), (639, 0.0038956299468069283), (640, 0.00386212023458578), (641, 0.022162243129839828), (642, 0.006175541244757281), (643, 0.020149417240722865), (644, 0.00679178703311582), (645, 0.0020714050466539105), (646, 0.0024389251045113147), (647, 0.002225248093371474), (648, 0.012277887423853674), (649, 0.0), (650, 0.0), (651, 0.008790443518269624), (652, 0.01454961180007468), (653, 0.012376187134664488), (654, 0.012319247296879221), (655, 0.002368357851637855), (656, 0.0), (657, 0.024535628803477465), (658, 0.0), (659, 0.002362431523901131), (660, 0.007468299121380836), (661, 0.0043277766914817635), (662, 0.0), (663, 0.0), (664, 0.012230253012714354), (665, 0.0), (666, 0.005191363840721599), (667, 0.012288709705708507), (668, 0.009247180014652575), (669, 0.019132321637644396), (670, 0.02772828857282542), (671, 0.0067828701196653), (672, 0.021739478274217183), (673, 0.04277602512082654), (674, 0.0), (675, 0.061769915175723035), (676, 0.013790445822426271), (677, 0.01682247009934885), (678, 0.01274236717803005), (679, 0.0), (680, 0.0026971854142241744), (681, 0.0), (682, 0.043040904339148985), (683, 0.010850382331213302), (684, 0.01187270882417908), (685, 0.0047391400645060075), (686, 0.0), (687, 0.00511838964431733), (688, 0.007920082561582203), (689, 0.01823124484931015), (690, 0.004292327916105059), (691, 0.022330801569338962), (692, 0.015779670450911887), (693, 0.028339830117329528), (694, 0.03517836781813185), (695, 0.010765812704594108), (696, 0.007196443040031081), (697, 0.009143071449328688), (698, 0.002399544762154424), (699, 0.0), (700, 0.0), (701, 0.01587862094836518), (702, 0.0), (703, 0.002252830558764677), (704, 0.0), (705, 0.008060671056134335), (706, 0.022883981926318162), (707, 0.002133185976689704), (708, 0.0), (709, 0.0), (710, 0.03578166731017038), (711, 0.0), (712, 0.0022406993971376544), (713, 0.0), (714, 0.0), (715, 0.010047304304865667), (716, 0.007497304305137551), (717, 0.0026448136161407753), (718, 0.0), (719, 0.011021069857465699), (720, 0.0), (721, 0.03336245332783653), (722, 0.002278862164489498), (723, 0.003905451704110581), (724, 0.0), (725, 0.0), (726, 0.0), (727, 0.007024317991323227), (728, 0.007711282099805772), (729, 0.007972578233613352), (730, 0.0), (731, 0.002426041885645131), (732, 0.01224641375041674), (733, 0.01230753482660447), (734, 0.008527107655238415), (735, 0.0034631596343398384), (736, 0.0), (737, 0.01026948217402053), (738, 0.0038005054282405303), (739, 0.002894012255446743), (740, 0.0017013738490800243), (741, 0.0), (742, 0.012895262349341564), (743, 0.007346838592574463), (744, 0.006611821515269222), (745, 0.006541447895988961), (746, 0.0), (747, 0.0), (748, 0.0069703375048933616), (749, 0.002537705888891391), (750, 0.007283807541207739), (751, 0.0), (752, 0.006874003656088703), (753, 0.013549278832237006), (754, 0.0), (755, 0.002464731740465136), (756, 0.004051083609040267), (757, 0.018171478905814088), (758, 0.006619783688263925), (759, 0.002309117906857393), (760, 0.013408755868769408), (761, 0.05084432535535455), (762, 0.015386234332469936), (763, 0.020692910816374383), (764, 0.0), (765, 0.004875714723265432), (766, 0.028635970060155808), (767, 0.002405830891505594), (768, 0.018897801274291613), (769, 0.007055976434269274), (770, 0.0), (771, 0.0), (772, 0.0), (773, 0.0), (774, 0.03653446982082753), (775, 0.013580167832495795), (776, 0.016907533747342923), (777, 0.0030482065377159654), (778, 0.006760120126778053), (779, 0.019778519028090424), (780, 0.0), (781, 0.0), (782, 0.008737001055913084), (783, 0.0026716577681842654), (784, 0.0), (785, 0.0), (786, 0.0), (787, 0.030234382676036564), (788, 0.03677578250603034), (789, 0.0), (790, 0.011328819098868296), (791, 0.002724549082762478), (792, 0.010223739969146536), (793, 0.0047911708785747225), (794, 0.016938690601848962), (795, 0.016724564291810132), (796, 0.017485082104493087), (797, 0.0), (798, 0.002420279154987218), (799, 0.013866844082999444), (800, 0.012330546240660194), (801, 0.010706865530756119), (802, 0.00504790855259478), (803, 0.004123319018849689), (804, 0.00643048176526698), (805, 0.002345272830088757), (806, 0.009918568722061226), (807, 0.0), (808, 0.01788485830207994), (809, 0.011480022502538125), (810, 0.00431024470610246), (811, 0.004677175365825214), (812, 0.03134464238097975), (813, 0.002848492341463616), (814, 0.013495540125448381), (815, 0.0022658102075283266), (816, 0.007822688625960025), (817, 0.008811076124523943), (818, 0.034397558098509876), (819, 0.0), (820, 0.0), (821, 0.0060159760666970525), (822, 0.0), (823, 0.03170971693957012), (824, 0.024553872044813983), (825, 0.011336234973378517), (826, 0.002704815148187846), (827, 0.011088505143461765), (828, 0.009079231893502364), (829, 0.013067152965588674), (830, 0.0344745246856107), (831, 0.005047293476683471), (832, 0.026105036608453716), (833, 0.012768979339293338), (834, 0.006515346842433372), (835, 0.006210819751878022), (836, 0.028164079074357654), (837, 0.0), (838, 0.00846638251021233), (839, 0.0), (840, 0.0), (841, 0.0), (842, 0.014292048885850284), (843, 0.007487678947366414), (844, 0.012547501024285899), (845, 0.0074849403670845475), (846, 0.0), (847, 0.010441010725502676), (848, 0.002557744428375922), (849, 0.0046103472537448245), (850, 0.009269227266584062), (851, 0.008419793419722108), (852, 0.026315624754250793), (853, 0.016077023266484143), (854, 0.0024204130433707048), (855, 0.005267649046133167), (856, 0.0022638347872648936), (857, 0.0028006579787448853), (858, 0.017862483039744716), (859, 0.0), (860, 0.016481212100768684), (861, 0.006156676188760679), (862, 0.006163646870521245), (863, 0.0065353030348067245), (864, 0.03186019585537271), (865, 0.0026041473034027983), (866, 0.013223819809213746), (867, 0.015447275691157164), (868, 0.006638099025230637), (869, 0.007254016902358079), (870, 0.020332227193004895), (871, 0.0026058791087421596), (872, 0.002715127953717281), (873, 0.050648129131911857), (874, 0.03549031987804056), (875, 0.012828620175361181), (876, 0.016236183953495645), (877, 0.0512230973907653), (878, 0.01343534518832783), (879, 0.014840329123637929), (880, 0.007046905349603814), (881, 0.0), (882, 0.0), (883, 0.002422689099820759), (884, 0.0026386594931607954), (885, 0.02372906869332012), (886, 0.002377685816062925), (887, 0.002757674922454598), (888, 0.015765180129318646), (889, 0.0032639821409427413), (890, 0.002645070987393356), (891, 0.004859604317280072), (892, 0.0), (893, 0.0041600117443788024), (894, 0.009520951455559387), (895, 0.014602672301442823), (896, 0.015539368002936156), (897, 0.009174254862381888), (898, 0.004155926036290059), (899, 0.01444837727674443), (900, 0.012826494884294267), (901, 0.0021006570803087377), (902, 0.004732429780589892), (903, 0.0272937967913948), (904, 0.045049265599229504), (905, 0.013521019557386162), (906, 0.01308276936879699), (907, 0.0023323006017659177), (908, 0.007227807872197646), (909, 0.0), (910, 0.006544699287657488), (911, 0.03585824955577746), (912, 0.0), (913, 0.0), (914, 0.0), (915, 0.01124727302257219), (916, 0.01691713963929492), (917, 0.021822162443509208), (918, 0.012096049309795825), (919, 0.00468827488780651), (920, 0.0), (921, 0.008473884306744565), (922, 0.002845431908189281), (923, 0.0068851967951298505), (924, 0.007930889582430514), (925, 0.0029161833874092376), (926, 0.0), (927, 0.004525247754470469), (928, 0.012197504397565777), (929, 0.015192476876984532), (930, 0.007588642360831523), (931, 0.011680378019562551), (932, 0.0041240318599223), (933, 0.00259014241972874), (934, 0.014284810246050515), (935, 0.0320740971372626), (936, 0.012343388786512689), (937, 0.01661899895760169), (938, 0.0), (939, 0.00906544737876302), (940, 0.0063722015027342874), (941, 0.0023753858347316313), (942, 0.024043262369558355), (943, 0.0), (944, 0.0023629094371403355), (945, 0.0), (946, 0.0), (947, 0.019188035695737484), (948, 0.008908360175058827), (949, 0.01083005059414121), (950, 0.0), (951, 0.002141013818313959), (952, 0.029031084004495483), (953, 0.005756518916356406), (954, 0.0), (955, 0.0), (956, 0.0), (957, 0.014312073755375085), (958, 0.006004028909589243), (959, 0.002463402893606119), (960, 0.0), (961, 0.0), (962, 0.008633517179123244), (963, 0.012823359786905108), (964, 0.0), (965, 0.0), (966, 0.00859673890122188), (967, 0.02484089246980712), (968, 0.018377219999664365), (969, 0.002588635847946133), (970, 0.0094477266773976), (971, 0.0), (972, 0.0), (973, 0.002498682974922026), (974, 0.00431872120142841), (975, 0.00237425448540664), (976, 0.02849860982702707), (977, 0.0), (978, 0.0), (979, 0.009887972165231155), (980, 0.0073892674550401615), (981, 0.006436594763438927), (982, 0.0), (983, 0.0), (984, 0.0024124304913493468), (985, 0.0029012034398200413), (986, 0.01421377061372288), (987, 0.0026305632048473585), (988, 0.01412871882769501), (989, 0.013990992406489754), (990, 0.0), (991, 0.0076745400166616596), (992, 0.004935502243441057), (993, 0.0025548338994164986), (994, 0.009767338355605823), (995, 0.0), (996, 0.00650992907297042), (997, 0.004149127110904068), (998, 0.0028750966104490855), (999, 0.002872743544256604), (1000, 0.012794194783292075), (1001, 0.0068140912017435416), (1002, 0.0024164625079969525), (1003, 0.02040558863047458), (1004, 0.0022732257076968922), (1005, 0.012367191754578264), (1006, 0.009512410497885452), (1007, 0.0026699680308093056), (1008, 0.0), (1009, 0.01216995279802753), (1010, 0.0), (1011, 0.0), (1012, 0.011077486485627775), (1013, 0.0), (1014, 0.007610412264289003), (1015, 0.022477148208897783), (1016, 0.0), (1017, 0.020210828878643075), (1018, 0.01592083139307769), (1019, 0.011046732439510036), (1020, 0.008735245570264397), (1021, 0.05671999964768967), (1022, 0.0), (1023, 0.04614573925419343), (1024, 0.037086309751285476), (1025, 0.0), (1026, 0.00248868943291918), (1027, 0.0024251785301193946), (1028, 0.0), (1029, 0.0), (1030, 0.050582789674035046), (1031, 0.0), (1032, 0.0023954401496635793), (1033, 0.021320167194337762), (1034, 0.0024287885484453667), (1035, 0.01381887453098141), (1036, 0.002391995314691646), (1037, 0.007406593398245868), (1038, 0.0), (1039, 0.0), (1040, 0.0019808664673990114), (1041, 0.006711122649795385), (1042, 0.0021181778347175257), (1043, 0.03019341492590414), (1044, 0.006925941771792755), (1045, 0.015740022259330987), (1046, 0.02877186458592983), (1047, 0.012178017913835978), (1048, 0.009461601719983484), (1049, 0.003007328604568119), (1050, 0.008188052484759224), (1051, 0.0), (1052, 0.01949757886898508), (1053, 0.01130468493347921), (1054, 0.011036999446253307), (1055, 0.0), (1056, 0.0), (1057, 0.02343832337120043), (1058, 0.014326445616965337), (1059, 0.026187328256908955), (1060, 0.025524774616417004), (1061, 0.010522732972754847), (1062, 0.0), (1063, 0.0323986861553641), (1064, 0.01723362178999547), (1065, 0.0065346759690377235), (1066, 0.0), (1067, 0.0), (1068, 0.031080086209754415), (1069, 0.007349470531851638), (1070, 0.08104448918225104), (1071, 0.0076296938801074105), (1072, 0.0025119691133360235), (1073, 0.0), (1074, 0.01831335563650679), (1075, 0.009591487522932455), (1076, 0.00681994376727047), (1077, 0.009301797749861708), (1078, 0.008004074147420881), (1079, 0.002332255965400353), (1080, 0.002283153078480931), (1081, 0.0), (1082, 0.004530923132656162), (1083, 0.007438831750066308), (1084, 0.0024851270070419744), (1085, 0.03623876203552008), (1086, 0.0), (1087, 0.009256627090253326), (1088, 0.0021680283963311565), (1089, 0.0), (1090, 0.011525766979697762), (1091, 0.0), (1092, 0.009742359298906326), (1093, 0.0), (1094, 0.006428490781993139), (1095, 0.027246132772978993), (1096, 0.008857925187504443), (1097, 0.0), (1098, 0.019880281477287137), (1099, 0.011857342491158735), (1100, 0.002494207439481666), (1101, 0.0), (1102, 0.05016977076463526), (1103, 0.0), (1104, 0.012302637341744903), (1105, 0.0), (1106, 0.0), (1107, 0.013234704742594434), (1108, 0.0), (1109, 0.002812253640075932), (1110, 0.0024929035561424492), (1111, 0.006712588014078973), (1112, 0.017814761595896286), (1113, 0.0), (1114, 0.014436591435942683), (1115, 0.015076849560100525), (1116, 0.014454249635706785), (1117, 0.0024363948721887485), (1118, 0.05998954734066492), (1119, 0.015187159155518682), (1120, 0.003933222812334196), (1121, 0.0031774370506779245), (1122, 0.002582060742118795), (1123, 0.006794885124020777), (1124, 0.009439593845048234), (1125, 0.0067987645178981225), (1126, 0.0), (1127, 0.004540712375358485), (1128, 0.013369172893268506), (1129, 0.017757748873229732), (1130, 0.0), (1131, 0.002544645217036425), (1132, 0.020242473075204687), (1133, 0.0), (1134, 0.06151448371353247), (1135, 0.0), (1136, 0.007982223371637606), (1137, 0.027530878040813937), (1138, 0.00723229119934274), (1139, 0.0), (1140, 0.007655221232160154), (1141, 0.02222138809003532), (1142, 0.0), (1143, 0.0), (1144, 0.007259122310498269), (1145, 0.003507054526764835), (1146, 0.03193270995829649), (1147, 0.0), (1148, 0.05022542698748971), (1149, 0.0), (1150, 0.004975946962821242), (1151, 0.0), (1152, 0.014231082791516454), (1153, 0.0032346284116908913), (1154, 0.004112052748094562), (1155, 0.0), (1156, 0.0), (1157, 0.012054222172340505), (1158, 0.005154276117296022), (1159, 0.0), (1160, 0.00912265594299187), (1161, 0.0022893898458985064), (1162, 0.027084968030862168), (1163, 0.0025317112602762436), (1164, 0.0037512621307350573), (1165, 0.0), (1166, 0.0), (1167, 0.0050542477564664914), (1168, 0.003045520163266067), (1169, 0.0029682484751212346), (1170, 0.0025390307976471795), (1171, 0.0), (1172, 0.006576811496944062), (1173, 0.030413463227986916), (1174, 0.0073090099747231945), (1175, 0.018050829441643247), (1176, 0.002588853573949991), (1177, 0.006734917127738773), (1178, 0.0), (1179, 0.007148580085663997), (1180, 0.0), (1181, 0.024908929074089366), (1182, 0.009289577849239701), (1183, 0.01320329015011182), (1184, 0.016227879133609922), (1185, 0.012314336497917706), (1186, 0.023229264871711577), (1187, 0.0029797706917114716), (1188, 0.007504203984202115), (1189, 0.0), (1190, 0.0), (1191, 0.007177768471697238), (1192, 0.0143731268998252), (1193, 0.0), (1194, 0.011920690598639651), (1195, 0.03160288863475456), (1196, 0.0), (1197, 0.004241742454974192), (1198, 0.0), (1199, 0.002237279405744827), (1200, 0.0), (1201, 0.0), (1202, 0.01908472790733074), (1203, 0.043288373397247996), (1204, 0.0025732065841903317), (1205, 0.026572826699719294), (1206, 0.008511491354821), (1207, 0.004407380155076318), (1208, 0.0032334025418272053), (1209, 0.0021134636228278118), (1210, 0.0033546679070800924), (1211, 0.004371438026142519), (1212, 0.0), (1213, 0.006215002337363142), (1214, 0.005932567568348968), (1215, 0.011742448125855624), (1216, 0.016219260534941972), (1217, 0.0022018181096331805), (1218, 0.0), (1219, 0.0022752191158049357), (1220, 0.012381759539653547), (1221, 0.0), (1222, 0.0), (1223, 0.007177225054212512), (1224, 0.014848645936442459), (1225, 0.007542388898273975), (1226, 0.01807346085546737), (1227, 0.0), (1228, 0.0), (1229, 0.007464115927586655), (1230, 0.011218996224828769), (1231, 0.006779688354393065), (1232, 0.0143343580423758), (1233, 0.0), (1234, 0.010177649958305484), (1235, 0.0), (1236, 0.03334196963686731), (1237, 0.012912529679331913), (1238, 0.006524049508288305), (1239, 0.013018313167508913), (1240, 0.0), (1241, 0.0352706973766755), (1242, 0.0), (1243, 0.05520158300072489), (1244, 0.0), (1245, 0.01733780597970789), (1246, 0.0), (1247, 0.0024496046105345025), (1248, 0.04316322790320627), (1249, 0.011389854850356616), (1250, 0.006695136066226619), (1251, 0.0022442547715836986), (1252, 0.014093237016036805), (1253, 0.0), (1254, 0.016063876077209337), (1255, 0.01303457708815551), (1256, 0.0), (1257, 0.04460086738980612), (1258, 0.0), (1259, 0.010683260447850177), (1260, 0.00789217518720284), (1261, 0.044570869220417475), (1262, 0.011152412806465568), (1263, 0.0), (1264, 0.011577457331668602), (1265, 0.0), (1266, 0.01140830004039545), (1267, 0.006350083320400627), (1268, 0.0), (1269, 0.0), (1270, 0.021212009876187383), (1271, 0.0), (1272, 0.034794423140693004), (1273, 0.0024137296448996405), (1274, 0.017592479476377678), (1275, 0.01641313101495816), (1276, 0.008718177494154983), (1277, 0.001896569192555034), (1278, 0.014690118271765452), (1279, 0.009414733311017304), (1280, 0.004912549776270106), (1281, 0.004210757877745523), (1282, 0.0075637968823544744), (1283, 0.02337597342910932), (1284, 0.0024688492364947816), (1285, 0.0), (1286, 0.0024863444285309457), (1287, 0.0), (1288, 0.0), (1289, 0.0), (1290, 0.014782895037111703), (1291, 0.0), (1292, 0.043673801609925275), (1293, 0.012627559394743807), (1294, 0.00260356810870273), (1295, 0.0), (1296, 0.0), (1297, 0.0), (1298, 0.0025221305830124756), (1299, 0.0), (1300, 0.009883442651908875), (1301, 0.0022157326279519393), (1302, 0.04453118969141383), (1303, 0.011468723368048097), (1304, 0.002537023998673735), (1305, 0.002096690938261902), (1306, 0.0066374175223380336), (1307, 0.006181668255159588), (1308, 0.008353487600809641), (1309, 0.003948380480033667), (1310, 0.011857401788079416), (1311, 0.03394663995212679), (1312, 0.007683696684100862), (1313, 0.0024991701666688348), (1314, 0.026598285558358727), (1315, 0.0), (1316, 0.005910781285140436), (1317, 0.013109511838372383), (1318, 0.002261869906682178), (1319, 0.0024882460941023266), (1320, 0.0397552488399696), (1321, 0.0), (1322, 0.0), (1323, 0.0), (1324, 0.0027053582349253757), (1325, 0.015417810296419091), (1326, 0.0), (1327, 0.006246469827302094), (1328, 0.0), (1329, 0.006482212817589641), (1330, 0.006945237124300198), (1331, 0.014069567805799925), (1332, 0.005140102469137354), (1333, 0.0), (1334, 0.009866451708928596), (1335, 0.01436626555567386), (1336, 0.0), (1337, 0.014516320014404567), (1338, 0.009453093408532395), (1339, 0.01021596486720332), (1340, 0.0021538351318456717), (1341, 0.0773269380936194), (1342, 0.012818109313890116), (1343, 0.013894810017357652), (1344, 0.005721039864961347), (1345, 0.006554266558119459), (1346, 0.0), (1347, 0.004456071224498093), (1348, 0.010181205524417286), (1349, 0.0028576281102513806), (1350, 0.0024704619278470563), (1351, 0.024875575685802027), (1352, 0.0021543285954857753), (1353, 0.0), (1354, 0.0), (1355, 0.002597179130894557), (1356, 0.00605131280670182), (1357, 0.0023372106844995522), (1358, 0.0418305667382064), (1359, 0.009783798724744835), (1360, 0.012946114937554584), (1361, 0.015592555033603859), (1362, 0.022486463991498947), (1363, 0.028717455504198446), (1364, 0.0026334624526359895), (1365, 0.017784588946112623), (1366, 0.0022877468313852664), (1367, 0.03305734622286169), (1368, 0.0), (1369, 0.040273556631534785), (1370, 0.002186813531333692), (1371, 0.007859168909794434), (1372, 0.0023790922849152413), (1373, 0.0), (1374, 0.006573576658256201), (1375, 0.006795276578803918), (1376, 0.012474930782576379), (1377, 0.016773445546711195), (1378, 0.0025340273053027084), (1379, 0.03405703604165394), (1380, 0.004865433624290718), (1381, 0.005294134442307873), (1382, 0.009398048957401735), (1383, 0.08425242441722802), (1384, 0.01776772589837156), (1385, 0.020819608375770075), (1386, 0.018833157927183337), (1387, 0.00867647295939152), (1388, 0.007105864043348033), (1389, 0.03445912028134007), (1390, 0.0), (1391, 0.0051468920459166075), (1392, 0.0022549171667648254), (1393, 0.041789154386127465), (1394, 0.0022470021552231244), (1395, 0.003713520399989962), (1396, 0.011694125599156467), (1397, 0.021082777924745753), (1398, 0.028222452550706816), (1399, 0.0), (1400, 0.0075364403700657855), (1401, 0.013872719544761238), (1402, 0.0026594667380092744), (1403, 0.0170893583432266), (1404, 0.0023973664832842947), (1405, 0.028769066044756323), (1406, 0.01142356735170328), (1407, 0.011883388438677929), (1408, 0.0024700615971213528), (1409, 0.002713264160293667), (1410, 0.0025632853630778354), (1411, 0.0025061728502699713), (1412, 0.023629897886256662), (1413, 0.013922521675538474), (1414, 0.006378299226169405), (1415, 0.002077914644244706), (1416, 0.0024236082196454397), (1417, 0.016231265772845838), (1418, 0.010098426231237303), (1419, 0.011702375166221543), (1420, 0.0111367012403348), (1421, 0.006892431195663456), (1422, 0.0024693633273359873), (1423, 0.002250838550875257), (1424, 0.0), (1425, 0.006682409645770867), (1426, 0.004887726304196335), (1427, 0.002079006180481084), (1428, 0.004373208871986034), (1429, 0.008595043377298776), (1430, 0.02653057804103264), (1431, 0.004724038283531272), (1432, 0.012175283212771794), (1433, 0.006651536462062502), (1434, 0.002315527367297578), (1435, 0.004716569576995678), (1436, 0.012367187829493913), (1437, 0.0), (1438, 0.009518400966834187), (1439, 0.002655482349085738), (1440, 0.009759613744201243), (1441, 0.0), (1442, 0.009589027181594496), (1443, 0.01831419707001223), (1444, 0.0), (1445, 0.01603828875201241), (1446, 0.008725319988941802), (1447, 0.0), (1448, 0.006606255011892964), (1449, 0.0048567821917755724), (1450, 0.002185578767009918), (1451, 0.004333419161392225), (1452, 0.00487629717543762), (1453, 0.005285281631882958), (1454, 0.007852871846645283), (1455, 0.01167424438890572), (1456, 0.00235405416458593), (1457, 0.0), (1458, 0.003904651594659914), (1459, 0.0), (1460, 0.0), (1461, 0.013796549363393393), (1462, 0.006557735573350133), (1463, 0.0024452807156080244), (1464, 0.03242600299745582), (1465, 0.013588900862715185), (1466, 0.0), (1467, 0.0), (1468, 0.0), (1469, 0.004775977068505571), (1470, 0.0), (1471, 0.020290800155578565), (1472, 0.007232693801577943), (1473, 0.0), (1474, 0.0028283790706451106), (1475, 0.009491808199921728), (1476, 0.002569492630955095), (1477, 0.008398088250305705), (1478, 0.013621453691624496), (1479, 0.0027816518653624054), (1480, 0.004288052651907407), (1481, 0.01376749105730235), (1482, 0.028603312957890946), (1483, 0.01411429787822761), (1484, 0.007562813857263789), (1485, 0.0), (1486, 0.0072341660493006), (1487, 0.0), (1488, 0.007167547433373897), (1489, 0.008033719451971283), (1490, 0.0), (1491, 0.0), (1492, 0.02171558070297426), (1493, 0.017113614659723917), (1494, 0.009379897367766055), (1495, 0.0), (1496, 0.0), (1497, 0.0028944657655568303), (1498, 0.007948536519158821), (1499, 0.030795662279307388), (1500, 0.027299433109301788), (1501, 0.006560512948820128), (1502, 0.004871803904837503), (1503, 0.002299473424889381), (1504, 0.007007295859807676), (1505, 0.021982373147284715), (1506, 0.04228253062122538), (1507, 0.008102011472032189), (1508, 0.0), (1509, 0.014205028339216108), (1510, 0.020480695787819875), (1511, 0.0), (1512, 0.015450085039927702), (1513, 0.01001205368444008), (1514, 0.008426393019628345), (1515, 0.022061747166271104), (1516, 0.0026119169121049373), (1517, 0.0), (1518, 0.0027314707555649107), (1519, 0.012685818153036859), (1520, 0.0), (1521, 0.0), (1522, 0.0), (1523, 0.015826030293870762), (1524, 0.0), (1525, 0.0), (1526, 0.006277220093134095), (1527, 0.03945167296049171), (1528, 0.002303568038250878), (1529, 0.0), (1530, 0.02423044829538496), (1531, 0.00487448226189164), (1532, 0.0), (1533, 0.002572657564705808), (1534, 0.0), (1535, 0.0), (1536, 0.007357200882370105), (1537, 0.007654552289488441), (1538, 0.00826452714849783), (1539, 0.008118828372420504), (1540, 0.008264873545767477), (1541, 0.0), (1542, 0.01210163220624894), (1543, 0.0023366207244844297), (1544, 0.02457419064673378), (1545, 0.0), (1546, 0.003968796498906102), (1547, 0.0029538683671561376), (1548, 0.0), (1549, 0.0), (1550, 0.0025008431493619386), (1551, 0.010990327322037606), (1552, 0.0062804575791378355), (1553, 0.008035712147274677), (1554, 0.005079354545010316), (1555, 0.00665572804533087), (1556, 0.0), (1557, 0.0), (1558, 0.0023575804558839336), (1559, 0.003992703732862146), (1560, 0.028142719658602232), (1561, 0.0), (1562, 0.004273169941830401), (1563, 0.0), (1564, 0.0), (1565, 0.00216783239418901), (1566, 0.004617094549750663), (1567, 0.012359315313796793), (1568, 0.03407235441443471), (1569, 0.0), (1570, 0.0026672319410395474), (1571, 0.007527686704103847), (1572, 0.024744485450683612), (1573, 0.0045449107212447585), (1574, 0.0025593435180176335), (1575, 0.0049396247556743895), (1576, 0.003695205136118929), (1577, 0.0), (1578, 0.0), (1579, 0.01741251253021824), (1580, 0.0027985796143798237), (1581, 0.0), (1582, 0.009227189264785263), (1583, 0.007196604196620224), (1584, 0.0), (1585, 0.022947751322156346), (1586, 0.0), (1587, 0.004696037086649698), (1588, 0.004820371979478831), (1589, 0.0), (1590, 0.004022298707395246), (1591, 0.013536957187268661), (1592, 0.0), (1593, 0.0030735361977677136), (1594, 0.002839568084275876), (1595, 0.012872864495596307), (1596, 0.0), (1597, 0.002443077357812355), (1598, 0.0025035780137042654), (1599, 0.0), (1600, 0.0), (1601, 0.0), (1602, 0.0), (1603, 0.0), (1604, 0.0), (1605, 0.002291251246732443), (1606, 0.0), (1607, 0.0), (1608, 0.006310806604842772), (1609, 0.016380522782178615), (1610, 0.0), (1611, 0.0), (1612, 0.009066688687457698), (1613, 0.0), (1614, 0.004935318091384704), (1615, 0.0), (1616, 0.002228772441146099), (1617, 0.0024759756901920234), (1618, 0.0), (1619, 0.009703084106321475), (1620, 0.008987057234226398), (1621, 0.014022952914941236), (1622, 0.004534966118457995), (1623, 0.0042720073056617385), (1624, 0.0020638114682631757), (1625, 0.0022805657073798964), (1626, 0.0), (1627, 0.006111510124918706), (1628, 0.002320593668512959), (1629, 0.021463985617207363), (1630, 0.011090579239151285), (1631, 0.004376975220158414), (1632, 0.004423258499538447), (1633, 0.004408178160738385), (1634, 0.027265975858920762), (1635, 0.0045244140400680045), (1636, 0.0), (1637, 0.002720463657139303), (1638, 0.0), (1639, 0.0), (1640, 0.0), (1641, 0.002351853169564637), (1642, 0.002347271044462082), (1643, 0.00750602651388331), (1644, 0.006561402643121728), (1645, 0.0024501016352676042), (1646, 0.0), (1647, 0.09397055536069451), (1648, 0.029561843201275848), (1649, 0.0), (1650, 0.008442906417332422), (1651, 0.0), (1652, 0.03875069306724735), (1653, 0.006972042233695413), (1654, 0.012540361812405912), (1655, 0.011075509113125723), (1656, 0.002907707999260136), (1657, 0.019728179313836133), (1658, 0.0100804736714881), (1659, 0.004917338400093204), (1660, 0.002649882201961702), (1661, 0.004967986400080027), (1662, 0.010422019588149), (1663, 0.002389267377161177), (1664, 0.006221292918029591), (1665, 0.013318644524089863), (1666, 0.0025010320929579654), (1667, 0.013109523324031043), (1668, 0.0), (1669, 0.0), (1670, 0.002669356145188007), (1671, 0.020621715808903353), (1672, 0.0023217223960264755), (1673, 0.0), (1674, 0.007717885024911841), (1675, 0.040396587516422805), (1676, 0.036769000304041524), (1677, 0.0019953119175455886), (1678, 0.020674657614782856), (1679, 0.0), (1680, 0.012918757443092246), (1681, 0.012832438035811508), (1682, 0.014708572688973999), (1683, 0.002713944367144877), (1684, 0.005754002436817408), (1685, 0.009633240613946496), (1686, 0.0), (1687, 0.015081911122046706), (1688, 0.00928447679177188), (1689, 0.0), (1690, 0.008203297599856187), (1691, 0.002164018010334086), (1692, 0.006499365798951295), (1693, 0.002381258262883481), (1694, 0.010377739186490313), (1695, 0.005316808464005938), (1696, 0.010965269002219377), (1697, 0.0), (1698, 0.0), (1699, 0.003991474843652325), (1700, 0.0), (1701, 0.008829989975010643), (1702, 0.03401178055455821), (1703, 0.0026240806415885843), (1704, 0.0), (1705, 0.007576217404227394), (1706, 0.002559280265609513), (1707, 0.021603149809261358), (1708, 0.00977923271618291), (1709, 0.0), (1710, 0.00862480157860797), (1711, 0.0031804287196656516), (1712, 0.009732335194850535), (1713, 0.04105646453143579), (1714, 0.012011453185764855), (1715, 0.005883156475360245), (1716, 0.01595280716099609), (1717, 0.0026119870362178933), (1718, 0.006885352976791462), (1719, 0.002288890438865886), (1720, 0.026475090126577592), (1721, 0.02553446122538158), (1722, 0.002561095065502138), (1723, 0.010497387610157081), (1724, 0.004967362630089575), (1725, 0.0), (1726, 0.0), (1727, 0.009993058828174554), (1728, 0.0), (1729, 0.0), (1730, 0.008300929366563799), (1731, 0.0), (1732, 0.004930749603787047), (1733, 0.0027808196806331604), (1734, 0.0), (1735, 0.007296268013052198), (1736, 0.010061615031127952), (1737, 0.007007001454081945), (1738, 0.006716538657576399), (1739, 0.012790065058483046), (1740, 0.014510564426729728), (1741, 0.015474293874286435), (1742, 0.002398036686183953), (1743, 0.007750090589066046), (1744, 0.0024194666478152237), (1745, 0.0), (1746, 0.006130600381762394), (1747, 0.007085757718312184), (1748, 0.0029693466541139885), (1749, 0.024814387662836442), (1750, 0.030273505619146518), (1751, 0.0), (1752, 0.03333938657742233), (1753, 0.003965524253339128), (1754, 0.010587649198346934), (1755, 0.0), (1756, 0.0), (1757, 0.021518240078453512), (1758, 0.0), (1759, 0.016900019192624613), (1760, 0.006610240515573117), (1761, 0.011427305445703435), (1762, 0.008122600557858468), (1763, 0.024934636005999537), (1764, 0.007892329915581534), (1765, 0.0026230801215001583), (1766, 0.0), (1767, 0.0), (1768, 0.0026075507565416433), (1769, 0.0), (1770, 0.032782547520737795), (1771, 0.0), (1772, 0.004003333399430373), (1773, 0.010955897824683977), (1774, 0.0158766918306859), (1775, 0.0), (1776, 0.008464441636809431), (1777, 0.0), (1778, 0.0), (1779, 0.014605505493867625), (1780, 0.0016544448680672222), (1781, 0.00994528192793031), (1782, 0.002319619744996233), (1783, 0.0), (1784, 0.004189175005907085), (1785, 0.0), (1786, 0.0), (1787, 0.01244311834937289), (1788, 0.029045998553708444), (1789, 0.010793270926753157), (1790, 0.00783065280778643), (1791, 0.004911393510206822), (1792, 0.002980454256720252), (1793, 0.00853381043446927), (1794, 0.0), (1795, 0.02958907599498896), (1796, 0.012978653060000052), (1797, 0.006202669692847394), (1798, 0.009774556470432893), (1799, 0.012247251568054), (1800, 0.0), (1801, 0.0021299122361676443), (1802, 0.013074188414515001), (1803, 0.0), (1804, 0.0), (1805, 0.0027632161822077742), (1806, 0.007724060987961748), (1807, 0.008930900977394138), (1808, 0.0022745282789540036), (1809, 0.04958814703259738), (1810, 0.0), (1811, 0.007092076580957011), (1812, 0.011945304239266106), (1813, 0.002462243478839766), (1814, 0.0023351957135587156), (1815, 0.013530410151107165), (1816, 0.0063776716730922734), (1817, 0.02076453538075028), (1818, 0.006224779631552357), (1819, 0.006660823685789857), (1820, 0.0), (1821, 0.04361028830378263), (1822, 0.0026772468878810953), (1823, 0.0), (1824, 0.0), (1825, 0.0), (1826, 0.0022933726714825576), (1827, 0.0022934225352260924), (1828, 0.002188375397088414), (1829, 0.005021692709172187), (1830, 0.0022472182498345346), (1831, 0.0025076495173526094), (1832, 0.011937535410330451), (1833, 0.0077965095169583885), (1834, 0.0), (1835, 0.0), (1836, 0.0), (1837, 0.03240258300693197), (1838, 0.019939936935035117), (1839, 0.0), (1840, 0.004197512097260955), (1841, 0.006832081872064486), (1842, 0.0), (1843, 0.01777743540800436), (1844, 0.0), (1845, 0.02726613451399632), (1846, 0.00449415149633611), (1847, 0.026430755901808753), (1848, 0.0027301751429851437), (1849, 0.006466697460137597), (1850, 0.04146507077720888), (1851, 0.0026403793617911795), (1852, 0.011027128083942172), (1853, 0.015056577491359784), (1854, 0.009176487834003655), (1855, 0.0), (1856, 0.0), (1857, 0.0045417035015950635), (1858, 0.010754515078436713), (1859, 0.004864612361744437), (1860, 0.009363724034355628), (1861, 0.021326685199860577), (1862, 0.002840419532515051), (1863, 0.0056731213019529155), (1864, 0.013194620422679215), (1865, 0.0232913893449777), (1866, 0.007806781469902529), (1867, 0.0064873231004886215), (1868, 0.030647250708224397), (1869, 0.002296258136156996), (1870, 0.011742165690093414), (1871, 0.04119734499545335), (1872, 0.01809054728158338), (1873, 0.011193286227882262), (1874, 0.010386980241245819), (1875, 0.008361119199879558), (1876, 0.013797207843950315), (1877, 0.0024201305065912836), (1878, 0.0480537951664142), (1879, 0.0), (1880, 0.014966021703830552), (1881, 0.004825322882698361), (1882, 0.0024849159474963373), (1883, 0.0), (1884, 0.0023704895535816197), (1885, 0.0309975246079396), (1886, 0.06267985852941993), (1887, 0.0028740961062598647), (1888, 0.0), (1889, 0.0), (1890, 0.0028141731231323083), (1891, 0.002514175637785891), (1892, 0.0064921382164791095), (1893, 0.0026749802914776536), (1894, 0.0), (1895, 0.014460083088388845), (1896, 0.0026905206917478518), (1897, 0.01487409258896271), (1898, 0.0), (1899, 0.0), (1900, 0.008883222611181612), (1901, 0.004728085067675582), (1902, 0.007514941436228623), (1903, 0.006144808322546006), (1904, 0.004878866675051579), (1905, 0.0027650227383712663), (1906, 0.015402172315287375), (1907, 0.0027299453987985325), (1908, 0.006603738458379501), (1909, 0.0028786576539522107), (1910, 0.0038973922084841557), (1911, 0.006821537542968089), (1912, 0.0), (1913, 0.0064824046591955295), (1914, 0.0043357717271408636), (1915, 0.0), (1916, 0.0026726151622681778), (1917, 0.0), (1918, 0.007551945563332286), (1919, 0.01472018597119665), (1920, 0.008418614385203606), (1921, 0.0022665867771187306), (1922, 0.009702305857966463), (1923, 0.010674188244428695), (1924, 0.008167974470972303), (1925, 0.00402731300929992), (1926, 0.0), (1927, 0.01966694538109333), (1928, 0.0), (1929, 0.0024177987312427813), (1930, 0.004663673342829262), (1931, 0.007304840964451408), (1932, 0.0), (1933, 0.004496946860875293), (1934, 0.012249159605660148), (1935, 0.02277733875999061), (1936, 0.009305710762007565), (1937, 0.01843060245413057), (1938, 0.0), (1939, 0.006122496770723247), (1940, 0.005391940370749308), (1941, 0.005521670047666053), (1942, 0.02115515210916598), (1943, 0.0022075058990114124), (1944, 0.0), (1945, 0.0137474566656582), (1946, 0.002606154682344159), (1947, 0.0029441683458714552), (1948, 0.009002170934876052), (1949, 0.012117653116043525), (1950, 0.007437122534097679), (1951, 0.009660200117561584), (1952, 0.004967831528029215), (1953, 0.004482532871190866), (1954, 0.002246617660364065), (1955, 0.0), (1956, 0.0), (1957, 0.01103713744728498), (1958, 0.011930646176003005), (1959, 0.002743436013827267), (1960, 0.007915944589589313), (1961, 0.0), (1962, 0.005139410447659317), (1963, 0.0), (1964, 0.0064629052195067475), (1965, 0.0), (1966, 0.0), (1967, 0.01381881748823314), (1968, 0.008396226262273387), (1969, 0.0024475444749093777), (1970, 0.05299390678023471), (1971, 0.008146467998911177), (1972, 0.0), (1973, 0.02915657413264359), (1974, 0.0), (1975, 0.004859271928670792), (1976, 0.029555193895324648), (1977, 0.07510309168081497), (1978, 0.0), (1979, 0.0), (1980, 0.00227477464899649), (1981, 0.005908455371472134), (1982, 0.07246569778553744), (1983, 0.014814705291966625), (1984, 0.0), (1985, 0.021011193896198634), (1986, 0.013493449677128448), (1987, 0.006494419384748071), (1988, 0.012449725425893048), (1989, 0.011425033991382281), (1990, 0.0284201409286951), (1991, 0.03537660428888711), (1992, 0.010919745889197363), (1993, 0.004404753943201429), (1994, 0.08287835345252215), (1995, 0.002727110649679419), (1996, 0.0222321859914211), (1997, 0.023141379590983783), (1998, 0.0046690561382591615), (1999, 0.024674542916240657), (2000, 0.012490298103748571), (2001, 0.0), (2002, 0.0), (2003, 0.0), (2004, 0.002383684521118418), (2005, 0.011813232567949576), (2006, 0.0), (2007, 0.0), (2008, 0.013341066428520626), (2009, 0.0), (2010, 0.002002859007078954), (2011, 0.025123628978433857), (2012, 0.042938531937770384), (2013, 0.026313185451029328), (2014, 0.030095920732595104), (2015, 0.004817274786074442), (2016, 0.00997767205193752), (2017, 0.0), (2018, 0.03563383095352764), (2019, 0.0), (2020, 0.024235620690403418), (2021, 0.0), (2022, 0.005209538508579562), (2023, 0.030168509278277092), (2024, 0.013621436615674162), (2025, 0.0), (2026, 0.05264268750759822), (2027, 0.015119115703942199), (2028, 0.0), (2029, 0.009383399674635614), (2030, 0.0), (2031, 0.006451642626205173), (2032, 0.0), (2033, 0.0), (2034, 0.0020894914968265874), (2035, 0.017841694875906363), (2036, 0.0), (2037, 0.029819326078348505), (2038, 0.0), (2039, 0.0021333513682361693), (2040, 0.022971868335819257), (2041, 0.0), (2042, 0.0), (2043, 0.0), (2044, 0.004900368156440432), (2045, 0.013941721469670177), (2046, 0.0), (2047, 0.002241134126322357), (2048, 0.02509301655314845), (2049, 0.010037773592981785), (2050, 0.0), (2051, 0.010344755637093042), (2052, 0.012252144053320252), (2053, 0.014685790940849323), (2054, 0.0), (2055, 0.02061791562847339), (2056, 0.006329973382063175), (2057, 0.011335341988602586), (2058, 0.0059278268030316114), (2059, 0.0), (2060, 0.0025104283919120114), (2061, 0.007241444441148376), (2062, 0.010827602309256909), (2063, 0.0), (2064, 0.0048383411344764616), (2065, 0.008634933847474486), (2066, 0.013148930864670519), (2067, 0.002551429514355935), (2068, 0.0024099656054347007), (2069, 0.007024574301463462), (2070, 0.017785602537673223), (2071, 0.0), (2072, 0.0026280155284696006), (2073, 0.002584790940607842), (2074, 0.00987182120936709), (2075, 0.009368083693250753), (2076, 0.008106110318529728), (2077, 0.008628455950862961), (2078, 0.003669061202462885), (2079, 0.0), (2080, 0.00928618343023832), (2081, 0.0), (2082, 0.03137256966163152), (2083, 0.0026541513520933206), (2084, 0.00497883099639507), (2085, 0.0), (2086, 0.0), (2087, 0.008905340302630578), (2088, 0.007490653097136642), (2089, 0.008401063211127489), (2090, 0.0), (2091, 0.007249083354071641), (2092, 0.0), (2093, 0.017353497854371687), (2094, 0.02510748187337649), (2095, 0.00634399459508417), (2096, 0.0221631245125817), (2097, 0.01045894025071592), (2098, 0.005618888882314847), (2099, 0.0023705148642880736), (2100, 0.031466640098441356), (2101, 0.007188361400101866), (2102, 0.028465544090018308), (2103, 0.008865792807943298), (2104, 0.007635517868026244), (2105, 0.002700658222522971), (2106, 0.0), (2107, 0.0), (2108, 0.002814968163191845), (2109, 0.034352647667141946), (2110, 0.01675128583620695), (2111, 0.0024842942047940035), (2112, 0.06218435141221765), (2113, 0.005140329245801168), (2114, 0.029513454653019616), (2115, 0.0), (2116, 0.009826879593775987), (2117, 0.002432738926313128), (2118, 0.0), (2119, 0.016936626721809574), (2120, 0.0), (2121, 0.013060128472127272), (2122, 0.03310797958980468), (2123, 0.03394554340436231), (2124, 0.0), (2125, 0.0), (2126, 0.009911946717288973), (2127, 0.0021291085789020394), (2128, 0.0), (2129, 0.002350041367477207), (2130, 0.004663428752584404), (2131, 0.0024363566535109517), (2132, 0.0021188073189145665), (2133, 0.04895833694100604), (2134, 0.00283682288295139), (2135, 0.0), (2136, 0.004999931651805338), (2137, 0.003594592562013581), (2138, 0.0), (2139, 0.004329829930682735), (2140, 0.0), (2141, 0.0024241215686779806), (2142, 0.0029579118169215752), (2143, 0.00870524190616186), (2144, 0.009184136725802351), (2145, 0.011667846006835805), (2146, 0.0021674057808973805), (2147, 0.03211836769637073), (2148, 0.0026287367207624723), (2149, 0.016711990529519688), (2150, 0.0), (2151, 0.04489615902161054), (2152, 0.0), (2153, 0.0), (2154, 0.026634248456284988), (2155, 0.04005254584556307), (2156, 0.005849206467237161), (2157, 0.02224516374878037), (2158, 0.008249182115915606), (2159, 0.002796642519650156), (2160, 0.006181185621205107), (2161, 0.016494606341200452), (2162, 0.010321303045312515), (2163, 0.002262996563982751), (2164, 0.0), (2165, 0.0), (2166, 0.002388531571930009), (2167, 0.01780073194851991), (2168, 0.0), (2169, 0.0025525752827928266), (2170, 0.0), (2171, 0.0), (2172, 0.0), (2173, 0.02400710912107853), (2174, 0.02061080199928024), (2175, 0.006065790209232859), (2176, 0.0027997386524467593), (2177, 0.013196531145282497), (2178, 0.011369102235506749), (2179, 0.0), (2180, 0.0), (2181, 0.005236538353974075), (2182, 0.0), (2183, 0.0), (2184, 0.006646069756180479), (2185, 0.00588469360959802), (2186, 0.0), (2187, 0.037639193826533204), (2188, 0.00872547504917266), (2189, 0.003560127381617647), (2190, 0.002733767585924657), (2191, 0.050557727650637894), (2192, 0.0025540715080322423), (2193, 0.009187834696774066), (2194, 0.0), (2195, 0.002529494013120003), (2196, 0.01504249509281068), (2197, 0.009457720469104737), (2198, 0.028466562898500046), (2199, 0.003301396132983233), (2200, 0.0), (2201, 0.002359272840430379), (2202, 0.00618838480396512), (2203, 0.006010749392625514), (2204, 0.0), (2205, 0.006148708939289659), (2206, 0.011172300569001002), (2207, 0.016959411662291247), (2208, 0.0048896326651322545), (2209, 0.010136547687141513), (2210, 0.02165600559210605), (2211, 0.007629219619822575), (2212, 0.03611407929187629), (2213, 0.0022616680757847943), (2214, 0.04836649295986436), (2215, 0.0), (2216, 0.013940899929706332), (2217, 0.0), (2218, 0.0), (2219, 0.0), (2220, 0.0), (2221, 0.02843048269601038), (2222, 0.0), (2223, 0.0028836577395574144), (2224, 0.013497855033642384), (2225, 0.0), (2226, 0.0024799385815856717), (2227, 0.0), (2228, 0.009156965667265397), (2229, 0.015545140188962477), (2230, 0.0026046209600846027), (2231, 0.00509809890783702), (2232, 0.00450713427041366), (2233, 0.0), (2234, 0.0), (2235, 0.01201062894525302), (2236, 0.008262153855153739), (2237, 0.018480469432030935), (2238, 0.0), (2239, 0.0064075663286851355), (2240, 0.0022256256462686403), (2241, 0.0), (2242, 0.0024106327127107353), (2243, 0.0), (2244, 0.007224478463281348), (2245, 0.0044559238644446015), (2246, 0.0046047215511126685), (2247, 0.0), (2248, 0.041449056229883215), (2249, 0.0), (2250, 0.009590492035507887), (2251, 0.003528765524922965), (2252, 0.012593659017289198), (2253, 0.0), (2254, 0.015264388099765318), (2255, 0.009224149251331642), (2256, 0.0), (2257, 0.0032652889417637662), (2258, 0.016645098924895147), (2259, 0.0), (2260, 0.0027130621732044118), (2261, 0.0), (2262, 0.0), (2263, 0.0), (2264, 0.00853872494735178), (2265, 0.008265713268684284), (2266, 0.003122849247270207), (2267, 0.0), (2268, 0.002449391524423003), (2269, 0.002943527824462422), (2270, 0.0021913059233266705), (2271, 0.0), (2272, 0.0), (2273, 0.005445167150185859), (2274, 0.0), (2275, 0.015828663325572444), (2276, 0.02602103823289531), (2277, 0.00922963496505729), (2278, 0.004680281026963687), (2279, 0.009364676134641814), (2280, 0.011578581065887973), (2281, 0.0), (2282, 0.0), (2283, 0.004916374937626596), (2284, 0.014301377390974099), (2285, 0.008192880614420483), (2286, 0.003241134432765468), (2287, 0.002115909997010881), (2288, 0.0026826168576963225), (2289, 0.0025186187714121), (2290, 0.015664174994228692), (2291, 0.005627749684426434), (2292, 0.0025830825071317533), (2293, 0.002764491159634992), (2294, 0.04801663260090346), (2295, 0.039821906354908745), (2296, 0.0), (2297, 0.0), (2298, 0.015147423678755937), (2299, 0.004055627755214389), (2300, 0.0), (2301, 0.02034639105331546), (2302, 0.002880656086041069), (2303, 0.008587247057459328), (2304, 0.007905045081506133), (2305, 0.0), (2306, 0.011519597561857308), (2307, 0.0), (2308, 0.03786870914432211), (2309, 0.00869760131422764), (2310, 0.0033909407420161354), (2311, 0.0), (2312, 0.0), (2313, 0.002574911454680032), (2314, 0.005075043982713094), (2315, 0.0), (2316, 0.03605001327712352), (2317, 0.0023466506336819524), (2318, 0.05698746413620389), (2319, 0.002634696043908463), (2320, 0.002948368317866604), (2321, 0.040963322110474557), (2322, 0.0), (2323, 0.0022887100335569686), (2324, 0.006544521660283182), (2325, 0.0), (2326, 0.003622571305140312), (2327, 0.0), (2328, 0.00566232403041731), (2329, 0.0), (2330, 0.004877726866423949), (2331, 0.0), (2332, 0.0), (2333, 0.0), (2334, 0.014641018727413666), (2335, 0.006626868445508635), (2336, 0.011622841866254629), (2337, 0.0), (2338, 0.0022913946207671343), (2339, 0.007460704288731215), (2340, 0.0025424641138803356), (2341, 0.0), (2342, 0.0), (2343, 0.027601570450441173), (2344, 0.007164432520815711), (2345, 0.0), (2346, 0.010927891419824691), (2347, 0.016442297909857247), (2348, 0.006734311865815141), (2349, 0.0035115697404267793), (2350, 0.0032589804707992606), (2351, 0.0), (2352, 0.0), (2353, 0.015804215693918204), (2354, 0.0025387098304631133), (2355, 0.005960565575827433), (2356, 0.0028351679094693293), (2357, 0.0), (2358, 0.05826769637272553), (2359, 0.0021168368849086407), (2360, 0.0), (2361, 0.0026901282387533556), (2362, 0.019305653311181028), (2363, 0.008743311125802653), (2364, 0.0), (2365, 0.03251802786423901), (2366, 0.01361297626880501), (2367, 0.002427701738116989), (2368, 0.01829532335187565), (2369, 0.0), (2370, 0.002642265734795532), (2371, 0.03544860769227722), (2372, 0.0), (2373, 0.0), (2374, 0.04735148075296253), (2375, 0.03602916129679265), (2376, 0.015381706835274797), (2377, 0.0), (2378, 0.00298470246671094), (2379, 0.003660186594663336), (2380, 0.0), (2381, 0.0), (2382, 0.0021725502922258716), (2383, 0.01299631104498859), (2384, 0.0), (2385, 0.0026712362062835506), (2386, 0.0025929474899069405), (2387, 0.0025306660961036337), (2388, 0.0062273930887486294), (2389, 0.0), (2390, 0.00278029308266928), (2391, 0.00270877751637532), (2392, 0.003311442215763539), (2393, 0.0027065538121768627), (2394, 0.02568905521652685), (2395, 0.0), (2396, 0.0025592317330554275), (2397, 0.0025793747195195214), (2398, 0.0), (2399, 0.002341093337304315), (2400, 0.0028685555016257774), (2401, 0.002464829336269374), (2402, 0.002296822088102547), (2403, 0.010494032014463656), (2404, 0.003449565039590501), (2405, 0.002637786001383582), (2406, 0.016708556127859726), (2407, 0.003505785923314624), (2408, 0.024729842506338), (2409, 0.0), (2410, 0.0027822668653526748), (2411, 0.002871812848002521), (2412, 0.012351300951143736), (2413, 0.029928886003016544), (2414, 0.0), (2415, 0.003077478211326259), (2416, 0.0024995988683299917), (2417, 0.048975289561833585), (2418, 0.009651250070554153), (2419, 0.0026645177252727064), (2420, 0.0), (2421, 0.011393352490635826), (2422, 0.0024618756983895), (2423, 0.0031962161377439434), (2424, 0.006412851568886811), (2425, 0.0032869830902377425), (2426, 0.005920751565415964), (2427, 0.008304726949703236), (2428, 0.007890164359013144), (2429, 0.010834879177906962), (2430, 0.002573152120809181), (2431, 0.0), (2432, 0.004446831956179276), (2433, 0.0), (2434, 0.003031957879212553), (2435, 0.0), (2436, 0.0101763666679201), (2437, 0.002878688806085793), (2438, 0.0031414349495008736), (2439, 0.005393098007991499), (2440, 0.02074036111875331), (2441, 0.0020537366434319666), (2442, 0.004290553298955561), (2443, 0.029803434615890047), (2444, 0.0072168229453659265), (2445, 0.0), (2446, 0.0023555939250982988), (2447, 0.012200094819470354), (2448, 0.0033121806284444346), (2449, 0.021985066932388473), (2450, 0.0), (2451, 0.0), (2452, 0.0), (2453, 0.0023309730193911615), (2454, 0.0030625130786813572), (2455, 0.0), (2456, 0.0), (2457, 0.002281400117753307), (2458, 0.0), (2459, 0.0087021962221496), (2460, 0.013377406312830293), (2461, 0.002459043349133404), (2462, 0.0), (2463, 0.008949838225737732), (2464, 0.01054096336188897), (2465, 0.0), (2466, 0.0026046209947012907), (2467, 0.02552401265792079), (2468, 0.013656866052808383), (2469, 0.019146859249126912), (2470, 0.0), (2471, 0.0), (2472, 0.0), (2473, 0.008671326295738156), (2474, 0.012025234810505206), (2475, 0.002727438673721665), (2476, 0.03244347050543419), (2477, 0.007724564644052247), (2478, 0.0029114611772438717), (2479, 0.0), (2480, 0.011086109421716206), (2481, 0.028479261237740867), (2482, 0.002337730659309377), (2483, 0.0), (2484, 0.023915177057249912), (2485, 0.0), (2486, 0.013345114807622595), (2487, 0.028167935775262692), (2488, 0.0030994924411226945), (2489, 0.009794792049552446), (2490, 0.0036554338412872044), (2491, 0.0), (2492, 0.002552054444300246), (2493, 0.0), (2494, 0.009816473373279778), (2495, 0.0025359570773834292), (2496, 0.006686100058633567), (2497, 0.0), (2498, 0.0), (2499, 0.0), (2500, 0.0), (2501, 0.020059505094761957), (2502, 0.00223764903510972), (2503, 0.006513803988319436), (2504, 0.0), (2505, 0.010111741990795405), (2506, 0.004628370144810393), (2507, 0.002755050857258633), (2508, 0.0), (2509, 0.0020841748846264375), (2510, 0.007529972715630195), (2511, 0.0), (2512, 0.009542271470272569), (2513, 0.018276897871510427), (2514, 0.0), (2515, 0.0), (2516, 0.0), (2517, 0.031513234738017475), (2518, 0.0), (2519, 0.007297888997678441), (2520, 0.002198569670798424), (2521, 0.0), (2522, 0.015160218557647749), (2523, 0.0), (2524, 0.020004759477924062), (2525, 0.0023881792409710728), (2526, 0.0020750832006275395), (2527, 0.002181309191179122), (2528, 0.00235523293512342), (2529, 0.003681546872924425), (2530, 0.04481510146028208), (2531, 0.0026431568888262676), (2532, 0.0), (2533, 0.0025508245122476585), (2534, 0.001131364904594111), (2535, 0.002810971301213765), (2536, 0.0), (2537, 0.003479145804022971), (2538, 0.06802035746289194), (2539, 0.0), (2540, 0.037262447116274064), (2541, 0.0039149352811333835), (2542, 0.0), (2543, 0.0), (2544, 0.0029509775538051728), (2545, 0.009486008708568668), (2546, 0.010005453203518996), (2547, 0.0), (2548, 0.0), (2549, 0.0), (2550, 0.048365408344522146), (2551, 0.0), (2552, 0.0023711683412701526), (2553, 0.01743749009788074), (2554, 0.0025585195387028466), (2555, 0.011014281773315506), (2556, 0.0023516975035823688), (2557, 0.003145443106586994), (2558, 0.08267633224298854), (2559, 0.0033339816446641937), (2560, 0.02417174190316551), (2561, 0.00264593995292727), (2562, 0.0), (2563, 0.007530270288055349), (2564, 0.0), (2565, 0.00965865847843089), (2566, 0.0), (2567, 0.005474566349004076), (2568, 0.011135731584107675), (2569, 0.002506050169739512), (2570, 0.0029850065270741774), (2571, 0.002450321298885639), (2572, 0.008624926760274994), (2573, 0.0037816412403020683), (2574, 0.0), (2575, 0.0), (2576, 0.005219129861897875), (2577, 0.0), (2578, 0.0), (2579, 0.04816796125212758), (2580, 0.006384813030862253), (2581, 0.008841135380210335), (2582, 0.020104138588029275), (2583, 0.0), (2584, 0.0), (2585, 0.0028233189149995163), (2586, 0.0), (2587, 0.008080038098663712), (2588, 0.0), (2589, 0.0), (2590, 0.0), (2591, 0.0022753445327195194), (2592, 0.002807715950437281), (2593, 0.0023399307961830132), (2594, 0.0), (2595, 0.0027508174308408457), (2596, 0.0), (2597, 0.0), (2598, 0.021287142760911607), (2599, 0.004986212320267051), (2600, 0.008926105435859566), (2601, 0.009495593230104765), (2602, 0.011802879057726742), (2603, 0.007647101042214017), (2604, 0.0), (2605, 0.0), (2606, 0.007198949096365796), (2607, 0.01863811941695475), (2608, 0.0), (2609, 0.002705146017436059), (2610, 0.0026802854429516187), (2611, 0.0021758158812791727), (2612, 0.0024494145037263775), (2613, 0.0029878336157534656), (2614, 0.029225820521244943), (2615, 0.0), (2616, 0.0), (2617, 0.012541240022816239), (2618, 0.019013176209597624), (2619, 0.003054195039715814), (2620, 0.0), (2621, 0.031445444080265395), (2622, 0.03748821698202328), (2623, 0.0028711452225422983), (2624, 0.0027751302727880463), (2625, 0.011042436956048845), (2626, 0.00506321164286469), (2627, 0.0), (2628, 0.0033200750239033737), (2629, 0.0028789827889471047), (2630, 0.04898534827274639), (2631, 0.0), (2632, 0.013395941670378386), (2633, 0.009558772985519754), (2634, 0.0023697651035010894), (2635, 0.008290017471095085), (2636, 0.001904071921963219), (2637, 0.0), (2638, 0.023625589296039674), (2639, 0.015060665745970906), (2640, 0.0095266684889209), (2641, 0.0), (2642, 0.0024435014093075955), (2643, 0.0032800529079018326), (2644, 0.014605903574472971), (2645, 0.01830642082683205), (2646, 0.021358135818460758), (2647, 0.022788303108140055), (2648, 0.0), (2649, 0.0235700589676888), (2650, 0.018583354119550942), (2651, 0.002399527090955675), (2652, 0.0025639897203117157), (2653, 0.04697351928240422), (2654, 0.016882448039672114), (2655, 0.009474781634864609), (2656, 0.0), (2657, 0.0), (2658, 0.0), (2659, 0.0), (2660, 0.004289301064415875), (2661, 0.002722596781522986), (2662, 0.0), (2663, 0.0), (2664, 0.0027038269428264422), (2665, 0.005408896703823956), (2666, 0.0), (2667, 0.0), (2668, 0.02139492682328308), (2669, 0.0), (2670, 0.0), (2671, 0.0), (2672, 0.0), (2673, 0.003373810766375997), (2674, 0.0023346186385766136), (2675, 0.0), (2676, 0.0), (2677, 0.0), (2678, 0.004130445306673908), (2679, 0.0023999069621903238), (2680, 0.010718798803295179), (2681, 0.0), (2682, 0.004304243988514541), (2683, 0.0051675037568785385), (2684, 0.0), (2685, 0.0), (2686, 0.0), (2687, 0.026027725036469426), (2688, 0.011271200116927366), (2689, 0.024527497165292594), (2690, 0.0), (2691, 0.006834099053790852), (2692, 1.0), (2693, 0.0), (2694, 0.04368554902472677), (2695, 0.014242176019135196), (2696, 0.0029482119642483453), (2697, 0.011645129052455468), (2698, 0.008871041588029819), (2699, 0.02329919140759537), (2700, 0.005182671029789314), (2701, 0.0), (2702, 0.002898675239881087), (2703, 0.0), (2704, 0.0), (2705, 0.002746128020763118), (2706, 0.029422744288845587), (2707, 0.0029766094818745687), (2708, 0.0066956042489628945), (2709, 0.0), (2710, 0.02988730591823796), (2711, 0.004389725240886559), (2712, 0.016746711251381167), (2713, 0.023432161916103613), (2714, 0.007566646462252821), (2715, 0.0), (2716, 0.03603309472599682), (2717, 0.0), (2718, 0.023196744594786774), (2719, 0.0), (2720, 0.002972463807842025), (2721, 0.002203725342571355), (2722, 0.0035603643441040967), (2723, 0.02837260039695167), (2724, 0.006353092312566321), (2725, 0.002712359055125162), (2726, 0.006782846187248173), (2727, 0.01405848137238821), (2728, 0.0023085003156347404), (2729, 0.0), (2730, 0.0), (2731, 0.0034043390625112645), (2732, 0.006699254917744874), (2733, 0.005124706672572313), (2734, 0.0), (2735, 0.0023416543354241146), (2736, 0.019008870345464543), (2737, 0.0), (2738, 0.0029929611182556615), (2739, 0.010547486722511865), (2740, 0.010251653407706708), (2741, 0.002283548881816105), (2742, 0.016951046211206897), (2743, 0.002174428378375937), (2744, 0.009436372522052039), (2745, 0.04326153862816202), (2746, 0.002578707156757989), (2747, 0.002197577518593177), (2748, 0.002757884417999227), (2749, 0.0), (2750, 0.0), (2751, 0.03186976241331189), (2752, 0.009192679728709074), (2753, 0.0022342808694140515), (2754, 0.0), (2755, 0.0026817901026760537), (2756, 0.0), (2757, 0.003881814956378417), (2758, 0.002153957079075249), (2759, 0.010896125543937797), (2760, 0.018712458702392777), (2761, 0.025056785877878327), (2762, 0.02598022380370414), (2763, 0.0), (2764, 0.0036132739405708987), (2765, 0.002410741070728475), (2766, 0.002012406547137173), (2767, 0.0190204393319657), (2768, 0.020220195133117708), (2769, 0.010746895492522208), (2770, 0.0), (2771, 0.012070015475522524), (2772, 0.0030042986176780227), (2773, 0.0), (2774, 0.005249022144044435), (2775, 0.0034430225690450433), (2776, 0.002731525702812193), (2777, 0.021517823981518774), (2778, 0.008645079505384538), (2779, 0.0024210805376161213), (2780, 0.012102460227641366), (2781, 0.0), (2782, 0.029448976097656177), (2783, 0.0025523400942677947), (2784, 0.01453920272142293), (2785, 0.0), (2786, 0.002715966686361918), (2787, 0.0043867942490158265), (2788, 0.011899567306988528), (2789, 0.00929484080316772), (2790, 0.004850603519905103), (2791, 0.027708494673946583), (2792, 0.0026869471767721697), (2793, 0.0), (2794, 0.0), (2795, 0.017963854794401393), (2796, 0.0029024219757778245), (2797, 0.003104258374734227), (2798, 0.00924585532579227), (2799, 0.0), (2800, 0.0023961369181088174), (2801, 0.003957482166523577), (2802, 0.02690014016428078), (2803, 0.012484307978364386), (2804, 0.0), (2805, 0.013422971549413958), (2806, 0.0), (2807, 0.030117994968785384), (2808, 0.02014847591523892), (2809, 0.005339089482851616), (2810, 0.0), (2811, 0.0), (2812, 0.008580753148387781), (2813, 0.0), (2814, 0.0), (2815, 0.014233614635509397), (2816, 0.006796760437225053), (2817, 0.0), (2818, 0.0), (2819, 0.004887152493105063), (2820, 0.00978071195270238), (2821, 0.002692429842320299), (2822, 0.0215532629683982), (2823, 0.01753869196282759), (2824, 0.0), (2825, 0.006989309136223861), (2826, 0.002549723716021327), (2827, 0.0), (2828, 0.0), (2829, 0.0), (2830, 0.0028226149209496687), (2831, 0.009115470500813768), (2832, 0.0033283583713929433), (2833, 0.006306426535276038), (2834, 0.00314646446990567), (2835, 0.0), (2836, 0.0), (2837, 0.0), (2838, 0.003241181830687934), (2839, 0.0), (2840, 0.007974038146102614), (2841, 0.019694680960737992), (2842, 0.0), (2843, 0.007294454990914622), (2844, 0.007519917586582681), (2845, 0.0023343307734320154), (2846, 0.04034937166874806), (2847, 0.0045548691027893886), (2848, 0.0030957310537843004), (2849, 0.010160919483403278), (2850, 0.0), (2851, 0.0), (2852, 0.0), (2853, 0.002523474283920426), (2854, 0.007940287278032945), (2855, 0.0), (2856, 0.0), (2857, 0.0031306293625923617), (2858, 0.0035947932307475285), (2859, 0.03892062672772364), (2860, 0.0), (2861, 0.0033616545852928384), (2862, 0.0023635872260665803), (2863, 0.002614997779838142), (2864, 0.0), (2865, 0.0), (2866, 0.0), (2867, 0.0195693467927074), (2868, 0.03471057850484339), (2869, 0.040554179176207086), (2870, 0.003438101273580002), (2871, 0.010392979560845669), (2872, 0.002919385177617544), (2873, 0.007460728637960146), (2874, 0.012663043704713339), (2875, 0.0), (2876, 0.02775849524463103), (2877, 0.0), (2878, 0.0026734722698293846), (2879, 0.008707067714400177), (2880, 0.0), (2881, 0.008097352464452926), (2882, 0.0027559720055843895), (2883, 0.0034320629580592323), (2884, 0.002927723897692589), (2885, 0.015530662654673111), (2886, 0.009169658422198454), (2887, 0.029503613070800693), (2888, 0.002747280669247543), (2889, 0.0034913155438241164), (2890, 0.002798560657806323), (2891, 0.0), (2892, 0.0024074500325428788), (2893, 0.043187343639666156), (2894, 0.002602627655364738), (2895, 0.0030357343976949364), (2896, 0.0), (2897, 0.0067578748204000574), (2898, 0.0), (2899, 0.00672088624381716), (2900, 0.0025281162349556426), (2901, 0.00325622751323716), (2902, 0.0018652926953995985), (2903, 0.10063787314386036), (2904, 0.002637905178614228), (2905, 0.0), (2906, 0.0), (2907, 0.0023521461999904797), (2908, 0.0347306977906264), (2909, 0.0024734939006847024), (2910, 0.013917633478282367), (2911, 0.0026395262476918485), (2912, 0.02663795835188721), (2913, 0.01160626617783045), (2914, 0.002868252351944781), (2915, 0.009901438303503266), (2916, 0.002840804833235857), (2917, 0.015979384049559908), (2918, 0.011260910099604487), (2919, 0.014694787924982376), (2920, 0.02664140279351682), (2921, 0.0), (2922, 0.0), (2923, 0.00341716694722191), (2924, 0.002941313927795409), (2925, 0.01142089851991689), (2926, 0.002652376174111369), (2927, 0.0), (2928, 0.0), (2929, 0.009973164018115809), (2930, 0.0), (2931, 0.014636190656546155), (2932, 0.018807248735502158), (2933, 0.0077322804969393675), (2934, 0.009681263395234521), (2935, 0.005833966818310371), (2936, 0.010306943195722021), (2937, 0.0036418513127225525), (2938, 0.0), (2939, 0.014557655967115493), (2940, 0.0027107723433522023), (2941, 0.0), (2942, 0.007878767821754881), (2943, 0.0025270661897384187), (2944, 0.050454430002777675), (2945, 0.002482599465415304), (2946, 0.002495928607667309), (2947, 0.004728489945670272), (2948, 0.009213541283917924), (2949, 0.007639155147339895), (2950, 0.023732959516752646), (2951, 0.0), (2952, 0.0), (2953, 0.0026844908895121626), (2954, 0.0023157488146083563), (2955, 0.0), (2956, 0.0), (2957, 0.0031027576887766857), (2958, 0.0), (2959, 0.004856626562989745), (2960, 0.004705331125110952), (2961, 0.014001569133349953), (2962, 0.006732649301460031), (2963, 0.012480046815579984), (2964, 0.009729586930502679), (2965, 0.002409187210510178), (2966, 0.0030831102067987726), (2967, 0.0), (2968, 0.0), (2969, 0.012999702326476782), (2970, 0.0027032949511497564), (2971, 0.044168735616715235), (2972, 0.025931096430882088), (2973, 0.0), (2974, 0.0028474488267028765), (2975, 0.00799910472417184), (2976, 0.0022719244680200154), (2977, 0.009322674076250256), (2978, 0.012709399900374011), (2979, 0.0), (2980, 0.008929695089282258), (2981, 0.03442583219886153), (2982, 0.0), (2983, 0.0), (2984, 0.004235521067904495), (2985, 0.05717355295839897), (2986, 0.0029999075948067637), (2987, 0.002927922485926736), (2988, 0.014148959205037392), (2989, 0.0035339482019520565), (2990, 0.0), (2991, 0.004674826020757208), (2992, 0.010426386435022177), (2993, 0.0030590362949574944), (2994, 0.0071209261581707105), (2995, 0.01996032958314584), (2996, 0.01565414109129707), (2997, 0.0023971601065590833), (2998, 0.0038074690709344523), (2999, 0.0025217999584430037), (3000, 0.018313196560767752), (3001, 0.0), (3002, 0.0), (3003, 0.002817373993822037), (3004, 0.032584681512207773), (3005, 0.004662843276282043), (3006, 0.0), (3007, 0.0027094277754945184), (3008, 0.007343589760949153), (3009, 0.0), (3010, 0.047591919265060595), (3011, 0.004454894047740583), (3012, 0.01594795700624382), (3013, 0.002861016573119358), (3014, 0.002394225992439259), (3015, 0.003213828852942743), (3016, 0.002603622948164211), (3017, 0.025952831108870544), (3018, 0.007388671328103669), (3019, 0.01655924969857075), (3020, 0.0030788992114505536), (3021, 0.0), (3022, 0.005367062238452818), (3023, 0.044472572444595654), (3024, 0.0020980064772858813), (3025, 0.0), (3026, 0.002802065432959628), (3027, 0.0022822077528129765), (3028, 0.02658445016958451), (3029, 0.0), (3030, 0.0034357627126280024), (3031, 0.0030980803409641354), (3032, 0.008002698145813185), (3033, 0.006565105720620911), (3034, 0.0), (3035, 0.00680633588123159), (3036, 0.01700523802225701), (3037, 0.0026770809629725915), (3038, 0.0), (3039, 0.007433241299459784), (3040, 0.0035418239777799524), (3041, 0.0), (3042, 0.0034363661000082167), (3043, 0.01610286066186471), (3044, 0.0027645517635581586), (3045, 0.03500487119962276), (3046, 0.008930165950430557), (3047, 0.0), (3048, 0.0), (3049, 0.00572814392853459), (3050, 0.002323618032452493), (3051, 0.003617701658361143), (3052, 0.003464159943233295), (3053, 0.0732438108456325), (3054, 0.0), (3055, 0.00345109669377229), (3056, 0.002101035489155867), (3057, 0.0023791981149129493), (3058, 0.0), (3059, 0.0), (3060, 0.0), (3061, 0.0), (3062, 0.002811765663735291), (3063, 0.0), (3064, 0.00275966997783602), (3065, 0.011652341121195921), (3066, 0.006417860970259336), (3067, 0.008994762392335234), (3068, 0.021254290997707096), (3069, 0.0024767080275248632), (3070, 0.010441009804938308), (3071, 0.002375524856170654), (3072, 0.00294772075305355), (3073, 0.0), (3074, 0.003111619902094144), (3075, 0.0024631511126581686), (3076, 0.012578428563124642), (3077, 0.0), (3078, 0.0), (3079, 0.004251719719739137), (3080, 0.0), (3081, 0.0029847390963485543), (3082, 0.0), (3083, 0.020305822398005775), (3084, 0.002689900140730751), (3085, 0.017441414767477733), (3086, 0.01536640033114927), (3087, 0.0), (3088, 0.0), (3089, 0.0), (3090, 0.0), (3091, 0.04501840790205196), (3092, 0.0), (3093, 0.002495957880230708), (3094, 0.010653611691713995), (3095, 0.022323783766467348), (3096, 0.007914711421243769), (3097, 0.018399578507274313), (3098, 0.01682852088519415), (3099, 0.01039658480611878), (3100, 0.0043093976297925605), (3101, 0.002801975252648182), (3102, 0.03452469488743669), (3103, 0.0), (3104, 0.0), (3105, 0.0), (3106, 0.0), (3107, 0.0), (3108, 0.012312576591772557), (3109, 0.0), (3110, 0.013148818620795283), (3111, 0.018849760702424362), (3112, 0.007688011853815088), (3113, 0.002586774729076886), (3114, 0.006072588491821387), (3115, 0.0), (3116, 0.002786958189800484), (3117, 0.005288750302616193), (3118, 0.010846767325738211), (3119, 0.013176467645873434), (3120, 0.008898319654514028), (3121, 0.0), (3122, 0.006820475163202737), (3123, 0.008720722046885655), (3124, 0.004789723535567622), (3125, 0.0071848861424403995), (3126, 0.004418094007533675), (3127, 0.036590721490267514), (3128, 0.0031970079515146023), (3129, 0.017151752126835743), (3130, 0.0), (3131, 0.004935719359181448), (3132, 0.0), (3133, 0.00433629262051562), (3134, 0.004815055879995135), (3135, 0.004320968927313894), (3136, 0.004302789301984928), (3137, 0.03279268523839363), (3138, 0.0), (3139, 0.003590755164002553), (3140, 0.0031917751060036416), (3141, 0.0), (3142, 0.009781933944899053), (3143, 0.004284662611376249), (3144, 0.01868398340994474), (3145, 0.0), (3146, 0.02959142995417388), (3147, 0.0023610495805435113), (3148, 0.002871502296407598), (3149, 0.0068243582803357815), (3150, 0.002653530209421675), (3151, 0.008673167385631368), (3152, 0.0071050995025277695), (3153, 0.023168777515517325), (3154, 0.02606963846967903), (3155, 0.009676985323238005), (3156, 0.025482070893600085), (3157, 0.030753179174541137), (3158, 0.005170714049097465), (3159, 0.0031389054011713873), (3160, 0.00405236397855484), (3161, 0.0045511871687618005), (3162, 0.0), (3163, 0.005021375235815921), (3164, 0.005562750374493199), (3165, 0.0029129982157773647), (3166, 0.003517983993137304), (3167, 0.026076234240691325), (3168, 0.005194831847603899), (3169, 0.0), (3170, 0.0024127694654795177), (3171, 0.009142617878024971), (3172, 0.0), (3173, 0.002497668536691947), (3174, 0.02743679517966769), (3175, 0.0), (3176, 0.0), (3177, 0.0), (3178, 0.004009837888876761), (3179, 0.004737186136549798), (3180, 0.005132573372863185), (3181, 0.0), (3182, 0.0025835580046934645), (3183, 0.002777237875199438), (3184, 0.002724037993344761), (3185, 0.007000170786572426), (3186, 0.002875686598671847), (3187, 0.002668897556949622), (3188, 0.0), (3189, 0.0), (3190, 0.0), (3191, 0.004749484075312183), (3192, 0.007816038194544935), (3193, 0.0), (3194, 0.002393826048162591), (3195, 0.007035857525779766), (3196, 0.008017179405249625), (3197, 0.0), (3198, 0.0026199745298642603), (3199, 0.0019640006274080322), (3200, 0.0021549128346638855), (3201, 0.0), (3202, 0.0), (3203, 0.049834922789745904), (3204, 0.0), (3205, 0.004886156117287779), (3206, 0.0030685213451301942), (3207, 0.0), (3208, 0.0), (3209, 0.0404720498947614), (3210, 0.01434822359640147), (3211, 0.002195874288903394), (3212, 0.0), (3213, 0.016734398067455608), (3214, 0.0024212685427485426), (3215, 0.009351852172126342), (3216, 0.0025238101626349585), (3217, 0.0), (3218, 0.009706867675279642), (3219, 0.0033144042482742184), (3220, 0.0024786990760609223), (3221, 0.0), (3222, 0.02092202862294061), (3223, 0.0), (3224, 0.0026404774165322666), (3225, 0.002598945361261664), (3226, 0.016748323767747708), (3227, 0.007208820988458068), (3228, 0.01664828857203829), (3229, 0.0), (3230, 0.002927991904175658), (3231, 0.0), (3232, 0.010219438024982971), (3233, 0.007355187520740297), (3234, 0.002772188328120312), (3235, 0.00270366511309229), (3236, 0.0), (3237, 0.008993087333431068), (3238, 0.00218259378430728), (3239, 0.003197536727176097), (3240, 0.01124934087059656), (3241, 0.0026458927031980627), (3242, 0.00266272402393711), (3243, 0.0023753766953138553), (3244, 0.006017414560259965), (3245, 0.007148416664097888), (3246, 0.008728646467293667), (3247, 0.004172448145238135), (3248, 0.06683400770968473), (3249, 0.04101786522213684), (3250, 0.0), (3251, 0.0), (3252, 0.0021132864424817043), (3253, 0.014939900433374382), (3254, 0.019934000066389027), (3255, 0.03386118439201841), (3256, 0.007657278393381899), (3257, 0.0030559723754571373), (3258, 0.0027578268313340057), (3259, 0.007461484276829566), (3260, 0.025956117613509078), (3261, 0.0), (3262, 0.003263324594002952), (3263, 0.005025888185502877), (3264, 0.009614029034340893), (3265, 0.00676947022907611), (3266, 0.0), (3267, 0.00872099401762529), (3268, 0.002420614749260174), (3269, 0.0027434131677741987), (3270, 0.0), (3271, 0.002740341597884234), (3272, 0.0), (3273, 0.0028235332757005805), (3274, 0.002857575305783021), (3275, 0.016625701732328566), (3276, 0.11904275527845871), (3277, 0.0), (3278, 0.0023061090609036313), (3279, 0.01710645888961131), (3280, 0.03633050021075282), (3281, 0.0), (3282, 0.0032890614008540546), (3283, 0.00258328829217608), (3284, 0.018580379689813884), (3285, 0.02498627015545601), (3286, 0.0), (3287, 0.0), (3288, 0.006427108303657308), (3289, 0.0025991464854026964), (3290, 0.0026100030058059257), (3291, 0.00340818865345219), (3292, 0.0033107771042186923), (3293, 0.009096992545310075), (3294, 0.04624323347380143), (3295, 0.013969150929514711), (3296, 0.002884568728293128), (3297, 0.010212639038269281), (3298, 0.002449889141972864), (3299, 0.015574789122903308), (3300, 0.002383369460594118), (3301, 0.0019860420011163526), (3302, 0.0030901029595293813), (3303, 0.0072756740838892334), (3304, 0.002296479559569189), (3305, 0.0), (3306, 0.0152976874344642), (3307, 0.0029460254497445247), (3308, 0.0030025452049455338), (3309, 0.006272591746028673), (3310, 0.0), (3311, 0.0022941875363447282), (3312, 0.013575887940800115), (3313, 0.02878709265918974), (3314, 0.002689809805691749), (3315, 0.033683187257287854), (3316, 0.007003850870270371), (3317, 0.011650735201311341), (3318, 0.012820183098572135), (3319, 0.020423232922267755), (3320, 0.0), (3321, 0.0), (3322, 0.003264097186804459), (3323, 0.0), (3324, 0.0), (3325, 0.012773806745111466), (3326, 0.02913698815940024), (3327, 0.002274866668351808), (3328, 0.030258041215121215), (3329, 0.008323855378347705), (3330, 0.03361599967121388), (3331, 0.005959816487740433), (3332, 0.0), (3333, 0.0), (3334, 0.05583492547104911), (3335, 0.0025624988480590443), (3336, 0.0022827623066486316), (3337, 0.0029263608551047733), (3338, 0.004298076523995532), (3339, 0.003970201087966743), (3340, 0.0), (3341, 0.0025432834702508117), (3342, 0.006638970720780707), (3343, 0.0), (3344, 0.027382738811822918), (3345, 0.021626760319634532), (3346, 0.009080805971871128), (3347, 0.0021286521604270314), (3348, 0.0024544136731035884), (3349, 0.007417544683405594), (3350, 0.0), (3351, 0.034228172669397226), (3352, 0.020253205328728128), (3353, 0.00263670277267785), (3354, 0.0031930841877435717), (3355, 0.002917792209756374), (3356, 0.01397182288688138), (3357, 0.0031524982659526628), (3358, 0.003079020136582064), (3359, 0.002951532219733447), (3360, 0.05160066999995516), (3361, 0.004367134773433362), (3362, 0.03655333120186723), (3363, 0.003163022311998249), (3364, 0.002927793378336267), (3365, 0.001788524576634078), (3366, 0.0), (3367, 0.004620646774560631), (3368, 0.0), (3369, 0.0023393798748198896), (3370, 0.013807400089293192), (3371, 0.0), (3372, 0.0026635908403475645), (3373, 0.038926472514427574), (3374, 0.04659258370787398), (3375, 0.014880736050025874), (3376, 0.031092236059193583), (3377, 0.0316397347518423), (3378, 0.0), (3379, 0.0024864932425056924), (3380, 0.002251361322278201), (3381, 0.0025058973578958137), (3382, 0.010028988740987219), (3383, 0.0), (3384, 0.021404263877822273), (3385, 0.05898328865604497), (3386, 0.009225598651981193), (3387, 0.012348352343140653), (3388, 0.0026721463052558443), (3389, 0.008373948421723199), (3390, 0.002416444471575386), (3391, 0.005654239730508646), (3392, 0.0016851661424786926), (3393, 0.0021812533691201504), (3394, 0.0), (3395, 0.048164788157745886), (3396, 0.0029253541966865544), (3397, 0.0), (3398, 0.00475799272399742), (3399, 0.008506480833147211), (3400, 0.0), (3401, 0.0), (3402, 0.002471455859944226), (3403, 0.018660913660548617), (3404, 0.004693774086371659), (3405, 0.003921088336881911), (3406, 0.0026765700485092488), (3407, 0.015189768722261746), (3408, 0.04404054432044926), (3409, 0.0380955187008168), (3410, 0.007326878072907434), (3411, 0.0), (3412, 0.0024735000721670024), (3413, 0.003046256938374548), (3414, 0.00283898577333146), (3415, 0.0), (3416, 0.018240189933616632), (3417, 0.002793308661435089), (3418, 0.008722324977241059), (3419, 0.0029268337374655446), (3420, 0.029315121798530082), (3421, 0.014570533357246243), (3422, 0.0), (3423, 0.010418173494331847), (3424, 0.0), (3425, 0.0029386601486688355), (3426, 0.010402151809410325), (3427, 0.04153586768402896), (3428, 0.024711329986341776), (3429, 0.0031366553343255815), (3430, 0.033069885833702475), (3431, 0.0020366287014385322), (3432, 0.004579595707835179), (3433, 0.021185525106043747), (3434, 0.002698158599317555), (3435, 0.007080080814085196), (3436, 0.007195539394478742), (3437, 0.014891313208532217), (3438, 0.004925075352046845), (3439, 0.0), (3440, 0.005360191089565495), (3441, 0.0025153505923608717), (3442, 0.0), (3443, 0.004550394474658327), (3444, 0.0), (3445, 0.0025973749235322155), (3446, 0.023762507383910378), (3447, 0.026998497642944912), (3448, 0.00559647446856459), (3449, 0.0027405863645363804), (3450, 0.06274272831079739), (3451, 0.0049447961135720125), (3452, 0.006666829518739313), (3453, 0.007781907770548945), (3454, 0.0), (3455, 0.002328708998375963), (3456, 0.007637110780276211), (3457, 0.007003019585887427), (3458, 0.006237886369444204), (3459, 0.0), (3460, 0.006574404057633163), (3461, 0.0), (3462, 0.057434079728437545), (3463, 0.06070604565602542), (3464, 0.007498307880756478), (3465, 0.07411089841255805), (3466, 0.032114814160377606), (3467, 0.0), (3468, 0.004972065267270442), (3469, 0.02074519241046778), (3470, 0.03501442704271948), (3471, 0.02041359884625035), (3472, 0.0), (3473, 0.0), (3474, 0.006496581950922932), (3475, 0.0), (3476, 0.0), (3477, 0.0025148686093033985), (3478, 0.002536187190240642), (3479, 0.003387007242974126), (3480, 0.06560363079666712), (3481, 0.0), (3482, 0.0), (3483, 0.022015857129812924), (3484, 0.003836623982975266), (3485, 0.0), (3486, 0.03732961088277606), (3487, 0.006874077811915605), (3488, 0.027582122532805224), (3489, 0.0), (3490, 0.0), (3491, 0.002546138032500976), (3492, 0.021034828753309143), (3493, 0.0026545144823408597), (3494, 0.0), (3495, 0.004102292524056776), (3496, 0.0027223481052450734), (3497, 0.002771044725530212), (3498, 0.036163887622597285), (3499, 0.007023650271851443), (3500, 0.0023529667283993024), (3501, 0.007267483112732893), (3502, 0.005583987359637697), (3503, 0.0024319481504375285), (3504, 0.019916439697188655), (3505, 0.0), (3506, 0.0029250907731739545), (3507, 0.012116777808516594), (3508, 0.01989176368369531), (3509, 0.005699119019090606), (3510, 0.0), (3511, 0.03711590996650717), (3512, 0.003889013171202379), (3513, 0.004833569400596494), (3514, 0.007463910276476754), (3515, 0.007141768857087135), (3516, 0.007775657982650569), (3517, 0.0026259815785324957), (3518, 0.04319570152119698), (3519, 0.0), (3520, 0.004670251586150549), (3521, 0.008807933706918614), (3522, 0.0), (3523, 0.003635675158808224), (3524, 0.01071254586238362), (3525, 0.0), (3526, 0.002595503472085825), (3527, 0.002621633249481942), (3528, 0.017064378305444217), (3529, 0.0), (3530, 0.0), (3531, 0.006862294924219215), (3532, 0.0), (3533, 0.0), (3534, 0.004188386236756716), (3535, 0.013840663151712784), (3536, 0.009447284878491278), (3537, 0.0031457463849610882), (3538, 0.0020222667751278976), (3539, 0.0), (3540, 0.002958055113999265), (3541, 0.015766542718863782), (3542, 0.002594891823392815), (3543, 0.0), (3544, 0.003087182481444542), (3545, 0.0), (3546, 0.0018921856768456722), (3547, 0.0), (3548, 0.0020856240241655007), (3549, 0.0), (3550, 0.0), (3551, 0.0025597255630833856), (3552, 0.04302665477519422), (3553, 0.02060821484418429), (3554, 0.0), (3555, 0.004471280542747129), (3556, 0.03384264898810406), (3557, 0.0024870467081049533), (3558, 0.014470291425645933), (3559, 0.04212369037310277), (3560, 0.002849634449849319), (3561, 0.0034380523706759865), (3562, 0.0), (3563, 0.0023114996233486447), (3564, 0.002546021075884705), (3565, 0.0025099886574085728), (3566, 0.006170320282172521), (3567, 0.0), (3568, 0.0), (3569, 0.0021744560302634944), (3570, 0.007030792303727617), (3571, 0.007310855744198968), (3572, 0.029429181493142356), (3573, 0.02554701781763867), (3574, 0.027301137102037586), (3575, 0.00204892542434744), (3576, 0.0046855570241939055), (3577, 0.003134300423040642), (3578, 0.0), (3579, 0.0077718523228684465), (3580, 0.015039135519098674), (3581, 0.0), (3582, 0.01126006566247155), (3583, 0.004479553777020868), (3584, 0.004954609078497461), (3585, 0.0), (3586, 0.0076141552283950885), (3587, 0.002856932498632551), (3588, 0.005668212447753092), (3589, 0.0), (3590, 0.002694058421421463), (3591, 0.0), (3592, 0.0), (3593, 0.0028311413543016003), (3594, 0.006542877340613763), (3595, 0.0), (3596, 0.009010933192656959), (3597, 0.03019147046334423), (3598, 0.0058148858738907615), (3599, 0.009506751045859305), (3600, 0.0), (3601, 0.0027047969246027127), (3602, 0.004536165102704674), (3603, 0.0), (3604, 0.005067139324779592), (3605, 0.027276268392402662), (3606, 0.0025858958517718123), (3607, 0.0), (3608, 0.001651940750250806), (3609, 0.0), (3610, 0.0), (3611, 0.0028816713194184584), (3612, 0.009614913459816828), (3613, 0.003128211442850244), (3614, 0.0022955963386496457), (3615, 0.002388296766524122), (3616, 0.0031538433185305395), (3617, 0.0), (3618, 0.007578451625313123), (3619, 0.0040475877803817254), (3620, 0.0030882893020226336), (3621, 0.002984345128468935), (3622, 0.0), (3623, 0.007375385289240742), (3624, 0.0070833204707610705), (3625, 0.0), (3626, 0.0019457778288461565), (3627, 0.0023466132651486036), (3628, 0.0), (3629, 0.020937690266942786), (3630, 0.013248693386756738), (3631, 0.0), (3632, 0.006714251426310356), (3633, 0.0), (3634, 0.007698238156314156), (3635, 0.009666279084388137), (3636, 0.0026136381292832115), (3637, 0.012439693379200277), (3638, 0.00891389255101845), (3639, 0.002902584346526088), (3640, 0.015863756083686856), (3641, 0.0024493907161684263), (3642, 0.01542503819623013), (3643, 0.009249751025514884), (3644, 0.0), (3645, 0.007244408798507669), (3646, 0.002398125884687228), (3647, 0.0024952762541183417), (3648, 0.006796635583790758), (3649, 0.0), (3650, 0.0), (3651, 0.0029012906726482673), (3652, 0.03705103879988626), (3653, 0.0072880333298227604), (3654, 0.0026672976115044516), (3655, 0.05037922104829879), (3656, 0.03288836579668991), (3657, 0.0021402453501994097), (3658, 0.005945222312437101), (3659, 0.012739067427470985), (3660, 0.013717303640745984), (3661, 0.01564577425342385), (3662, 0.0), (3663, 0.0), (3664, 0.004434450523125298), (3665, 0.02101062338723635), (3666, 0.007423488483315583), (3667, 0.008900171105382569), (3668, 0.002146676808987418), (3669, 0.0021492957787100815), (3670, 0.014346236810449033), (3671, 0.0), (3672, 0.003603859110894287), (3673, 0.002525909889348108), (3674, 0.009866519236776755), (3675, 0.0169563709364917), (3676, 0.0), (3677, 0.0027839214224453152), (3678, 0.0026980940701351206), (3679, 0.009695639399177612), (3680, 0.008084768946688055), (3681, 0.0), (3682, 0.0), (3683, 0.0), (3684, 0.026220632227902805), (3685, 0.0), (3686, 0.0), (3687, 0.003167716046461269), (3688, 0.026503326352086173), (3689, 0.009417736933841828), (3690, 0.0), (3691, 0.0024132941512466626), (3692, 0.024225522273777434), (3693, 0.0), (3694, 0.015394318681617915), (3695, 0.0), (3696, 0.006894880242524033), (3697, 0.0), (3698, 0.0), (3699, 0.014528971303086509), (3700, 0.0), (3701, 0.02820311888611831), (3702, 0.0), (3703, 0.0), (3704, 0.007726207293318318), (3705, 0.006469532567629695), (3706, 0.002475133323897431), (3707, 0.0025812562026774196), (3708, 0.013495528700764465), (3709, 0.0), (3710, 0.004904565905805378), (3711, 0.024912006606914262), (3712, 0.0), (3713, 0.015221954853509276), (3714, 0.0027721300976903756), (3715, 0.0059530536022729275), (3716, 0.0), (3717, 0.0), (3718, 0.0), (3719, 0.002475454992011422), (3720, 0.030103653738207493), (3721, 0.006120051103397477), (3722, 0.0), (3723, 0.004353829586358225), (3724, 0.0), (3725, 0.002361483407774026), (3726, 0.0), (3727, 0.007088736271485592), (3728, 0.05632573704373771), (3729, 0.002939207932414357), (3730, 0.0), (3731, 0.03430420032682721), (3732, 0.0), (3733, 0.0086716642226203), (3734, 0.006743290499240995), (3735, 0.0), (3736, 0.0), (3737, 0.002831959461557706), (3738, 0.0), (3739, 0.002564063791104236), (3740, 0.0), (3741, 0.013577240544232178), (3742, 0.002316604456287794), (3743, 0.0), (3744, 0.005614568383030679), (3745, 0.0029834165348200602), (3746, 0.024584595760600812), (3747, 0.011810499294329865), (3748, 0.005683490190282456), (3749, 0.0027652807534091156), (3750, 0.012526912155733271), (3751, 0.027143246434604237), (3752, 0.00558054137277933), (3753, 0.044231122632494776), (3754, 0.0029412373240704105), (3755, 0.002241461077547313), (3756, 0.011635471912017536), (3757, 0.0027358120658869966), (3758, 0.0), (3759, 0.0), (3760, 0.0), (3761, 0.0), (3762, 0.0033041175749981802), (3763, 0.0029889620081975953), (3764, 0.0), (3765, 0.002463604274901543), (3766, 0.016963318783005426), (3767, 0.028429464351848312), (3768, 0.01255985800340293), (3769, 0.004823654473202805), (3770, 0.002652131044279344), (3771, 0.007743879506289292), (3772, 0.002886166507773771), (3773, 0.02339402841957165), (3774, 0.004940102439502154), (3775, 0.010846868308484497), (3776, 0.00395109019216415), (3777, 0.015029275746340404), (3778, 0.021876216116220825), (3779, 0.10185805797079384), (3780, 0.00763376181297933), (3781, 0.0027174020257633266), (3782, 0.004941626446775452), (3783, 0.0), (3784, 0.008666453071715973), (3785, 0.0), (3786, 0.0), (3787, 0.005050684028750155), (3788, 0.004312418804018252), (3789, 0.0), (3790, 0.0), (3791, 0.0), (3792, 0.00257917156307823), (3793, 0.04428791747340871), (3794, 0.011070808538151015), (3795, 0.002268685180826908), (3796, 0.0), (3797, 0.015180713410318979), (3798, 0.0), (3799, 0.002404097635728932), (3800, 0.0), (3801, 0.024514707385656417), (3802, 0.005051573170028611), (3803, 0.0), (3804, 0.0028291372709332873), (3805, 0.0), (3806, 0.003891967785171729), (3807, 0.014150045430268144), (3808, 0.0), (3809, 0.0025984933906336516), (3810, 0.023577201281668243), (3811, 0.0023908909837663888), (3812, 0.0), (3813, 0.0027672354263009982), (3814, 0.029102136897891283), (3815, 0.004703487539245398), (3816, 0.0), (3817, 0.0), (3818, 0.0), (3819, 0.013430728987528888), (3820, 0.0), (3821, 0.007635870656724135), (3822, 0.010223324228813488), (3823, 0.004337632521968428), (3824, 0.004403203520833348), (3825, 0.005930841255515678), (3826, 0.00875332692435902), (3827, 0.0024866665591879505), (3828, 0.0179898628904007), (3829, 0.008463648801411847), (3830, 0.0), (3831, 0.0), (3832, 0.0030961468799514846), (3833, 0.004685092741441777), (3834, 0.0), (3835, 0.02397354322931111), (3836, 0.0), (3837, 0.0), (3838, 0.0), (3839, 0.022556611534142262), (3840, 0.0), (3841, 0.006411621947297272), (3842, 0.006439580046008825), (3843, 0.0), (3844, 0.005781129296899576), (3845, 0.002645360677428021), (3846, 0.0), (3847, 0.0), (3848, 0.0032176256582615113), (3849, 0.012140140403992344), (3850, 0.030492114933685623), (3851, 0.0), (3852, 0.027180701726617212), (3853, 0.01885012676492403), (3854, 0.061615662703783644), (3855, 0.0021519815075837063), (3856, 0.0), (3857, 0.019866204573821197), (3858, 0.0), (3859, 0.0), (3860, 0.010597587690882967), (3861, 0.013592128894296429), (3862, 0.014856134944777395), (3863, 0.002279008679471772), (3864, 0.006198950838403934), (3865, 0.0058581472784253845), (3866, 0.0029234354102327348), (3867, 0.04005546355863066), (3868, 0.023327313721090363), (3869, 0.0), (3870, 0.0), (3871, 0.02774365781683594), (3872, 0.024065588995849797), (3873, 0.00271189350840195), (3874, 0.003101336326241035), (3875, 0.01807894377569853), (3876, 0.006562838398218208), (3877, 0.002823766391590153), (3878, 0.003333324966398531), (3879, 0.0), (3880, 0.02973200671246555), (3881, 0.004399498239922742), (3882, 0.002669225472758663), (3883, 0.01621442671515648), (3884, 0.0029508011050974987), (3885, 0.0), (3886, 0.004430555543774055), (3887, 0.0), (3888, 0.009509824437820173), (3889, 0.0027505286173344066), (3890, 0.0024536526556442157), (3891, 0.022651115487781825), (3892, 0.003296946816248689), (3893, 0.0027398348303490174), (3894, 0.002224285841091659), (3895, 0.015657523880602518), (3896, 0.0), (3897, 0.004891332365552053), (3898, 0.002406745499417385), (3899, 0.007704160140244187), (3900, 0.0024387712171574766), (3901, 0.008622386333348416), (3902, 0.00263883245439192), (3903, 0.010429036686855615), (3904, 0.02607674950028117), (3905, 0.0074838650684981665), (3906, 0.0024952876605332792), (3907, 0.004786368378027254), (3908, 0.004674093092431093), (3909, 0.006128669375239794), (3910, 0.006276866044991003), (3911, 0.0030305245124554103), (3912, 0.0), (3913, 0.02250739185219301), (3914, 0.0), (3915, 0.0027547260209605184), (3916, 0.02128040043462383), (3917, 0.0024396790123713276), (3918, 0.0), (3919, 0.009518026688365582), (3920, 0.002626985019883053), (3921, 0.0), (3922, 0.003130849387440928), (3923, 0.020070827841297587), (3924, 0.010565245191918269), (3925, 0.0037750382833963013), (3926, 0.006579383573264012), (3927, 0.02035517822791571), (3928, 0.002118505549736894), (3929, 0.0), (3930, 0.0), (3931, 0.0), (3932, 0.004678398488262889), (3933, 0.0), (3934, 0.019671452130892175), (3935, 0.0029885096547979943), (3936, 0.0), (3937, 0.0), (3938, 0.005002076654805726), (3939, 0.003377902592750367), (3940, 0.005415808786037161), (3941, 0.00900672834789253), (3942, 0.0056275672924494405), (3943, 0.0), (3944, 0.0037188104894249146), (3945, 0.007385100505287985), (3946, 0.06577120166835924), (3947, 0.0387498132259521), (3948, 0.0), (3949, 0.009725553805078438), (3950, 0.0), (3951, 0.010623974779247279), (3952, 0.0029084527399929486), (3953, 0.0023075672917894077), (3954, 0.008593121833034326), (3955, 0.039491108732438586), (3956, 0.008566475219119648), (3957, 0.01130737537328342), (3958, 0.01316359205529406), (3959, 0.026839111166414742), (3960, 0.00810539258222787), (3961, 0.032643242208811374), (3962, 0.0028483911122045955), (3963, 0.024787115409651922), (3964, 0.0), (3965, 0.0), (3966, 0.004302620439293622), (3967, 0.002803644599206201), (3968, 0.0), (3969, 0.0), (3970, 0.00441235901817224), (3971, 0.0), (3972, 0.0), (3973, 0.041911086844983014), (3974, 0.04564920918028945), (3975, 0.006013273983329386), (3976, 0.016645328263089863), (3977, 0.0), (3978, 0.020316083238736137), (3979, 0.0), (3980, 0.0), (3981, 0.0), (3982, 0.0), (3983, 0.0334519178853037), (3984, 0.010107881608489588), (3985, 0.0), (3986, 0.002281949782837444), (3987, 0.002701211892488908), (3988, 0.0), (3989, 0.003716566742122906), (3990, 0.003500660434369241), (3991, 0.0), (3992, 0.01086432393823145), (3993, 0.01079929981297591), (3994, 0.0), (3995, 0.004783012688872664), (3996, 0.0), (3997, 0.00491138185917065), (3998, 0.0063284474489425134), (3999, 0.011834468356820938), (4000, 0.014109337523178098), (4001, 0.006579886652293796), (4002, 0.002945363782547396), (4003, 0.0), (4004, 0.029992838221305274), (4005, 0.03604246095974137), (4006, 0.0), (4007, 0.01940052142068012), (4008, 0.006817202182472817), (4009, 0.006069496564969899), (4010, 0.0), (4011, 0.002381858591799198), (4012, 0.017483243197010997), (4013, 0.007783966541683049), (4014, 0.002566107194359398), (4015, 0.0020921059156520354), (4016, 0.02100276004932242), (4017, 0.0034416299225726284), (4018, 0.0), (4019, 0.0032877144876280358), (4020, 0.0024881089755816052), (4021, 0.0), (4022, 0.0), (4023, 0.04164010241839036), (4024, 0.002738817823037397), (4025, 0.009445947734436947), (4026, 0.0), (4027, 0.0), (4028, 0.01865704422020719), (4029, 0.0), (4030, 0.002968509850789978), (4031, 0.0), (4032, 0.01062426291591163), (4033, 0.010139571461229513), (4034, 0.0), (4035, 0.028844313228595903), (4036, 0.0024780774227247016), (4037, 0.0), (4038, 0.007643493182656479), (4039, 0.004497181173511471), (4040, 0.0), (4041, 0.0), (4042, 0.0028011681307968457), (4043, 0.005142156064116709), (4044, 0.004185917988001525), (4045, 0.007474521320913147), (4046, 0.007837863472015386), (4047, 0.0058310531983781005), (4048, 0.010521792466705355), (4049, 0.0025739499721083815), (4050, 0.022052871866018453), (4051, 0.0028294868139303216), (4052, 0.009622904531408717), (4053, 0.02264973231545321), (4054, 0.0026892405044579965), (4055, 0.005924818293621736), (4056, 0.002522476728047455), (4057, 0.005838723038181403), (4058, 0.0), (4059, 0.0023717520410445306), (4060, 0.009548933425246273), (4061, 0.007175096904403546), (4062, 0.05895899420588935), (4063, 0.0), (4064, 0.03630173900756346), (4065, 0.0), (4066, 0.002227252098130379), (4067, 0.0), (4068, 0.014451184354152645), (4069, 0.002449679421573418), (4070, 0.0), (4071, 0.004365080839408345), (4072, 0.0), (4073, 0.0), (4074, 0.0022823850645029334), (4075, 0.0029593107497051722), (4076, 0.004970043121679035), (4077, 0.007237935229267638), (4078, 0.0), (4079, 0.0026291170110588594), (4080, 0.002274010786165699), (4081, 0.01798527591298555), (4082, 0.003582801222053071), (4083, 0.002647802731253028), (4084, 0.0), (4085, 0.0024138727524534386), (4086, 0.0), (4087, 0.0027570148922926073), (4088, 0.019228802670990832), (4089, 0.0074442941644787), (4090, 0.00497122442224054), (4091, 0.005069099168848594), (4092, 0.008090895367233297), (4093, 0.0072372475745065045), (4094, 0.007582355866076667), (4095, 0.012071832731641167), (4096, 0.03176234276628576), (4097, 0.0), (4098, 0.007328628147016926), (4099, 0.0065670934024153515), (4100, 0.0), (4101, 0.002768111461896002), (4102, 0.00322017641330588), (4103, 0.004638354930990023), (4104, 0.044651126235844864), (4105, 0.00794159514227583), (4106, 0.010011298899255085), (4107, 0.0031316484334973915), (4108, 0.0), (4109, 0.0), (4110, 0.005829926434041165), (4111, 0.002715031049720803), (4112, 0.0), (4113, 0.002816959072990225), (4114, 0.0), (4115, 0.0), (4116, 0.07264153003988619), (4117, 0.002895105709173999), (4118, 0.007629579528410197), (4119, 0.005127533389383313), (4120, 0.005142394346497135), (4121, 0.013294058510116138), (4122, 0.008786711827347365), (4123, 0.05255262820554276), (4124, 0.013459664088655681), (4125, 0.0), (4126, 0.002951204889263052), (4127, 0.0), (4128, 0.02176383552670289), (4129, 0.002454845699527974), (4130, 0.002772030138020013), (4131, 0.0), (4132, 0.0027299151468745046), (4133, 0.007795812686827624), (4134, 0.015345894727775013), (4135, 0.0025721544003564087), (4136, 0.0026420257284279123), (4137, 0.060477037097691845), (4138, 0.0028111756650919376), (4139, 0.0024490787046745613), (4140, 0.00277107417659247), (4141, 0.026591237443928675), (4142, 0.0032425169740557275), (4143, 0.0022797552107130968), (4144, 0.0), (4145, 0.002979188154616858), (4146, 0.0), (4147, 0.003088129444104714), (4148, 0.011642710729146653), (4149, 0.018728310874684195), (4150, 0.0), (4151, 0.00435750767457364), (4152, 0.03364084318782468), (4153, 0.0), (4154, 0.006460444818820417), (4155, 0.002422922587266204), (4156, 0.019497433893036695), (4157, 0.0), (4158, 0.009601381761401219), (4159, 0.0), (4160, 0.027334340235441686), (4161, 0.002728429570225236), (4162, 0.005309960252153657), (4163, 0.00828909244186234), (4164, 0.010674454149190896), (4165, 0.03529172143254558), (4166, 0.0), (4167, 0.0), (4168, 0.0), (4169, 0.0027015747367255608), (4170, 0.0), (4171, 0.0017924201375203218), (4172, 0.00335287256990068), (4173, 0.0), (4174, 0.0023343493902812707), (4175, 0.029293305955632624), (4176, 0.020688748123160128), (4177, 0.02821768382122208), (4178, 0.014936139212549816), (4179, 0.0), (4180, 0.0), (4181, 0.0), (4182, 0.006907818896450108), (4183, 0.002459850172901285), (4184, 0.007103928823641512), (4185, 0.0), (4186, 0.0), (4187, 0.010905512014133227), (4188, 0.0), (4189, 0.02126938217959492), (4190, 0.0), (4191, 0.0), (4192, 0.009307119918901331), (4193, 0.004195492760646211), (4194, 0.0), (4195, 0.03270387798303687), (4196, 0.0071525035484352175), (4197, 0.002585496993168666), (4198, 0.0), (4199, 0.0), (4200, 0.0020968865998536737), (4201, 0.0), (4202, 0.0035463057159148726), (4203, 0.01875506443394477), (4204, 0.0), (4205, 0.00813259415956046), (4206, 0.0024090792775228157), (4207, 0.0), (4208, 0.005772631262084198), (4209, 0.03371052248760335), (4210, 0.006662796250061069), (4211, 0.004528622817440264), (4212, 0.0), (4213, 0.0024116332571820073), (4214, 0.0), (4215, 0.0), (4216, 0.011295742026656222), (4217, 0.006344514387184783), (4218, 0.0), (4219, 0.0059307558518514976), (4220, 0.0022373580615292323), (4221, 0.0033908723979946044), (4222, 0.00340138280559341), (4223, 0.0), (4224, 0.0), (4225, 0.002662303167849778), (4226, 0.0071813010126941775), (4227, 0.012903133125254939), (4228, 0.002505610963151872), (4229, 0.0), (4230, 0.0032496256231181195), (4231, 0.015173882829877292), (4232, 0.008355629863574444), (4233, 0.007493601501957861), (4234, 0.0), (4235, 0.01070958900129352), (4236, 0.00607498699543385), (4237, 0.0), (4238, 0.0), (4239, 0.0), (4240, 0.005036241334993982), (4241, 0.0), (4242, 0.026461169972595087), (4243, 0.0028872437447467307), (4244, 0.01629601541420167), (4245, 0.002724901673319483), (4246, 0.015799090880616876), (4247, 0.002229109657702569), (4248, 0.004586070327996085), (4249, 0.007376866463428257), (4250, 0.0), (4251, 0.0047298250345804435), (4252, 0.0605981550841241), (4253, 0.0), (4254, 0.0023813558699458046), (4255, 0.013906645140043448), (4256, 0.0), (4257, 0.008577179765386035), (4258, 0.0), (4259, 0.0028171123677211895), (4260, 0.0), (4261, 0.00524913093386109), (4262, 0.002633047641598312), (4263, 0.0027933745595439814), (4264, 0.00454624722656051), (4265, 0.012370029362516658), (4266, 0.00255918244392629), (4267, 0.002912222038245148), (4268, 0.048985488812181385), (4269, 0.0027203946975308483), (4270, 0.0), (4271, 0.0), (4272, 0.02992436166111102), (4273, 0.0025953107452440388), (4274, 0.004230225814165783), (4275, 0.004783375335158279), (4276, 0.0), (4277, 0.0023230286175405807), (4278, 0.0), (4279, 0.0), (4280, 0.003005719350014016), (4281, 0.023073171694226444), (4282, 0.006581235977916589), (4283, 0.02617077662446086), (4284, 0.007015060521553908), (4285, 0.00541390337248493), (4286, 0.0026814309883877183), (4287, 0.0026201914461210342), (4288, 0.021746012783557665), (4289, 0.007530304372005353), (4290, 0.004163826251867192), (4291, 0.0), (4292, 0.004346641270334503), (4293, 0.010724969879060454), (4294, 0.025578314593772924), (4295, 0.0028956476258980373), (4296, 0.002209121818019449), (4297, 0.0), (4298, 0.003111423665814052), (4299, 0.006979491877667863), (4300, 0.0), (4301, 0.0018816480208664053), (4302, 0.0), (4303, 0.006307820224547157), (4304, 0.002276243083383022), (4305, 0.0), (4306, 0.003135535775568489), (4307, 0.005179565875975143), (4308, 0.0027812821125682004), (4309, 0.00697819374420941), (4310, 0.0046180641193807465), (4311, 0.0020605103980192406), (4312, 0.004956559811046085), (4313, 0.0), (4314, 0.01480113606160618), (4315, 0.0), (4316, 0.0), (4317, 0.0), (4318, 0.0026799528252094695), (4319, 0.0), (4320, 0.0025297404552931547), (4321, 0.017028521917406638), (4322, 0.004224059410919857), (4323, 0.0), (4324, 0.0), (4325, 0.010841428602515576), (4326, 0.0023252246844545858), (4327, 0.0), (4328, 0.004309779076309047), (4329, 0.0), (4330, 0.0025375956311465804), (4331, 0.005314131386390757), (4332, 0.0), (4333, 0.0028538356132755457), (4334, 0.002621276955391081), (4335, 0.008058701805706186), (4336, 0.008794656199100886), (4337, 0.012416145648083687), (4338, 0.0), (4339, 0.004214172565029607), (4340, 0.002623058386247619), (4341, 0.0), (4342, 0.006053130571462051), (4343, 0.002243294059099313), (4344, 0.011726694019006622), (4345, 0.0024056806139171995), (4346, 0.0), (4347, 0.0), (4348, 0.002332330038672854), (4349, 0.01758778225581641), (4350, 0.002285970053867939), (4351, 0.007044390945365722), (4352, 0.0), (4353, 0.0), (4354, 0.025503853369116335), (4355, 0.0027018875230114077), (4356, 0.002358670992777147), (4357, 0.0027034679302635816), (4358, 0.0), (4359, 0.0023154577056356935), (4360, 0.004638002055274864), (4361, 0.002638633481672648), (4362, 0.03662915792058016), (4363, 0.002656280498809686), (4364, 0.0), (4365, 0.004063496237183204), (4366, 0.010509642903648501), (4367, 0.00636561455566984), (4368, 0.0028543440863195955), (4369, 0.0029178234754435903), (4370, 0.0), (4371, 0.009763787259413185), (4372, 0.0), (4373, 0.004944937742506396), (4374, 0.013502565967730248), (4375, 0.09117512301489195), (4376, 0.00472987449563689), (4377, 0.00473449738414215), (4378, 0.07894345402700792), (4379, 0.014738068688333519), (4380, 0.019095201871988963), (4381, 0.0024587286226521532), (4382, 0.02036499637213191), (4383, 0.00462950343379809), (4384, 0.0048863605224429355), (4385, 0.005717363384544329), (4386, 0.0021873468814636796), (4387, 0.013870068941198365), (4388, 0.006755130022591245), (4389, 0.059627372790876695), (4390, 0.007352070975816711), (4391, 0.002563059388397236), (4392, 0.0048578911171751425), (4393, 0.0), (4394, 0.002516685249546862), (4395, 0.020488828449139813), (4396, 0.03669196977172057), (4397, 0.0028225842511361257), (4398, 0.05848106495843603), (4399, 0.016903823538283562), (4400, 0.0032330609798207196), (4401, 0.0028335961250180682), (4402, 0.02872814853482014), (4403, 0.037695251803000804), (4404, 0.0), (4405, 0.0), (4406, 0.0), (4407, 0.0033173901935479254), (4408, 0.0), (4409, 0.0025211780579558244), (4410, 0.0), (4411, 0.002172750642469467), (4412, 0.008375126016394905), (4413, 0.0), (4414, 0.0), (4415, 0.0), (4416, 0.0029853335777020925), (4417, 0.0), (4418, 0.0033309126153688575), (4419, 0.0026439719893291574), (4420, 0.0026742807744180946), (4421, 0.0), (4422, 0.002620883442152452), (4423, 0.0032887293797678515), (4424, 0.0), (4425, 0.0), (4426, 0.003980631223261024), (4427, 0.0025333347754508614), (4428, 0.0024082352367095082), (4429, 0.002202062550120158), (4430, 0.007485544625895459), (4431, 0.007646034470317189), (4432, 0.006257829146207155), (4433, 0.0), (4434, 0.0), (4435, 0.009657090753751577), (4436, 0.0196871042566883), (4437, 0.0), (4438, 0.004422951263287813), (4439, 0.0), (4440, 0.01744862397356858), (4441, 0.004382409607814832), (4442, 0.009322506640795744), (4443, 0.035517277554201775), (4444, 0.009365545280548903), (4445, 0.0019039356006044584), (4446, 0.0027821499840411765), (4447, 0.0), (4448, 0.0026486240455653193), (4449, 0.0), (4450, 0.026782449810039403), (4451, 0.0), (4452, 0.0370131305975355), (4453, 0.0), (4454, 0.0), (4455, 0.0), (4456, 0.04486868834608457), (4457, 0.0), (4458, 0.003024789988948817), (4459, 0.006319462824825346), (4460, 0.0), (4461, 0.0024415519508728923), (4462, 0.005213474094856588), (4463, 0.0), (4464, 0.005865917370922849), (4465, 0.019123743707399044), (4466, 0.020787788619053546), (4467, 0.006785277754309837), (4468, 0.004028035082793066), (4469, 0.012008625600884143), (4470, 0.007371133673986454), (4471, 0.002689451482618859), (4472, 0.002451605523132174), (4473, 0.002208848285768499), (4474, 0.014977388808916116), (4475, 0.01279147624721213), (4476, 0.002170214823496106), (4477, 0.011228675186954683), (4478, 0.0), (4479, 0.0023358563951205434), (4480, 0.0), (4481, 0.0111676847579278), (4482, 0.015224543828703425), (4483, 0.0), (4484, 0.0033814476312483688), (4485, 0.0), (4486, 0.014142096503967723), (4487, 0.0024986749425632655), (4488, 0.03987420075053529), (4489, 0.002689857121291043), (4490, 0.008478846727267671), (4491, 0.0), (4492, 0.019899656515150924), (4493, 0.0), (4494, 0.008076927428852684), (4495, 0.002716533945847962), (4496, 0.0), (4497, 0.002655261120508835), (4498, 0.0), (4499, 0.0), (4500, 0.0), (4501, 0.0025623314809338047), (4502, 0.008778213671318655), (4503, 0.05019632180888005), (4504, 0.017262945955099827), (4505, 0.002684540711662958), (4506, 0.0), (4507, 0.002913088748170219), (4508, 0.0), (4509, 0.0), (4510, 0.01240612048864451), (4511, 0.009055944146683145), (4512, 0.013096663788746788), (4513, 0.003816259526860173), (4514, 0.00558021931038109), (4515, 0.005133628241484277), (4516, 0.002908239246918524), (4517, 0.007192818112932041), (4518, 0.005600386434985415), (4519, 0.0), (4520, 0.0025106563620273803), (4521, 0.0031656248700788836), (4522, 0.00779142357392963), (4523, 0.006839334010413386), (4524, 0.013344104735653136), (4525, 0.0), (4526, 0.0), (4527, 0.005304592026024582), (4528, 0.0027542947624417118), (4529, 0.003400501052237265), (4530, 0.0024803676735156844), (4531, 0.01576425025629922), (4532, 0.0), (4533, 0.031796990539852035), (4534, 0.022503792380745714), (4535, 0.0028386710230197294), (4536, 0.0024230497488252267), (4537, 0.006005299509575736), (4538, 0.02871468051442678), (4539, 0.0), (4540, 0.0027251255860746932), (4541, 0.0), (4542, 0.0), (4543, 0.011258339788766714), (4544, 0.0031638437420695442), (4545, 0.002744544390204101), (4546, 0.009241565345370472), (4547, 0.0), (4548, 0.026746394406841196), (4549, 0.0), (4550, 0.00245867485009386), (4551, 0.01063669190610985), (4552, 0.004781914462610898), (4553, 0.010220370619708468), (4554, 0.02471715878629297), (4555, 0.003822393043576867), (4556, 0.0), (4557, 0.0075049104273801175), (4558, 0.0), (4559, 0.0), (4560, 0.0), (4561, 0.0), (4562, 0.0), (4563, 0.0026006699960084098), (4564, 0.006324868664687), (4565, 0.0), (4566, 0.0026735546109579985), (4567, 0.002423930849822145), (4568, 0.0), (4569, 0.0), (4570, 0.0), (4571, 0.004030049959053471), (4572, 0.003112637602421651), (4573, 0.0024586147419366146), (4574, 0.002715543513395254), (4575, 0.002683455745897461), (4576, 0.013324419282033591), (4577, 0.0), (4578, 0.0), (4579, 0.007706345424758966), (4580, 0.0), (4581, 0.007140956745791368), (4582, 0.004115089528140447), (4583, 0.0155091381014043), (4584, 0.0029816502268501877), (4585, 0.004316825219797293), (4586, 0.004803874390034195), (4587, 0.004396915493480531), (4588, 0.040074741901526274), (4589, 0.0029684950554232452), (4590, 0.030204049246894422), (4591, 0.006649489713339691), (4592, 0.0), (4593, 0.00795009926001135), (4594, 0.0624699521049894), (4595, 0.004991963728483643), (4596, 0.011579153357762677), (4597, 0.0), (4598, 0.0019897082854757183), (4599, 0.0), (4600, 0.0), (4601, 0.007825524342012363), (4602, 0.03194663943884777), (4603, 0.008493147032227942), (4604, 0.0025498804584698246), (4605, 0.010113684386539628), (4606, 0.0032107990543004967), (4607, 0.003682819782953628), (4608, 0.02163472384787619), (4609, 0.0), (4610, 0.013579403390591703), (4611, 0.0033805137878272673), (4612, 0.00890054131435393), (4613, 0.0), (4614, 0.09362226751043301), (4615, 0.0), (4616, 0.0023428090596489324), (4617, 0.013145152122535166), (4618, 0.0), (4619, 0.01060441183101697), (4620, 0.0023172719562090504), (4621, 0.004820847396153738), (4622, 0.0), (4623, 0.01164624107645406), (4624, 0.007497150714487853), (4625, 0.002633350504284691), (4626, 0.002050481727273585), (4627, 0.01534759402247288), (4628, 0.0), (4629, 0.007458366306468024), (4630, 0.005173595112168346), (4631, 0.0), (4632, 0.002990015272819319), (4633, 0.002980571206173481), (4634, 0.0023665371862373764), (4635, 0.0), (4636, 0.0021387597745254486), (4637, 0.01687894953209105), (4638, 0.002313508444612963), (4639, 0.004827393660535323), (4640, 0.017919357514542888), (4641, 0.03444472756108918), (4642, 0.005444385938077967), (4643, 0.0026087964121890832), (4644, 0.0), (4645, 0.02833924807672003), (4646, 0.005882073074407983), (4647, 0.0), (4648, 0.0), (4649, 0.00836168035627167), (4650, 0.0029227923349272288), (4651, 0.0), (4652, 0.006959441062191511), (4653, 0.005640484385845355), (4654, 0.0), (4655, 0.0), (4656, 0.00762921976318077), (4657, 0.002727669422357331), (4658, 0.0199904648539231), (4659, 0.0235718202463927), (4660, 0.008816293072121558), (4661, 0.006337486653117294), (4662, 0.0), (4663, 0.03279450213536398), (4664, 0.008516099300011862), (4665, 0.004575605255719264), (4666, 0.00624575032328202), (4667, 0.0), (4668, 0.028690496767730313), (4669, 0.015492525466058643), (4670, 0.006848594424887118), (4671, 0.0), (4672, 0.0), (4673, 0.013777217612414589), (4674, 0.005742313437079809), (4675, 0.0), (4676, 0.0), (4677, 0.007226291498591362), (4678, 0.004715176978610753), (4679, 0.01872579986199621), (4680, 0.002711671174492814), (4681, 0.0), (4682, 0.04755830312517978), (4683, 0.0), (4684, 0.02759247388777839), (4685, 0.008939084683528015), (4686, 0.0025516433396604223), (4687, 0.002479870547182701), (4688, 0.0), (4689, 0.04291454282972679), (4690, 0.0), (4691, 0.006248887308908626), (4692, 0.003165844538685759), (4693, 0.002463574326632484), (4694, 0.002979939651503315), (4695, 0.011784777485543659), (4696, 0.0033226057436817526), (4697, 0.004288320125964996), (4698, 0.005566055076203875), (4699, 0.008066732917858166), (4700, 0.0), (4701, 0.0268159044669723), (4702, 0.0), (4703, 0.03343412394967265), (4704, 0.0034647345174586603), (4705, 0.00362608174288888), (4706, 0.0028176709841239303), (4707, 0.00792430919711407), (4708, 0.004578152801117167), (4709, 0.015887549483793922), (4710, 0.00903722525774957), (4711, 0.0), (4712, 0.002284689699683904), (4713, 0.002935920646335537), (4714, 0.0), (4715, 0.007168016491301173), (4716, 0.0), (4717, 0.002994680505447409), (4718, 0.002844408783172781), (4719, 0.004912020457018883), (4720, 0.0), (4721, 0.03551125010985393), (4722, 0.0180897110972239), (4723, 0.0031009061546349703), (4724, 0.04701989643907342), (4725, 0.0), (4726, 0.005357462984646266), (4727, 0.03106625234428238), (4728, 0.0), (4729, 0.0024361362289319413), (4730, 0.0), (4731, 0.02547436689787727), (4732, 0.002766230114419228), (4733, 0.005965512302462514), (4734, 0.0027408297226725656), (4735, 0.016832454872681254), (4736, 0.0), (4737, 0.0), (4738, 0.0065658473500210725), (4739, 0.032994541915988086), (4740, 0.0), (4741, 0.0), (4742, 0.0), (4743, 0.002474603104085692), (4744, 0.002055966077073321), (4745, 0.0), (4746, 0.00523258618884702), (4747, 0.013451885684782254), (4748, 0.007885550521461237), (4749, 0.0034036456368132157), (4750, 0.0), (4751, 0.0), (4752, 0.0018166836686154624), (4753, 0.0028919487884017667), (4754, 0.0), (4755, 0.0), (4756, 0.002632461050300673), (4757, 0.00750809522210286), (4758, 0.0), (4759, 0.0)]\n"
          ]
        }
      ]
    },
    {
      "cell_type": "code",
      "source": [
        "len(Recommendation_Score)"
      ],
      "metadata": {
        "colab": {
          "base_uri": "https://localhost:8080/"
        },
        "id": "QgyWfD14xVkz",
        "outputId": "9a960574-1ee3-4d3c-b695-3c6f81ff0856"
      },
      "execution_count": 36,
      "outputs": [
        {
          "output_type": "execute_result",
          "data": {
            "text/plain": [
              "4760"
            ]
          },
          "metadata": {},
          "execution_count": 36
        }
      ]
    },
    {
      "cell_type": "markdown",
      "source": [
        "**Get All Movies Sort Based on Recommendation Score wrt Favourite Movie**"
      ],
      "metadata": {
        "id": "HcdYZYqGygua"
      }
    },
    {
      "cell_type": "code",
      "source": [
        "# sorting the Movies based on their similarity score\n",
        "Sorted_Similar_Movies = sorted(Recommendation_Score, key = lambda x:x[1], reverse = True)\n",
        "print(Sorted_Similar_Movies)"
      ],
      "metadata": {
        "colab": {
          "base_uri": "https://localhost:8080/"
        },
        "id": "VXbA_Ouf0YaU",
        "outputId": "fd090731-eb08-4676-8f22-3a29a47e3451"
      },
      "execution_count": 39,
      "outputs": [
        {
          "output_type": "stream",
          "name": "stdout",
          "text": [
            "[(2692, 1.0), (3276, 0.11904275527845871), (3779, 0.10185805797079384), (62, 0.10153560702418994), (2903, 0.10063787314386036), (1647, 0.09397055536069451), (4614, 0.09362226751043301), (4375, 0.09117512301489195), (45, 0.08999324643162437), (1383, 0.08425242441722802), (110, 0.08361784775029485), (628, 0.08334515876919321), (1994, 0.08287835345252215), (2558, 0.08267633224298854), (1070, 0.08104448918225104), (4378, 0.07894345402700792), (1341, 0.0773269380936194), (1977, 0.07510309168081497), (3465, 0.07411089841255805), (3053, 0.0732438108456325), (4116, 0.07264153003988619), (1982, 0.07246569778553744), (2538, 0.06802035746289194), (3248, 0.06683400770968473), (3946, 0.06577120166835924), (3480, 0.06560363079666712), (254, 0.06351452702158421), (590, 0.06275727122098755), (3450, 0.06274272831079739), (1886, 0.06267985852941993), (4594, 0.0624699521049894), (2112, 0.06218435141221765), (84, 0.06182375996841291), (675, 0.061769915175723035), (3854, 0.061615662703783644), (1134, 0.06151448371353247), (3463, 0.06070604565602542), (4252, 0.0605981550841241), (4137, 0.060477037097691845), (1118, 0.05998954734066492), (4389, 0.059627372790876695), (3385, 0.05898328865604497), (4062, 0.05895899420588935), (282, 0.05879285017883315), (4398, 0.05848106495843603), (424, 0.05839654732699123), (2358, 0.05826769637272553), (3462, 0.057434079728437545), (2985, 0.05717355295839897), (2318, 0.05698746413620389), (1021, 0.05671999964768967), (3728, 0.05632573704373771), (3334, 0.05583492547104911), (1243, 0.05520158300072489), (1970, 0.05299390678023471), (2026, 0.05264268750759822), (4123, 0.05255262820554276), (137, 0.05248774397823476), (3360, 0.05160066999995516), (877, 0.0512230973907653), (292, 0.05110461872364793), (761, 0.05084432535535455), (873, 0.050648129131911857), (1030, 0.050582789674035046), (2191, 0.050557727650637894), (2944, 0.050454430002777675), (3655, 0.05037922104829879), (1148, 0.05022542698748971), (4503, 0.05019632180888005), (1102, 0.05016977076463526), (479, 0.049988559818629624), (3203, 0.049834922789745904), (1809, 0.04958814703259738), (213, 0.04933586361371152), (227, 0.04927271164177766), (519, 0.049135825613876125), (4268, 0.048985488812181385), (2630, 0.04898534827274639), (2417, 0.048975289561833585), (2133, 0.04895833694100604), (384, 0.04856161257376199), (2214, 0.04836649295986436), (2550, 0.048365408344522146), (2579, 0.04816796125212758), (3395, 0.048164788157745886), (1878, 0.0480537951664142), (2294, 0.04801663260090346), (3010, 0.047591919265060595), (4682, 0.04755830312517978), (2374, 0.04735148075296253), (4724, 0.04701989643907342), (2653, 0.04697351928240422), (3374, 0.04659258370787398), (3294, 0.04624323347380143), (1023, 0.04614573925419343), (3974, 0.04564920918028945), (67, 0.04506617878405939), (412, 0.04506044778254055), (904, 0.045049265599229504), (3091, 0.04501840790205196), (2151, 0.04489615902161054), (4456, 0.04486868834608457), (2530, 0.04481510146028208), (4104, 0.044651126235844864), (1257, 0.04460086738980612), (1261, 0.044570869220417475), (1302, 0.04453118969141383), (3023, 0.044472572444595654), (3793, 0.04428791747340871), (3753, 0.044231122632494776), (637, 0.04421437006060525), (2971, 0.044168735616715235), (3408, 0.04404054432044926), (328, 0.043787258882396256), (2694, 0.04368554902472677), (1292, 0.043673801609925275), (615, 0.043627287472934005), (1821, 0.04361028830378263), (161, 0.04350231968158565), (1203, 0.043288373397247996), (2745, 0.04326153862816202), (3518, 0.04319570152119698), (2893, 0.043187343639666156), (1248, 0.04316322790320627), (438, 0.043072240443698714), (277, 0.043059556789028404), (682, 0.043040904339148985), (3552, 0.04302665477519422), (2012, 0.042938531937770384), (4689, 0.04291454282972679), (673, 0.04277602512082654), (408, 0.04269519176334116), (1506, 0.04228253062122538), (455, 0.04213396440391407), (3559, 0.04212369037310277), (3973, 0.041911086844983014), (1358, 0.0418305667382064), (1393, 0.041789154386127465), (172, 0.04169042538412653), (4023, 0.04164010241839036), (3427, 0.04153586768402896), (1850, 0.04146507077720888), (2248, 0.041449056229883215), (360, 0.04140490881144238), (1871, 0.04119734499545335), (1713, 0.04105646453143579), (3249, 0.04101786522213684), (2321, 0.040963322110474557), (2869, 0.040554179176207086), (3209, 0.0404720498947614), (1675, 0.040396587516422805), (2846, 0.04034937166874806), (1369, 0.040273556631534785), (89, 0.04014807769109403), (4588, 0.040074741901526274), (3867, 0.04005546355863066), (2155, 0.04005254584556307), (4488, 0.03987420075053529), (2295, 0.039821906354908745), (185, 0.03981648215324947), (1320, 0.0397552488399696), (44, 0.03961780430399105), (3955, 0.039491108732438586), (1527, 0.03945167296049171), (3373, 0.038926472514427574), (2859, 0.03892062672772364), (210, 0.038872494075225), (1652, 0.03875069306724735), (3947, 0.0387498132259521), (108, 0.03871190052571695), (632, 0.03852152259053765), (109, 0.038488255428289986), (3409, 0.0380955187008168), (126, 0.03803411394029396), (2308, 0.03786870914432211), (4403, 0.037695251803000804), (2187, 0.037639193826533204), (2622, 0.03748821698202328), (3486, 0.03732961088277606), (2540, 0.037262447116274064), (3511, 0.03711590996650717), (1024, 0.037086309751285476), (3652, 0.03705103879988626), (4452, 0.0370131305975355), (788, 0.03677578250603034), (1676, 0.036769000304041524), (4396, 0.03669196977172057), (4362, 0.03662915792058016), (3127, 0.036590721490267514), (3362, 0.03655333120186723), (774, 0.03653446982082753), (3280, 0.03633050021075282), (4064, 0.03630173900756346), (1085, 0.03623876203552008), (3498, 0.036163887622597285), (2212, 0.03611407929187629), (2316, 0.03605001327712352), (4005, 0.03604246095974137), (2716, 0.03603309472599682), (2375, 0.03602916129679265), (911, 0.03585824955577746), (710, 0.03578166731017038), (2018, 0.03563383095352764), (4443, 0.035517277554201775), (4721, 0.03551125010985393), (874, 0.03549031987804056), (2371, 0.03544860769227722), (1991, 0.03537660428888711), (4165, 0.03529172143254558), (1241, 0.0352706973766755), (694, 0.03517836781813185), (3470, 0.03501442704271948), (3045, 0.03500487119962276), (1272, 0.034794423140693004), (2908, 0.0347306977906264), (2868, 0.03471057850484339), (3102, 0.03452469488743669), (830, 0.0344745246856107), (540, 0.03445972856479224), (1389, 0.03445912028134007), (4641, 0.03444472756108918), (2981, 0.03442583219886153), (818, 0.034397558098509876), (2109, 0.034352647667141946), (3731, 0.03430420032682721), (3351, 0.034228172669397226), (1568, 0.03407235441443471), (1379, 0.03405703604165394), (1702, 0.03401178055455821), (1311, 0.03394663995212679), (2123, 0.03394554340436231), (3255, 0.03386118439201841), (3556, 0.03384264898810406), (4209, 0.03371052248760335), (3315, 0.033683187257287854), (4152, 0.03364084318782468), (3330, 0.03361599967121388), (3983, 0.0334519178853037), (4703, 0.03343412394967265), (721, 0.03336245332783653), (1236, 0.03334196963686731), (1752, 0.03333938657742233), (578, 0.033278162659926364), (2122, 0.03310797958980468), (334, 0.033097160057045466), (3430, 0.033069885833702475), (1367, 0.03305734622286169), (4739, 0.032994541915988086), (3656, 0.03288836579668991), (4663, 0.03279450213536398), (3137, 0.03279268523839363), (1770, 0.032782547520737795), (4195, 0.03270387798303687), (3961, 0.032643242208811374), (3004, 0.032584681512207773), (387, 0.032522091160063736), (2365, 0.03251802786423901), (2476, 0.03244347050543419), (1464, 0.03242600299745582), (1837, 0.03240258300693197), (1063, 0.0323986861553641), (166, 0.03236744328857419), (462, 0.03225758483924035), (138, 0.0321965946966296), (2147, 0.03211836769637073), (3466, 0.032114814160377606), (935, 0.0320740971372626), (547, 0.03205811100816747), (4602, 0.03194663943884777), (1146, 0.03193270995829649), (2751, 0.03186976241331189), (864, 0.03186019585537271), (4533, 0.031796990539852035), (4096, 0.03176234276628576), (823, 0.03170971693957012), (65, 0.03168092911305668), (3377, 0.0316397347518423), (1195, 0.03160288863475456), (2517, 0.031513234738017475), (2100, 0.031466640098441356), (2621, 0.031445444080265395), (2082, 0.03137256966163152), (812, 0.03134464238097975), (3376, 0.031092236059193583), (1068, 0.031080086209754415), (4727, 0.03106625234428238), (1885, 0.0309975246079396), (1499, 0.030795662279307388), (3157, 0.030753179174541137), (179, 0.030707903325990372), (1868, 0.030647250708224397), (174, 0.030569480499441422), (3850, 0.030492114933685623), (1173, 0.030413463227986916), (1750, 0.030273505619146518), (3328, 0.030258041215121215), (787, 0.030234382676036564), (4590, 0.030204049246894422), (1043, 0.03019341492590414), (3597, 0.03019147046334423), (2023, 0.030168509278277092), (2807, 0.030117994968785384), (3720, 0.030103653738207493), (2014, 0.030095920732595104), (4004, 0.029992838221305274), (2413, 0.029928886003016544), (4272, 0.02992436166111102), (2710, 0.02988730591823796), (2037, 0.029819326078348505), (2443, 0.029803434615890047), (618, 0.029763727969072954), (530, 0.029741021033032708), (3880, 0.02973200671246555), (250, 0.02960515626621145), (3146, 0.02959142995417388), (1795, 0.02958907599498896), (1648, 0.029561843201275848), (1976, 0.029555193895324648), (2114, 0.029513454653019616), (2887, 0.029503613070800693), (2782, 0.029448976097656177), (3572, 0.029429181493142356), (2706, 0.029422744288845587), (3420, 0.029315121798530082), (4175, 0.029293305955632624), (2614, 0.029225820521244943), (193, 0.029212491040047018), (1973, 0.02915657413264359), (3326, 0.02913698815940024), (3814, 0.029102136897891283), (1788, 0.029045998553708444), (952, 0.029031084004495483), (629, 0.0290204466032395), (4035, 0.028844313228595903), (3313, 0.02878709265918974), (1046, 0.02877186458592983), (1405, 0.028769066044756323), (4402, 0.02872814853482014), (1363, 0.028717455504198446), (4538, 0.02871468051442678), (4668, 0.028690496767730313), (766, 0.028635970060155808), (1482, 0.028603312957890946), (976, 0.02849860982702707), (2481, 0.028479261237740867), (430, 0.02847444789611042), (112, 0.028472602360715568), (2198, 0.028466562898500046), (2102, 0.028465544090018308), (241, 0.02846230566947309), (2221, 0.02843048269601038), (3767, 0.028429464351848312), (1990, 0.0284201409286951), (2723, 0.02837260039695167), (693, 0.028339830117329528), (4645, 0.02833924807672003), (465, 0.02832340194230097), (371, 0.02825155474042153), (1398, 0.028222452550706816), (4177, 0.02821768382122208), (3701, 0.02820311888611831), (2487, 0.028167935775262692), (836, 0.028164079074357654), (1560, 0.028142719658602232), (428, 0.027941476362352217), (2876, 0.02775849524463103), (3871, 0.02774365781683594), (670, 0.02772828857282542), (2791, 0.027708494673946583), (2343, 0.027601570450441173), (4684, 0.02759247388777839), (3488, 0.027582122532805224), (1137, 0.027530878040813937), (421, 0.02749177219642947), (3174, 0.02743679517966769), (3344, 0.027382738811822918), (4160, 0.027334340235441686), (3574, 0.027301137102037586), (1500, 0.027299433109301788), (903, 0.0272937967913948), (3605, 0.027276268392402662), (1845, 0.02726613451399632), (1634, 0.027265975858920762), (1095, 0.027246132772978993), (284, 0.027210766517313724), (176, 0.02718380372445963), (3852, 0.027180701726617212), (3751, 0.027143246434604237), (1162, 0.027084968030862168), (3447, 0.026998497642944912), (593, 0.0269834518549629), (2802, 0.02690014016428078), (3959, 0.026839111166414742), (4701, 0.0268159044669723), (4450, 0.026782449810039403), (4548, 0.026746394406841196), (522, 0.026704190546478414), (2920, 0.02664140279351682), (2912, 0.02663795835188721), (2154, 0.026634248456284988), (1314, 0.026598285558358727), (4141, 0.026591237443928675), (3028, 0.02658445016958451), (167, 0.02657650964316936), (1205, 0.026572826699719294), (1430, 0.02653057804103264), (3688, 0.026503326352086173), (1720, 0.026475090126577592), (4242, 0.026461169972595087), (1847, 0.026430755901808753), (240, 0.026409645255112177), (852, 0.026315624754250793), (2013, 0.026313185451029328), (3684, 0.026220632227902805), (1059, 0.026187328256908955), (4283, 0.02617077662446086), (832, 0.026105036608453716), (381, 0.026093203409695044), (3904, 0.02607674950028117), (3167, 0.026076234240691325), (3154, 0.02606963846967903), (459, 0.026041390263338297), (2687, 0.026027725036469426), (2276, 0.02602103823289531), (2762, 0.02598022380370414), (3260, 0.025956117613509078), (3017, 0.025952831108870544), (2972, 0.025931096430882088), (2394, 0.02568905521652685), (25, 0.025600660315408176), (4294, 0.025578314593772924), (3573, 0.02554701781763867), (1721, 0.02553446122538158), (1060, 0.025524774616417004), (2467, 0.02552401265792079), (4354, 0.025503853369116335), (3156, 0.025482070893600085), (4731, 0.02547436689787727), (2011, 0.025123628978433857), (2094, 0.02510748187337649), (2048, 0.02509301655314845), (2761, 0.025056785877878327), (3285, 0.02498627015545601), (124, 0.02498485601114488), (1763, 0.024934636005999537), (3711, 0.024912006606914262), (1181, 0.024908929074089366), (1351, 0.024875575685802027), (967, 0.02484089246980712), (1749, 0.024814387662836442), (345, 0.024810895755894055), (3963, 0.024787115409651922), (1572, 0.024744485450683612), (2408, 0.024729842506338), (269, 0.024722211015322168), (4554, 0.02471715878629297), (3428, 0.024711329986341776), (1999, 0.024674542916240657), (3746, 0.024584595760600812), (1544, 0.02457419064673378), (824, 0.024553872044813983), (657, 0.024535628803477465), (2689, 0.024527497165292594), (3801, 0.024514707385656417), (2020, 0.024235620690403418), (116, 0.024231348845135225), (1530, 0.02423044829538496), (3692, 0.024225522273777434), (2560, 0.02417174190316551), (3872, 0.024065588995849797), (942, 0.024043262369558355), (2173, 0.02400710912107853), (3835, 0.02397354322931111), (2484, 0.023915177057249912), (3446, 0.023762507383910378), (2950, 0.023732959516752646), (885, 0.02372906869332012), (1412, 0.023629897886256662), (2638, 0.023625589296039674), (3810, 0.023577201281668243), (4659, 0.0235718202463927), (2649, 0.0235700589676888), (155, 0.02353776545091888), (1057, 0.02343832337120043), (2713, 0.023432161916103613), (3773, 0.02339402841957165), (1283, 0.02337597342910932), (175, 0.023330531483932514), (3868, 0.023327313721090363), (2699, 0.02329919140759537), (1865, 0.0232913893449777), (29, 0.02328827758320444), (1186, 0.023229264871711577), (2718, 0.023196744594786774), (3153, 0.023168777515517325), (1997, 0.023141379590983783), (4281, 0.023073171694226444), (2040, 0.022971868335819257), (1585, 0.022947751322156346), (706, 0.022883981926318162), (2647, 0.022788303108140055), (1935, 0.02277733875999061), (3891, 0.022651115487781825), (4053, 0.02264973231545321), (68, 0.022589410734540884), (3839, 0.022556611534142262), (15, 0.022556564866386047), (3913, 0.02250739185219301), (4534, 0.022503792380745714), (515, 0.022499833096115876), (1362, 0.022486463991498947), (1015, 0.022477148208897783), (691, 0.022330801569338962), (3095, 0.022323783766467348), (261, 0.02232369294417245), (88, 0.022301178722772527), (2157, 0.02224516374878037), (1996, 0.0222321859914211), (1141, 0.02222138809003532), (2096, 0.0221631245125817), (641, 0.022162243129839828), (613, 0.022103917336711854), (1515, 0.022061747166271104), (4050, 0.022052871866018453), (3483, 0.022015857129812924), (398, 0.021995497360737776), (2449, 0.021985066932388473), (1505, 0.021982373147284715), (3778, 0.021876216116220825), (917, 0.021822162443509208), (257, 0.021804620814370096), (4128, 0.02176383552670289), (4288, 0.021746012783557665), (672, 0.021739478274217183), (1492, 0.02171558070297426), (2210, 0.02165600559210605), (4608, 0.02163472384787619), (3345, 0.021626760319634532), (1707, 0.021603149809261358), (2822, 0.0215532629683982), (1757, 0.021518240078453512), (2777, 0.021517823981518774), (1629, 0.021463985617207363), (3384, 0.021404263877822273), (2668, 0.02139492682328308), (2646, 0.021358135818460758), (1861, 0.021326685199860577), (1033, 0.021320167194337762), (442, 0.021288297567688547), (2598, 0.021287142760911607), (3916, 0.02128040043462383), (4189, 0.02126938217959492), (3068, 0.021254290997707096), (1270, 0.021212009876187383), (3433, 0.021185525106043747), (1942, 0.02115515210916598), (1397, 0.021082777924745753), (3492, 0.021034828753309143), (1985, 0.021011193896198634), (3665, 0.02101062338723635), (4016, 0.02100276004932242), (3629, 0.020937690266942786), (3222, 0.02092202862294061), (1385, 0.020819608375770075), (4466, 0.020787788619053546), (1817, 0.02076453538075028), (3469, 0.02074519241046778), (2440, 0.02074036111875331), (763, 0.020692910816374383), (4176, 0.020688748123160128), (1678, 0.020674657614782856), (1671, 0.020621715808903353), (2055, 0.02061791562847339), (2174, 0.02061080199928024), (3553, 0.02060821484418429), (4395, 0.020488828449139813), (1510, 0.020480695787819875), (3319, 0.020423232922267755), (3471, 0.02041359884625035), (1003, 0.02040558863047458), (4382, 0.02036499637213191), (3927, 0.02035517822791571), (2301, 0.02034639105331546), (870, 0.020332227193004895), (3978, 0.020316083238736137), (3083, 0.020305822398005775), (1471, 0.020290800155578565), (3352, 0.020253205328728128), (1132, 0.020242473075204687), (2768, 0.020220195133117708), (1017, 0.020210828878643075), (643, 0.020149417240722865), (2808, 0.02014847591523892), (2582, 0.020104138588029275), (3923, 0.020070827841297587), (2501, 0.020059505094761957), (2524, 0.020004759477924062), (4658, 0.0199904648539231), (2995, 0.01996032958314584), (1838, 0.019939936935035117), (3254, 0.019934000066389027), (3504, 0.019916439697188655), (330, 0.01990757698892509), (4492, 0.019899656515150924), (3508, 0.01989176368369531), (1098, 0.019880281477287137), (3857, 0.019866204573821197), (779, 0.019778519028090424), (1657, 0.019728179313836133), (2841, 0.019694680960737992), (4436, 0.0196871042566883), (329, 0.01968018721233163), (3934, 0.019671452130892175), (1927, 0.01966694538109333), (2867, 0.0195693467927074), (1052, 0.01949757886898508), (4156, 0.019497433893036695), (383, 0.01946781715065465), (4007, 0.01940052142068012), (2362, 0.019305653311181028), (463, 0.019270774055312002), (142, 0.019240338070260373), (4088, 0.019228802670990832), (947, 0.019188035695737484), (2469, 0.019146859249126912), (669, 0.019132321637644396), (145, 0.019128060100674707), (4465, 0.019123743707399044), (4380, 0.019095201871988963), (566, 0.019085435302379775), (1202, 0.01908472790733074), (2767, 0.0190204393319657), (2618, 0.019013176209597624), (2736, 0.019008870345464543), (199, 0.018959792932713843), (768, 0.018897801274291613), (3853, 0.01885012676492403), (3111, 0.018849760702424362), (1386, 0.018833157927183337), (2932, 0.018807248735502158), (4203, 0.01875506443394477), (4149, 0.018728310874684195), (4679, 0.01872579986199621), (2760, 0.018712458702392777), (204, 0.01868626967033217), (553, 0.018685764365025583), (3144, 0.01868398340994474), (3403, 0.018660913660548617), (4028, 0.01865704422020719), (2607, 0.01863811941695475), (33, 0.018612326068635436), (2650, 0.018583354119550942), (3284, 0.018580379689813884), (46, 0.01855499596172605), (83, 0.018501078945740608), (2237, 0.018480469432030935), (1937, 0.01843060245413057), (3097, 0.018399578507274313), (968, 0.018377219999664365), (1443, 0.01831419707001223), (1074, 0.01831335563650679), (3000, 0.018313196560767752), (2645, 0.01830642082683205), (160, 0.01829843726228846), (2368, 0.01829532335187565), (2513, 0.018276897871510427), (123, 0.018256088885426406), (3416, 0.018240189933616632), (689, 0.01823124484931015), (757, 0.018171478905814088), (364, 0.01811866749520875), (1872, 0.01809054728158338), (4722, 0.0180897110972239), (3875, 0.01807894377569853), (1226, 0.01807346085546737), (1175, 0.018050829441643247), (3828, 0.0179898628904007), (147, 0.01798970888682872), (4081, 0.01798527591298555), (2795, 0.017963854794401393), (4640, 0.017919357514542888), (808, 0.01788485830207994), (858, 0.017862483039744716), (222, 0.01785601302836042), (2035, 0.017841694875906363), (1112, 0.017814761595896286), (2167, 0.01780073194851991), (2070, 0.017785602537673223), (1365, 0.017784588946112623), (1843, 0.01777743540800436), (1384, 0.01776772589837156), (1129, 0.017757748873229732), (61, 0.01765879545263525), (342, 0.017625924860547256), (1274, 0.017592479476377678), (4349, 0.01758778225581641), (2823, 0.01753869196282759), (106, 0.017511756601740803), (796, 0.017485082104493087), (4012, 0.017483243197010997), (4440, 0.01744862397356858), (3085, 0.017441414767477733), (2553, 0.01743749009788074), (1579, 0.01741251253021824), (2093, 0.017353497854371687), (144, 0.01735016450551756), (1245, 0.01733780597970789), (4504, 0.017262945955099827), (1064, 0.01723362178999547), (3129, 0.017151752126835743), (1493, 0.017113614659723917), (3279, 0.01710645888961131), (1403, 0.0170893583432266), (3528, 0.017064378305444217), (409, 0.017054864370849368), (4321, 0.017028521917406638), (3036, 0.01700523802225701), (3766, 0.016963318783005426), (2207, 0.016959411662291247), (173, 0.01695754465504918), (3675, 0.0169563709364917), (2742, 0.016951046211206897), (794, 0.016938690601848962), (2119, 0.016936626721809574), (203, 0.01692391575379628), (916, 0.01691713963929492), (776, 0.016907533747342923), (4399, 0.016903823538283562), (1759, 0.016900019192624613), (2654, 0.016882448039672114), (4637, 0.01687894953209105), (4735, 0.016832454872681254), (3098, 0.01682852088519415), (677, 0.01682247009934885), (1377, 0.016773445546711195), (2110, 0.01675128583620695), (3226, 0.016748323767747708), (2712, 0.016746711251381167), (279, 0.01674439634537899), (212, 0.01673880855230024), (3213, 0.016734398067455608), (795, 0.016724564291810132), (2149, 0.016711990529519688), (2406, 0.016708556127859726), (3228, 0.01664828857203829), (3976, 0.016645328263089863), (2258, 0.016645098924895147), (3275, 0.016625701732328566), (937, 0.01661899895760169), (433, 0.01659482930332843), (3019, 0.01655924969857075), (2161, 0.016494606341200452), (638, 0.01648509407336536), (860, 0.016481212100768684), (2347, 0.016442297909857247), (1275, 0.01641313101495816), (1609, 0.016380522782178615), (218, 0.016329345660994338), (209, 0.016326637209159098), (4244, 0.01629601541420167), (551, 0.016277960178301926), (876, 0.016236183953495645), (1417, 0.016231265772845838), (1184, 0.016227879133609922), (1216, 0.016219260534941972), (3883, 0.01621442671515648), (511, 0.016166552419491664), (280, 0.01613776228166816), (3043, 0.01610286066186471), (853, 0.016077023266484143), (1254, 0.016063876077209337), (1445, 0.01603828875201241), (533, 0.01599913152574661), (586, 0.015989792128490086), (2917, 0.015979384049559908), (1716, 0.01595280716099609), (3012, 0.01594795700624382), (1018, 0.01592083139307769), (4709, 0.015887549483793922), (701, 0.01587862094836518), (1774, 0.0158766918306859), (458, 0.015871922723417135), (3640, 0.015863756083686856), (2275, 0.015828663325572444), (1523, 0.015826030293870762), (2353, 0.015804215693918204), (4246, 0.015799090880616876), (343, 0.01579270001770119), (692, 0.015779670450911887), (3541, 0.015766542718863782), (888, 0.015765180129318646), (4531, 0.01576425025629922), (1045, 0.015740022259330987), (48, 0.015673410180680997), (2290, 0.015664174994228692), (3895, 0.015657523880602518), (2996, 0.01565414109129707), (3661, 0.01564577425342385), (450, 0.015608519656568693), (1361, 0.015592555033603859), (3299, 0.015574789122903308), (85, 0.01556541576266717), (2229, 0.015545140188962477), (896, 0.015539368002936156), (2885, 0.015530662654673111), (4583, 0.0155091381014043), (4669, 0.015492525466058643), (1741, 0.015474293874286435), (481, 0.015469390328392467), (374, 0.015464220140309494), (1512, 0.015450085039927702), (867, 0.015447275691157164), (3642, 0.01542503819623013), (1325, 0.015417810296419091), (1906, 0.015402172315287375), (3694, 0.015394318681617915), (762, 0.015386234332469936), (2376, 0.015381706835274797), (3086, 0.01536640033114927), (4627, 0.01534759402247288), (4134, 0.015345894727775013), (40, 0.015305064222782005), (3306, 0.0152976874344642), (2254, 0.015264388099765318), (358, 0.01524391279622352), (4482, 0.015224543828703425), (3713, 0.015221954853509276), (21, 0.015211614027840475), (296, 0.015204844606541184), (929, 0.015192476876984532), (3407, 0.015189768722261746), (1119, 0.015187159155518682), (287, 0.015182057023698537), (3797, 0.015180713410318979), (4231, 0.015173882829877292), (2522, 0.015160218557647749), (2298, 0.015147423678755937), (2027, 0.015119115703942199), (622, 0.015114877441477754), (1687, 0.015081911122046706), (1115, 0.015076849560100525), (2639, 0.015060665745970906), (1853, 0.015056577491359784), (620, 0.015054170784840126), (2196, 0.01504249509281068), (3580, 0.015039135519098674), (3777, 0.015029275746340404), (4474, 0.014977388808916116), (1880, 0.014966021703830552), (51, 0.014965979411782005), (3253, 0.014939900433374382), (4178, 0.014936139212549816), (429, 0.01490779398390189), (502, 0.014891603243137274), (3437, 0.014891313208532217), (3375, 0.014880736050025874), (1897, 0.01487409258896271), (437, 0.014872318949017254), (3862, 0.014856134944777395), (43, 0.014851289474516489), (1224, 0.014848645936442459), (879, 0.014840329123637929), (543, 0.014815140222086215), (1983, 0.014814705291966625), (4314, 0.01480113606160618), (1290, 0.014782895037111703), (447, 0.014770438618924464), (4379, 0.014738068688333519), (1919, 0.01472018597119665), (584, 0.014718536886619442), (1682, 0.014708572688973999), (2919, 0.014694787924982376), (1278, 0.014690118271765452), (2053, 0.014685790940849323), (2334, 0.014641018727413666), (2931, 0.014636190656546155), (2644, 0.014605903574472971), (1779, 0.014605505493867625), (895, 0.014602672301442823), (3421, 0.014570533357246243), (208, 0.014564317291621245), (2939, 0.014557655967115493), (652, 0.01454961180007468), (2784, 0.01453920272142293), (3699, 0.014528971303086509), (1337, 0.014516320014404567), (1740, 0.014510564426729728), (3558, 0.014470291425645933), (470, 0.014468577429467194), (1895, 0.014460083088388845), (1116, 0.014454249635706785), (4068, 0.014451184354152645), (899, 0.01444837727674443), (1114, 0.014436591435942683), (1192, 0.0143731268998252), (1335, 0.01436626555567386), (3210, 0.01434822359640147), (3670, 0.014346236810449033), (1232, 0.0143343580423758), (1058, 0.014326445616965337), (482, 0.0143188654065172), (957, 0.014312073755375085), (2284, 0.014301377390974099), (510, 0.014297192125796507), (842, 0.014292048885850284), (934, 0.014284810246050515), (2695, 0.014242176019135196), (2815, 0.014233614635509397), (1152, 0.014231082791516454), (986, 0.01421377061372288), (1509, 0.014205028339216108), (370, 0.014201587388961136), (3807, 0.014150045430268144), (2988, 0.014148959205037392), (4486, 0.014142096503967723), (988, 0.01412871882769501), (1483, 0.01411429787822761), (4000, 0.014109337523178098), (1252, 0.014093237016036805), (1331, 0.014069567805799925), (2727, 0.01405848137238821), (181, 0.014055923457905324), (534, 0.014049144161247579), (1621, 0.014022952914941236), (2961, 0.014001569133349953), (406, 0.013996421309263716), (989, 0.013990992406489754), (3356, 0.01397182288688138), (3295, 0.013969150929514711), (2045, 0.013941721469670177), (2216, 0.013940899929706332), (1413, 0.013922521675538474), (2910, 0.013917633478282367), (4255, 0.013906645140043448), (1343, 0.013894810017357652), (252, 0.013883632146620806), (1401, 0.013872719544761238), (4387, 0.013870068941198365), (251, 0.013867966455367267), (799, 0.013866844082999444), (3535, 0.013840663151712784), (1035, 0.01381887453098141), (1967, 0.01381881748823314), (3370, 0.013807400089293192), (1876, 0.013797207843950315), (1461, 0.013796549363393393), (676, 0.013790445822426271), (4673, 0.013777217612414589), (231, 0.013776482994224607), (1481, 0.01376749105730235), (1945, 0.0137474566656582), (87, 0.01373171111603307), (317, 0.013724375771018173), (3660, 0.013717303640745984), (2468, 0.013656866052808383), (18, 0.01363982471419508), (1478, 0.013621453691624496), (2024, 0.013621436615674162), (2366, 0.01361297626880501), (52, 0.013600804094978335), (3861, 0.013592128894296429), (1465, 0.013588900862715185), (775, 0.013580167832495795), (4610, 0.013579403390591703), (3741, 0.013577240544232178), (3312, 0.013575887940800115), (753, 0.013549278832237006), (1591, 0.013536957187268661), (1815, 0.013530410151107165), (905, 0.013521019557386162), (4374, 0.013502565967730248), (2224, 0.013497855033642384), (814, 0.013495540125448381), (3708, 0.013495528700764465), (1986, 0.013493449677128448), (545, 0.013484509510887666), (4124, 0.013459664088655681), (4747, 0.013451885684782254), (878, 0.01343534518832783), (3819, 0.013430728987528888), (2805, 0.013422971549413958), (276, 0.013412243036761692), (760, 0.013408755868769408), (2632, 0.013395941670378386), (496, 0.013381535196328245), (2460, 0.013377406312830293), (1128, 0.013369172893268506), (236, 0.013361417399169878), (2486, 0.013345114807622595), (4524, 0.013344104735653136), (2008, 0.013341066428520626), (4576, 0.013324419282033591), (1665, 0.013318644524089863), (4121, 0.013294058510116138), (332, 0.013291392972049707), (3630, 0.013248693386756738), (1107, 0.013234704742594434), (866, 0.013223819809213746), (1183, 0.01320329015011182), (207, 0.013202287890523336), (2177, 0.013196531145282497), (1864, 0.013194620422679215), (3119, 0.013176467645873434), (3958, 0.01316359205529406), (2066, 0.013148930864670519), (3110, 0.013148818620795283), (4617, 0.013145152122535166), (1667, 0.013109523324031043), (1317, 0.013109511838372383), (4512, 0.013096663788746788), (356, 0.013085379213571963), (906, 0.01308276936879699), (604, 0.013082263186631315), (1802, 0.013074188414515001), (829, 0.013067152965588674), (2121, 0.013060128472127272), (1255, 0.01303457708815551), (1239, 0.013018313167508913), (2969, 0.012999702326476782), (2383, 0.01299631104498859), (1796, 0.012978653060000052), (1360, 0.012946114937554584), (1680, 0.012918757443092246), (1237, 0.012912529679331913), (13, 0.012904730427356218), (4227, 0.012903133125254939), (742, 0.012895262349341564), (75, 0.012892746449532828), (1595, 0.012872864495596307), (7, 0.012848827437220952), (1681, 0.012832438035811508), (875, 0.012828620175361181), (900, 0.012826494884294267), (963, 0.012823359786905108), (3318, 0.012820183098572135), (1342, 0.012818109313890116), (125, 0.012801531158627047), (1000, 0.012794194783292075), (4475, 0.01279147624721213), (1739, 0.012790065058483046), (70, 0.012784303893544423), (3325, 0.012773806745111466), (833, 0.012768979339293338), (678, 0.01274236717803005), (3659, 0.012739067427470985), (537, 0.0127285761634091), (2978, 0.012709399900374011), (1519, 0.012685818153036859), (2874, 0.012663043704713339), (1293, 0.012627559394743807), (2252, 0.012593659017289198), (3076, 0.012578428563124642), (407, 0.012576162839507807), (3768, 0.01255985800340293), (844, 0.012547501024285899), (2617, 0.012541240022816239), (1654, 0.012540361812405912), (3750, 0.012526912155733271), (2000, 0.012490298103748571), (2803, 0.012484307978364386), (2963, 0.012480046815579984), (1376, 0.012474930782576379), (1988, 0.012449725425893048), (1787, 0.01244311834937289), (3637, 0.012439693379200277), (609, 0.012436169884984385), (4337, 0.012416145648083687), (527, 0.012408426657113936), (4510, 0.01240612048864451), (1220, 0.012381759539653547), (653, 0.012376187134664488), (4265, 0.012370029362516658), (1005, 0.012367191754578264), (1436, 0.012367187829493913), (418, 0.012363494963790642), (1567, 0.012359315313796793), (2412, 0.012351300951143736), (3387, 0.012348352343140653), (936, 0.012343388786512689), (800, 0.012330546240660194), (654, 0.012319247296879221), (1185, 0.012314336497917706), (3108, 0.012312576591772557), (733, 0.01230753482660447), (1104, 0.012302637341744903), (667, 0.012288709705708507), (648, 0.012277887423853674), (2052, 0.012252144053320252), (1934, 0.012249159605660148), (1799, 0.012247251568054), (732, 0.01224641375041674), (664, 0.012230253012714354), (635, 0.012208498691708225), (2447, 0.012200094819470354), (928, 0.012197504397565777), (201, 0.012194922563079247), (1047, 0.012178017913835978), (1432, 0.012175283212771794), (1009, 0.01216995279802753), (3849, 0.012140140403992344), (190, 0.012138750265674795), (1949, 0.012117653116043525), (3507, 0.012116777808516594), (2780, 0.012102460227641366), (1542, 0.01210163220624894), (918, 0.012096049309795825), (4095, 0.012071832731641167), (2771, 0.012070015475522524), (1157, 0.012054222172340505), (341, 0.012040276910772649), (2474, 0.012025234810505206), (1714, 0.012011453185764855), (2235, 0.01201062894525302), (4469, 0.012008625600884143), (1812, 0.011945304239266106), (1832, 0.011937535410330451), (1958, 0.011930646176003005), (130, 0.011926867676679179), (1194, 0.011920690598639651), (2788, 0.011899567306988528), (82, 0.011894144332662657), (1407, 0.011883388438677929), (684, 0.01187270882417908), (1310, 0.011857401788079416), (1099, 0.011857342491158735), (3999, 0.011834468356820938), (2005, 0.011813232567949576), (3747, 0.011810499294329865), (452, 0.011805040282430306), (2602, 0.011802879057726742), (4695, 0.011784777485543659), (523, 0.011754752241863661), (149, 0.011746502833415903), (1215, 0.011742448125855624), (1870, 0.011742165690093414), (86, 0.011733847489721559), (4344, 0.011726694019006622), (560, 0.011723796536706643), (1419, 0.011702375166221543), (1396, 0.011694125599156467), (931, 0.011680378019562551), (1455, 0.01167424438890572), (2145, 0.011667846006835805), (3065, 0.011652341121195921), (3317, 0.011650735201311341), (4623, 0.01164624107645406), (2697, 0.011645129052455468), (4148, 0.011642710729146653), (3756, 0.011635471912017536), (2336, 0.011622841866254629), (2913, 0.01160626617783045), (313, 0.011588694147227201), (4596, 0.011579153357762677), (2280, 0.011578581065887973), (1264, 0.011577457331668602), (1090, 0.011525766979697762), (2306, 0.011519597561857308), (809, 0.011480022502538125), (1303, 0.011468723368048097), (244, 0.011434438545935371), (1761, 0.011427305445703435), (1989, 0.011425033991382281), (1406, 0.01142356735170328), (2925, 0.01142089851991689), (1266, 0.01140830004039545), (500, 0.01139692902865105), (2421, 0.011393352490635826), (1249, 0.011389854850356616), (2178, 0.011369102235506749), (825, 0.011336234973378517), (72, 0.011335815706635274), (2057, 0.011335341988602586), (790, 0.011328819098868296), (3957, 0.01130737537328342), (1053, 0.01130468493347921), (4216, 0.011295742026656222), (2688, 0.011271200116927366), (2918, 0.011260910099604487), (3582, 0.01126006566247155), (4543, 0.011258339788766714), (3240, 0.01124934087059656), (915, 0.01124727302257219), (4477, 0.011228675186954683), (1230, 0.011218996224828769), (1873, 0.011193286227882262), (2206, 0.011172300569001002), (4481, 0.0111676847579278), (1262, 0.011152412806465568), (1420, 0.0111367012403348), (2568, 0.011135731584107675), (402, 0.011099556911853731), (1630, 0.011090579239151285), (827, 0.011088505143461765), (2480, 0.011086109421716206), (1012, 0.011077486485627775), (1655, 0.011075509113125723), (3794, 0.011070808538151015), (1019, 0.011046732439510036), (2625, 0.011042436956048845), (1957, 0.01103713744728498), (1054, 0.011036999446253307), (274, 0.011035641459288753), (1852, 0.011027128083942172), (719, 0.011021069857465699), (2555, 0.011014281773315506), (322, 0.011011274215599966), (1551, 0.010990327322037606), (1696, 0.010965269002219377), (1773, 0.010955897824683977), (2346, 0.010927891419824691), (1992, 0.010919745889197363), (4187, 0.010905512014133227), (2759, 0.010896125543937797), (3992, 0.01086432393823145), (417, 0.010857053144102818), (532, 0.010853692109028056), (321, 0.010853546219663456), (273, 0.01085132528958142), (683, 0.010850382331213302), (281, 0.010850110374057989), (3775, 0.010846868308484497), (3118, 0.010846767325738211), (4325, 0.010841428602515576), (538, 0.010837176004175738), (57, 0.010835008478228547), (2429, 0.010834879177906962), (949, 0.01083005059414121), (2062, 0.010827602309256909), (555, 0.010805867563405052), (3993, 0.01079929981297591), (1789, 0.010793270926753157), (304, 0.010776123342338816), (695, 0.010765812704594108), (1858, 0.010754515078436713), (2769, 0.010746895492522208), (4293, 0.010724969879060454), (2680, 0.010718798803295179), (3524, 0.01071254586238362), (4235, 0.01070958900129352), (801, 0.010706865530756119), (1259, 0.010683260447850177), (4164, 0.010674454149190896), (1923, 0.010674188244428695), (291, 0.010654114070260626), (3094, 0.010653611691713995), (4551, 0.01063669190610985), (4032, 0.01062426291591163), (3951, 0.010623974779247279), (148, 0.010606847740924956), (4619, 0.01060441183101697), (3860, 0.010597587690882967), (170, 0.010590419372720969), (1754, 0.010587649198346934), (3924, 0.010565245191918269), (266, 0.010555380119079243), (2739, 0.010547486722511865), (2464, 0.01054096336188897), (1061, 0.010522732972754847), (4048, 0.010521792466705355), (271, 0.0105134991300384), (4366, 0.010509642903648501), (1723, 0.010497387610157081), (501, 0.010495925548300911), (2403, 0.010494032014463656), (468, 0.010463913523735657), (2097, 0.01045894025071592), (847, 0.010441010725502676), (3070, 0.010441009804938308), (3903, 0.010429036686855615), (2992, 0.010426386435022177), (1662, 0.010422019588149), (3423, 0.010418173494331847), (3426, 0.010402151809410325), (333, 0.010396647172797039), (3099, 0.01039658480611878), (2871, 0.010392979560845669), (1874, 0.010386980241245819), (1694, 0.010377739186490313), (47, 0.010374759033888029), (2051, 0.010344755637093042), (2162, 0.010321303045312515), (2936, 0.010306943195722021), (485, 0.010299890463609938), (737, 0.01026948217402053), (2740, 0.010251653407706708), (354, 0.01023318036745526), (792, 0.010223739969146536), (3822, 0.010223324228813488), (4553, 0.010220370619708468), (3232, 0.010219438024982971), (1339, 0.01021596486720332), (3297, 0.010212639038269281), (206, 0.010195436607244205), (1348, 0.010181205524417286), (1234, 0.010177649958305484), (2436, 0.0101763666679201), (2849, 0.010160919483403278), (483, 0.010147870988533602), (4033, 0.010139571461229513), (2209, 0.010136547687141513), (4605, 0.010113684386539628), (2505, 0.010111741990795405), (99, 0.010108725363944759), (3984, 0.010107881608489588), (1418, 0.010098426231237303), (1658, 0.0100804736714881), (1736, 0.010061615031127952), (270, 0.010051806221174027), (715, 0.010047304304865667), (2049, 0.010037773592981785), (327, 0.010031091446491825), (3382, 0.010028988740987219), (1513, 0.01001205368444008), (4106, 0.010011298899255085), (2546, 0.010005453203518996), (1727, 0.009993058828174554), (2016, 0.00997767205193752), (542, 0.009974966884476081), (2929, 0.009973164018115809), (216, 0.009964319549763762), (1781, 0.00994528192793031), (806, 0.009918568722061226), (120, 0.009912331765059942), (2126, 0.009911946717288973), (2915, 0.009901438303503266), (621, 0.0098894425959586), (979, 0.009887972165231155), (1300, 0.009883442651908875), (2074, 0.00987182120936709), (3674, 0.009866519236776755), (1334, 0.009866451708928596), (2116, 0.009826879593775987), (2494, 0.009816473373279778), (0, 0.009805093506053453), (2489, 0.009794792049552446), (1359, 0.009783798724744835), (3142, 0.009781933944899053), (2820, 0.00978071195270238), (1708, 0.00977923271618291), (1798, 0.009774556470432893), (994, 0.009767338355605823), (4371, 0.009763787259413185), (1440, 0.009759613744201243), (544, 0.009753397860988314), (1092, 0.009742359298906326), (1712, 0.009732335194850535), (2964, 0.009729586930502679), (3949, 0.009725553805078438), (3218, 0.009706867675279642), (1619, 0.009703084106321475), (1922, 0.009702305857966463), (3679, 0.009695639399177612), (2934, 0.009681263395234521), (3155, 0.009676985323238005), (3635, 0.009666279084388137), (1951, 0.009660200117561584), (2565, 0.00965865847843089), (243, 0.009658171853199466), (4435, 0.009657090753751577), (2418, 0.009651250070554153), (5, 0.009639835665946629), (1685, 0.009633240613946496), (4052, 0.009622904531408717), (3612, 0.009614913459816828), (3264, 0.009614029034340893), (4158, 0.009601381761401219), (1075, 0.009591487522932455), (2250, 0.009590492035507887), (1442, 0.009589027181594496), (2633, 0.009558772985519754), (4060, 0.009548933425246273), (2512, 0.009542271470272569), (105, 0.009532098755129267), (2640, 0.0095266684889209), (894, 0.009520951455559387), (1438, 0.009518400966834187), (3919, 0.009518026688365582), (1006, 0.009512410497885452), (3888, 0.009509824437820173), (3599, 0.009506751045859305), (288, 0.009496377944736414), (2601, 0.009495593230104765), (1475, 0.009491808199921728), (2545, 0.009486008708568668), (435, 0.009477836158719862), (2655, 0.009474781634864609), (1048, 0.009461601719983484), (2197, 0.009457720469104737), (1338, 0.009453093408532395), (970, 0.0094477266773976), (3536, 0.009447284878491278), (4025, 0.009445947734436947), (1124, 0.009439593845048234), (2744, 0.009436372522052039), (3689, 0.009417736933841828), (1279, 0.009414733311017304), (78, 0.009399606571884909), (1382, 0.009398048957401735), (2029, 0.009383399674635614), (1494, 0.009379897367766055), (472, 0.00937363469527576), (2075, 0.009368083693250753), (4444, 0.009365545280548903), (2279, 0.009364676134641814), (1860, 0.009363724034355628), (631, 0.009361669401453363), (3215, 0.009351852172126342), (2977, 0.009322674076250256), (4442, 0.009322506640795744), (4192, 0.009307119918901331), (1936, 0.009305710762007565), (1077, 0.009301797749861708), (2789, 0.00929484080316772), (1182, 0.009289577849239701), (2080, 0.00928618343023832), (1688, 0.00928447679177188), (850, 0.009269227266584062), (1087, 0.009256627090253326), (3643, 0.009249751025514884), (353, 0.009247286364833024), (668, 0.009247180014652575), (2798, 0.00924585532579227), (4546, 0.009241565345370472), (396, 0.009236073372609652), (2277, 0.00922963496505729), (1582, 0.009227189264785263), (3386, 0.009225598651981193), (2255, 0.009224149251331642), (2948, 0.009213541283917924), (2752, 0.009192679728709074), (2193, 0.009187834696774066), (2144, 0.009184136725802351), (182, 0.009177613098031676), (1854, 0.009176487834003655), (897, 0.009174254862381888), (2886, 0.009169658422198454), (104, 0.00916249023695782), (2228, 0.009156965667265397), (697, 0.009143071449328688), (3171, 0.009142617878024971), (1160, 0.00912265594299187), (2831, 0.009115470500813768), (3293, 0.009096992545310075), (434, 0.009092715784751789), (3346, 0.009080805971871128), (828, 0.009079231893502364), (79, 0.009076618790839581), (1612, 0.009066688687457698), (939, 0.00906544737876302), (4511, 0.009055944146683145), (346, 0.009047329905670951), (4710, 0.00903722525774957), (3596, 0.009010933192656959), (3941, 0.00900672834789253), (1948, 0.009002170934876052), (464, 0.00899985628656249), (3067, 0.008994762392335234), (3237, 0.008993087333431068), (1620, 0.008987057234226398), (2463, 0.008949838225737732), (4685, 0.008939084683528015), (119, 0.008932839836200662), (1807, 0.008930900977394138), (3046, 0.008930165950430557), (2980, 0.008929695089282258), (111, 0.00892830755196627), (2600, 0.008926105435859566), (3638, 0.00891389255101845), (948, 0.008908360175058827), (2087, 0.008905340302630578), (4612, 0.00890054131435393), (3667, 0.008900171105382569), (3120, 0.008898319654514028), (96, 0.008895438584707134), (1900, 0.008883222611181612), (446, 0.00888200665157438), (2698, 0.008871041588029819), (2103, 0.008865792807943298), (558, 0.008862695499612723), (1096, 0.008857925187504443), (2581, 0.008841135380210335), (1701, 0.008829989975010643), (4660, 0.008816293072121558), (817, 0.008811076124523943), (3521, 0.008807933706918614), (4336, 0.008794656199100886), (651, 0.008790443518269624), (4122, 0.008786711827347365), (19, 0.008784739948684398), (4502, 0.008778213671318655), (3826, 0.00875332692435902), (2363, 0.008743311125802653), (782, 0.008737001055913084), (1020, 0.008735245570264397), (3246, 0.008728646467293667), (2188, 0.00872547504917266), (1446, 0.008725319988941802), (3418, 0.008722324977241059), (3267, 0.00872099401762529), (3123, 0.008720722046885655), (1276, 0.008718177494154983), (2879, 0.008707067714400177), (2143, 0.00870524190616186), (285, 0.008704678727235578), (2459, 0.0087021962221496), (2309, 0.00869760131422764), (1387, 0.00867647295939152), (3151, 0.008673167385631368), (3733, 0.0086716642226203), (2473, 0.008671326295738156), (3784, 0.008666453071715973), (164, 0.0086637829941784), (2778, 0.008645079505384538), (2065, 0.008634933847474486), (962, 0.008633517179123244), (2077, 0.008628455950862961), (2572, 0.008624926760274994), (1710, 0.00862480157860797), (3901, 0.008622386333348416), (197, 0.008597042532415581), (966, 0.00859673890122188), (1429, 0.008595043377298776), (3954, 0.008593121833034326), (2303, 0.008587247057459328), (2812, 0.008580753148387781), (4257, 0.008577179765386035), (3956, 0.008566475219119648), (307, 0.008540452172185265), (2264, 0.00853872494735178), (1793, 0.00853381043446927), (734, 0.008527107655238415), (4664, 0.008516099300011862), (1206, 0.008511491354821), (3399, 0.008506480833147211), (4603, 0.008493147032227942), (368, 0.008492469988221549), (4490, 0.008478846727267671), (921, 0.008473884306744565), (838, 0.00846638251021233), (1776, 0.008464441636809431), (3829, 0.008463648801411847), (1650, 0.008442906417332422), (1514, 0.008426393019628345), (851, 0.008419793419722108), (1920, 0.008418614385203606), (2089, 0.008401063211127489), (1477, 0.008398088250305705), (1968, 0.008396226262273387), (461, 0.008378393185575846), (4412, 0.008375126016394905), (3389, 0.008373948421723199), (4649, 0.00836168035627167), (1875, 0.008361119199879558), (4232, 0.008355629863574444), (1308, 0.008353487600809641), (183, 0.008350342502147893), (3329, 0.008323855378347705), (2427, 0.008304726949703236), (1730, 0.008300929366563799), (2635, 0.008290017471095085), (4163, 0.00828909244186234), (443, 0.00826944426866319), (2265, 0.008265713268684284), (1540, 0.008264873545767477), (1538, 0.00826452714849783), (2236, 0.008262153855153739), (2158, 0.008249182115915606), (449, 0.00823467413153059), (1690, 0.008203297599856187), (2285, 0.008192880614420483), (1050, 0.008188052484759224), (597, 0.00818469269722307), (1924, 0.008167974470972303), (1971, 0.008146467998911177), (4205, 0.00813259415956046), (1762, 0.008122600557858468), (1539, 0.008118828372420504), (107, 0.00810878589263473), (2076, 0.008106110318529728), (3960, 0.00810539258222787), (1507, 0.008102011472032189), (2881, 0.008097352464452926), (4092, 0.008090895367233297), (38, 0.008085428274959462), (3680, 0.008084768946688055), (2587, 0.008080038098663712), (4494, 0.008076927428852684), (4699, 0.008066732917858166), (705, 0.008060671056134335), (4335, 0.008058701805706186), (1553, 0.008035712147274677), (1489, 0.008033719451971283), (3196, 0.008017179405249625), (3, 0.00800429043895183), (1078, 0.008004074147420881), (3032, 0.008002698145813185), (436, 0.007999143568905943), (2975, 0.00799910472417184), (32, 0.007984548069367697), (1136, 0.007982223371637606), (2840, 0.007974038146102614), (729, 0.007972578233613352), (4593, 0.00795009926001135), (1498, 0.007948536519158821), (4105, 0.00794159514227583), (2854, 0.007940287278032945), (139, 0.00793805341964405), (924, 0.007930889582430514), (4707, 0.00792430919711407), (688, 0.007920082561582203), (1960, 0.007915944589589313), (3096, 0.007914711421243769), (2304, 0.007905045081506133), (1764, 0.007892329915581534), (1260, 0.00789217518720284), (2428, 0.007890164359013144), (4748, 0.007885550521461237), (242, 0.00788315237382412), (2942, 0.007878767821754881), (1371, 0.007859168909794434), (1454, 0.007852871846645283), (4046, 0.007837863472015386), (385, 0.007832134714130213), (1790, 0.00783065280778643), (4601, 0.007825524342012363), (816, 0.007822688625960025), (3192, 0.007816038194544935), (1866, 0.007806781469902529), (1833, 0.0077965095169583885), (4133, 0.007795812686827624), (445, 0.007794521839692808), (4522, 0.00779142357392963), (60, 0.007788672977779784), (4013, 0.007783966541683049), (350, 0.007783455522120416), (3453, 0.007781907770548945), (3516, 0.007775657982650569), (3579, 0.0077718523228684465), (162, 0.00777079969696345), (1743, 0.007750090589066046), (3771, 0.007743879506289292), (582, 0.007738614071243571), (2933, 0.0077322804969393675), (3704, 0.007726207293318318), (2477, 0.007724564644052247), (1806, 0.007724060987961748), (1674, 0.007717885024911841), (403, 0.007717320665807714), (728, 0.007711282099805772), (4579, 0.007706345424758966), (3899, 0.007704160140244187), (3634, 0.007698238156314156), (3112, 0.007688011853815088), (1312, 0.007683696684100862), (991, 0.0076745400166616596), (3256, 0.007657278393381899), (1140, 0.007655221232160154), (1537, 0.007654552289488441), (2603, 0.007647101042214017), (4431, 0.007646034470317189), (4038, 0.007643493182656479), (2949, 0.007639155147339895), (3456, 0.007637110780276211), (3821, 0.007635870656724135), (2104, 0.007635517868026244), (3780, 0.00763376181297933), (1071, 0.0076296938801074105), (4118, 0.007629579528410197), (4656, 0.00762921976318077), (2211, 0.007629219619822575), (3586, 0.0076141552283950885), (1014, 0.007610412264289003), (493, 0.007590992590773914), (930, 0.007588642360831523), (616, 0.007587604885805269), (4094, 0.007582355866076667), (3618, 0.007578451625313123), (1705, 0.007576217404227394), (2714, 0.007566646462252821), (1282, 0.0075637968823544744), (1484, 0.007562813857263789), (180, 0.007560424083753986), (1918, 0.007551945563332286), (1225, 0.007542388898273975), (10, 0.007539724639541887), (1400, 0.0075364403700657855), (4289, 0.007530304372005353), (2563, 0.007530270288055349), (2510, 0.007529972715630195), (1571, 0.007527686704103847), (441, 0.0075240589992588355), (2844, 0.007519917586582681), (1902, 0.007514941436228623), (4757, 0.00750809522210286), (1643, 0.00750602651388331), (4557, 0.0075049104273801175), (1188, 0.007504203984202115), (3464, 0.007498307880756478), (716, 0.007497304305137551), (4624, 0.007497150714487853), (4233, 0.007493601501957861), (2088, 0.007490653097136642), (843, 0.007487678947366414), (113, 0.007487310843562389), (255, 0.007486787644460761), (4430, 0.007485544625895459), (845, 0.0074849403670845475), (3905, 0.0074838650684981665), (4045, 0.007474521320913147), (580, 0.007471013806577874), (660, 0.007468299121380836), (1229, 0.007464115927586655), (3514, 0.007463910276476754), (3259, 0.007461484276829566), (2873, 0.007460728637960146), (2339, 0.007460704288731215), (4629, 0.007458366306468024), (4089, 0.0074442941644787), (34, 0.007439622267479849), (1083, 0.007438831750066308), (1950, 0.007437122534097679), (474, 0.00743411352694556), (3039, 0.007433241299459784), (3666, 0.007423488483315583), (143, 0.007421872725142621), (3349, 0.007417544683405594), (1037, 0.007406593398245868), (156, 0.007396517906534802), (980, 0.0073892674550401615), (3018, 0.007388671328103669), (3945, 0.007385100505287985), (606, 0.00738281553042624), (4249, 0.007376866463428257), (3623, 0.007375385289240742), (4470, 0.007371133673986454), (1536, 0.007357200882370105), (3233, 0.007355187520740297), (224, 0.007353548211987467), (4390, 0.007352070975816711), (1069, 0.007349470531851638), (743, 0.007346838592574463), (3008, 0.007343589760949153), (509, 0.00733202705436811), (4098, 0.007328628147016926), (3410, 0.007326878072907434), (3571, 0.007310855744198968), (1174, 0.0073090099747231945), (1931, 0.007304840964451408), (2519, 0.007297888997678441), (1735, 0.007296268013052198), (2843, 0.007294454990914622), (238, 0.007292058096564208), (3653, 0.0072880333298227604), (750, 0.007283807541207739), (3303, 0.0072756740838892334), (3501, 0.007267483112732893), (1144, 0.007259122310498269), (869, 0.007254016902358079), (2091, 0.007249083354071641), (63, 0.00724637379048299), (3645, 0.007244408798507669), (309, 0.0072418730389647145), (2061, 0.007241444441148376), (4077, 0.007237935229267638), (4093, 0.0072372475745065045), (42, 0.0072368252720716965), (1486, 0.0072341660493006), (1472, 0.007232693801577943), (1138, 0.00723229119934274), (908, 0.007227807872197646), (4677, 0.007226291498591362), (2244, 0.007224478463281348), (636, 0.007220498423054625), (2444, 0.0072168229453659265), (3227, 0.007208820988458068), (2606, 0.007198949096365796), (1583, 0.007196604196620224), (696, 0.007196443040031081), (3436, 0.007195539394478742), (4517, 0.007192818112932041), (2101, 0.007188361400101866), (3125, 0.0071848861424403995), (4226, 0.0071813010126941775), (256, 0.007180422705514563), (363, 0.007177918653319793), (1191, 0.007177768471697238), (1223, 0.007177225054212512), (4061, 0.007175096904403546), (4715, 0.007168016491301173), (1488, 0.007167547433373897), (2344, 0.007164432520815711), (4196, 0.0071525035484352175), (1179, 0.007148580085663997), (3245, 0.007148416664097888), (3515, 0.007141768857087135), (4581, 0.007140956745791368), (159, 0.007126037020866246), (2994, 0.0071209261581707105), (494, 0.007107534761405223), (1388, 0.007105864043348033), (3152, 0.0071050995025277695), (4184, 0.007103928823641512), (1811, 0.007092076580957011), (3727, 0.007088736271485592), (1747, 0.007085757718312184), (3624, 0.0070833204707610705), (3435, 0.007080080814085196), (232, 0.007072494943779912), (340, 0.0070577890082476336), (769, 0.007055976434269274), (880, 0.007046905349603814), (4351, 0.007044390945365722), (3195, 0.007035857525779766), (3570, 0.007030792303727617), (2069, 0.007024574301463462), (727, 0.007024317991323227), (3499, 0.007023650271851443), (4284, 0.007015060521553908), (413, 0.007014363525749393), (81, 0.007009943535800456), (1504, 0.007007295859807676), (1737, 0.007007001454081945), (3316, 0.007003850870270371), (3457, 0.007003019585887427), (3185, 0.007000170786572426), (2825, 0.006989309136223861), (50, 0.006986992676753986), (4299, 0.006979491877667863), (4309, 0.00697819374420941), (1653, 0.006972042233695413), (748, 0.0069703375048933616), (4652, 0.006959441062191511), (301, 0.0069485776645648555), (1330, 0.006945237124300198), (1044, 0.006925941771792755), (539, 0.006923300446519886), (600, 0.006911988221385434), (4182, 0.006907818896450108), (217, 0.006895954353204596), (3696, 0.006894880242524033), (1421, 0.006892431195663456), (1718, 0.006885352976791462), (923, 0.0068851967951298505), (503, 0.006882371442124131), (3487, 0.006874077811915605), (752, 0.006874003656088703), (3531, 0.006862294924219215), (4670, 0.006848594424887118), (386, 0.006839997396687533), (4523, 0.006839334010413386), (2691, 0.006834099053790852), (1841, 0.006832081872064486), (3149, 0.0068243582803357815), (1911, 0.006821537542968089), (3122, 0.006820475163202737), (1076, 0.00681994376727047), (4008, 0.006817202182472817), (1001, 0.0068140912017435416), (3035, 0.00680633588123159), (1125, 0.0067987645178981225), (2816, 0.006796760437225053), (3648, 0.006796635583790758), (1375, 0.006795276578803918), (1123, 0.006794885124020777), (644, 0.00679178703311582), (4467, 0.006785277754309837), (671, 0.0067828701196653), (2726, 0.006782846187248173), (1231, 0.006779688354393065), (367, 0.0067777408568684945), (3265, 0.00676947022907611), (778, 0.006760120126778053), (2897, 0.0067578748204000574), (4388, 0.006755130022591245), (3734, 0.006743290499240995), (1177, 0.006734917127738773), (2348, 0.006734311865815141), (2962, 0.006732649301460031), (31, 0.006723965537835128), (2899, 0.00672088624381716), (1738, 0.006716538657576399), (3632, 0.006714251426310356), (1111, 0.006712588014078973), (1041, 0.006711122649795385), (2732, 0.006699254917744874), (2708, 0.0066956042489628945), (1250, 0.006695136066226619), (56, 0.006687995450791239), (2496, 0.006686100058633567), (422, 0.006684770214378325), (1425, 0.006682409645770867), (3452, 0.006666829518739313), (283, 0.0066630664847644825), (4210, 0.006662796250061069), (1819, 0.006660823685789857), (1555, 0.00665572804533087), (131, 0.006655142039509907), (1433, 0.006651536462062502), (4591, 0.006649489713339691), (2184, 0.006646069756180479), (311, 0.006640720103355573), (3342, 0.006638970720780707), (868, 0.006638099025230637), (1306, 0.0066374175223380336), (2335, 0.006626868445508635), (758, 0.006619783688263925), (744, 0.006611821515269222), (1760, 0.006610240515573117), (1448, 0.006606255011892964), (1908, 0.006603738458379501), (4282, 0.006581235977916589), (4001, 0.006579886652293796), (3926, 0.006579383573264012), (1172, 0.006576811496944062), (3460, 0.006574404057633163), (1374, 0.006573576658256201), (4099, 0.0065670934024153515), (4738, 0.0065658473500210725), (3033, 0.006565105720620911), (3876, 0.006562838398218208), (1644, 0.006561402643121728), (1501, 0.006560512948820128), (1462, 0.006557735573350133), (1345, 0.006554266558119459), (910, 0.006544699287657488), (2324, 0.006544521660283182), (3594, 0.006542877340613763), (745, 0.006541447895988961), (863, 0.0065353030348067245), (1065, 0.0065346759690377235), (1238, 0.006524049508288305), (22, 0.006522322352622825), (122, 0.006517403480064114), (834, 0.006515346842433372), (2503, 0.006513803988319436), (996, 0.00650992907297042), (1692, 0.006499365798951295), (3474, 0.006496581950922932), (1987, 0.006494419384748071), (1892, 0.0064921382164791095), (1867, 0.0064873231004886215), (1913, 0.0064824046591955295), (1329, 0.006482212817589641), (608, 0.006480886036499979), (3705, 0.006469532567629695), (1849, 0.006466697460137597), (1964, 0.0064629052195067475), (4154, 0.006460444818820417), (2031, 0.006451642626205173), (563, 0.006446918984242734), (581, 0.006442908807660053), (3842, 0.006439580046008825), (981, 0.006436594763438927), (804, 0.00643048176526698), (1094, 0.006428490781993139), (3288, 0.006427108303657308), (3066, 0.006417860970259336), (2424, 0.006412851568886811), (3841, 0.006411621947297272), (2239, 0.0064075663286851355), (230, 0.00639704758425901), (2580, 0.006384813030862253), (1414, 0.006378299226169405), (1816, 0.0063776716730922734), (940, 0.0063722015027342874), (4367, 0.00636561455566984), (2724, 0.006353092312566321), (1267, 0.006350083320400627), (4217, 0.006344514387184783), (2095, 0.00634399459508417), (4661, 0.006337486653117294), (2056, 0.006329973382063175), (3998, 0.0063284474489425134), (4564, 0.006324868664687), (521, 0.006324471633262137), (4459, 0.006319462824825346), (200, 0.0063174060384895165), (1608, 0.006310806604842772), (4303, 0.006307820224547157), (2833, 0.006306426535276038), (497, 0.0062960181399715895), (1552, 0.0062804575791378355), (1526, 0.006277220093134095), (3910, 0.006276866044991003), (3309, 0.006272591746028673), (300, 0.006258139455269687), (4432, 0.006257829146207155), (4691, 0.006248887308908626), (1327, 0.006246469827302094), (4666, 0.00624575032328202), (3458, 0.006237886369444204), (2388, 0.0062273930887486294), (1818, 0.006224779631552357), (1664, 0.006221292918029591), (263, 0.006216251561942655), (1213, 0.006215002337363142), (835, 0.006210819751878022), (1797, 0.006202669692847394), (3864, 0.006198950838403934), (2202, 0.00618838480396512), (1307, 0.006181668255159588), (2160, 0.006181185621205107), (642, 0.006175541244757281), (3566, 0.006170320282172521), (862, 0.006163646870521245), (861, 0.006156676188760679), (2205, 0.006148708939289659), (1903, 0.006144808322546006), (1746, 0.006130600381762394), (3909, 0.006128669375239794), (1939, 0.006122496770723247), (3721, 0.006120051103397477), (1627, 0.006111510124918706), (568, 0.0060923938011236784), (9, 0.0060788229041643105), (248, 0.006076898456420151), (4236, 0.00607498699543385), (3114, 0.006072588491821387), (4009, 0.006069496564969899), (2175, 0.006065790209232859), (35, 0.0060612328203774185), (4342, 0.006053130571462051), (1356, 0.00605131280670182), (617, 0.006036313815003582), (3244, 0.006017414560259965), (821, 0.0060159760666970525), (3975, 0.006013273983329386), (2203, 0.006010749392625514), (4537, 0.006005299509575736), (958, 0.006004028909589243), (4733, 0.005965512302462514), (2355, 0.005960565575827433), (3331, 0.005959816487740433), (16, 0.005959078936688497), (583, 0.005955003048448513), (3715, 0.0059530536022729275), (3658, 0.005945222312437101), (1214, 0.005932567568348968), (3825, 0.005930841255515678), (4219, 0.0059307558518514976), (2058, 0.0059278268030316114), (4055, 0.005924818293621736), (2426, 0.005920751565415964), (1316, 0.005910781285140436), (1981, 0.005908455371472134), (2185, 0.00588469360959802), (1715, 0.005883156475360245), (4646, 0.005882073074407983), (4464, 0.005865917370922849), (3865, 0.0058581472784253845), (2156, 0.005849206467237161), (4057, 0.005838723038181403), (2935, 0.005833966818310371), (4047, 0.0058310531983781005), (4110, 0.005829926434041165), (3598, 0.0058148858738907615), (3844, 0.005781129296899576), (4208, 0.005772631262084198), (953, 0.005756518916356406), (1684, 0.005754002436817408), (4674, 0.005742313437079809), (3049, 0.00572814392853459), (1344, 0.005721039864961347), (4385, 0.005717363384544329), (3509, 0.005699119019090606), (3748, 0.005683490190282456), (1863, 0.0056731213019529155), (3588, 0.005668212447753092), (2328, 0.00566232403041731), (3391, 0.005654239730508646), (4653, 0.005640484385845355), (2291, 0.005627749684426434), (3942, 0.0056275672924494405), (2098, 0.005618888882314847), (3744, 0.005614568383030679), (4518, 0.005600386434985415), (177, 0.005599808753936732), (3448, 0.00559647446856459), (3502, 0.005583987359637697), (3752, 0.00558054137277933), (4514, 0.00558021931038109), (4698, 0.005566055076203875), (3164, 0.005562750374493199), (1941, 0.005521670047666053), (571, 0.00551243089187356), (512, 0.005483270579141842), (2567, 0.005474566349004076), (2273, 0.005445167150185859), (4642, 0.005444385938077967), (562, 0.0054240222811259235), (3940, 0.005415808786037161), (369, 0.0054147171174585024), (4285, 0.00541390337248493), (2665, 0.005408896703823956), (2439, 0.005393098007991499), (1940, 0.005391940370749308), (3022, 0.005367062238452818), (3440, 0.005360191089565495), (4726, 0.005357462984646266), (2809, 0.005339089482851616), (1695, 0.005316808464005938), (4331, 0.005314131386390757), (4162, 0.005309960252153657), (4527, 0.005304592026024582), (380, 0.0052998836952428295), (1381, 0.005294134442307873), (3117, 0.005288750302616193), (1453, 0.005285281631882958), (855, 0.005267649046133167), (4261, 0.00524913093386109), (2774, 0.005249022144044435), (477, 0.005239784974437233), (2181, 0.005236538353974075), (425, 0.0052336539784553745), (4746, 0.00523258618884702), (2576, 0.005219129861897875), (4462, 0.005213474094856588), (2022, 0.005209538508579562), (3168, 0.005194831847603899), (666, 0.005191363840721599), (2700, 0.005182671029789314), (4307, 0.005179565875975143), (4630, 0.005173595112168346), (3158, 0.005170714049097465), (2683, 0.0051675037568785385), (168, 0.00516262901543751), (1158, 0.005154276117296022), (1391, 0.0051468920459166075), (4120, 0.005142394346497135), (4043, 0.005142156064116709), (2113, 0.005140329245801168), (1332, 0.005140102469137354), (1962, 0.005139410447659317), (4515, 0.005133628241484277), (3180, 0.005132573372863185), (4119, 0.005127533389383313), (2733, 0.005124706672572313), (687, 0.00511838964431733), (128, 0.005117957196142506), (2231, 0.00509809890783702), (550, 0.005095713449789214), (1554, 0.005079354545010316), (2314, 0.005075043982713094), (595, 0.005073766918951453), (4091, 0.005069099168848594), (3604, 0.005067139324779592), (69, 0.0050655150859636395), (2626, 0.00506321164286469), (1167, 0.0050542477564664914), (3802, 0.005051573170028611), (3787, 0.005050684028750155), (802, 0.00504790855259478), (831, 0.005047293476683471), (102, 0.0050401893607578485), (4240, 0.005036241334993982), (3263, 0.005025888185502877), (1829, 0.005021692709172187), (3163, 0.005021375235815921), (513, 0.00501502826446355), (303, 0.0050061679094136795), (514, 0.0050030246168500945), (3938, 0.005002076654805726), (2136, 0.004999931651805338), (4595, 0.004991963728483643), (2599, 0.004986212320267051), (2084, 0.00497883099639507), (1150, 0.004975946962821242), (3468, 0.004972065267270442), (4090, 0.00497122442224054), (4076, 0.004970043121679035), (1661, 0.004967986400080027), (1952, 0.004967831528029215), (1724, 0.004967362630089575), (6, 0.0049636657561850026), (420, 0.004960790573790974), (4312, 0.004956559811046085), (3584, 0.004954609078497461), (4373, 0.004944937742506396), (3451, 0.0049447961135720125), (3782, 0.004941626446775452), (3774, 0.004940102439502154), (1575, 0.0049396247556743895), (3131, 0.004935719359181448), (992, 0.004935502243441057), (1614, 0.004935318091384704), (414, 0.0049328465277153274), (1732, 0.004930749603787047), (3438, 0.004925075352046845), (1659, 0.004917338400093204), (2283, 0.004916374937626596), (1280, 0.004912549776270106), (4719, 0.004912020457018883), (1791, 0.004911393510206822), (3997, 0.00491138185917065), (3710, 0.004904565905805378), (2044, 0.004900368156440432), (239, 0.0048934110269985434), (3897, 0.004891332365552053), (2208, 0.0048896326651322545), (1426, 0.004887726304196335), (2819, 0.004887152493105063), (4384, 0.0048863605224429355), (3205, 0.004886156117287779), (1904, 0.004878866675051579), (2330, 0.004877726866423949), (220, 0.004877383327231497), (1452, 0.00487629717543762), (765, 0.004875714723265432), (1531, 0.00487448226189164), (1502, 0.004871803904837503), (1380, 0.004865433624290718), (1859, 0.004864612361744437), (891, 0.004859604317280072), (1975, 0.004859271928670792), (4392, 0.0048578911171751425), (1449, 0.0048567821917755724), (2959, 0.004856626562989745), (2790, 0.004850603519905103), (561, 0.004843879649288874), (2064, 0.0048383411344764616), (320, 0.004836468342738552), (3513, 0.004833569400596494), (4639, 0.004827393660535323), (1881, 0.004825322882698361), (3769, 0.004823654473202805), (4621, 0.004820847396153738), (1588, 0.004820371979478831), (2015, 0.004817274786074442), (3134, 0.004815055879995135), (4586, 0.004803874390034195), (27, 0.004792270397812901), (793, 0.0047911708785747225), (3124, 0.004789723535567622), (3907, 0.004786368378027254), (4275, 0.004783375335158279), (3995, 0.004783012688872664), (4552, 0.004781914462610898), (189, 0.004777355844485406), (1469, 0.004775977068505571), (3398, 0.00475799272399742), (3191, 0.004749484075312183), (95, 0.004745609331166691), (685, 0.0047391400645060075), (3179, 0.004737186136549798), (4377, 0.00473449738414215), (118, 0.0047336369622742935), (902, 0.004732429780589892), (4376, 0.00472987449563689), (4251, 0.0047298250345804435), (2947, 0.004728489945670272), (1901, 0.004728085067675582), (1431, 0.004724038283531272), (1435, 0.004716569576995678), (4678, 0.004715176978610753), (336, 0.0047110789913987), (2960, 0.004705331125110952), (3815, 0.004703487539245398), (1587, 0.004696037086649698), (3404, 0.004693774086371659), (919, 0.00468827488780651), (3576, 0.0046855570241939055), (3833, 0.004685092741441777), (2278, 0.004680281026963687), (3932, 0.004678398488262889), (811, 0.004677175365825214), (2991, 0.004674826020757208), (3908, 0.004674093092431093), (3520, 0.004670251586150549), (1998, 0.0046690561382591615), (1930, 0.004663673342829262), (2130, 0.004663428752584404), (3005, 0.004662843276282043), (30, 0.004648836119227042), (4103, 0.004638354930990023), (4360, 0.004638002055274864), (451, 0.004633317948990185), (39, 0.0046323263203813065), (4383, 0.00462950343379809), (347, 0.004629011445466316), (2506, 0.004628370144810393), (315, 0.004627579160961795), (3367, 0.004620646774560631), (4310, 0.0046180641193807465), (1566, 0.004617094549750663), (849, 0.0046103472537448245), (135, 0.004609422560900165), (305, 0.004608912986979318), (2246, 0.0046047215511126685), (389, 0.0045928926555422215), (619, 0.004592008813534647), (460, 0.004591946474043866), (4248, 0.004586070327996085), (3432, 0.004579595707835179), (4708, 0.004578152801117167), (4665, 0.004575605255719264), (375, 0.004559317565774012), (2847, 0.0045548691027893886), (233, 0.004553254985288595), (3161, 0.0045511871687618005), (3443, 0.004550394474658327), (467, 0.0045476787092075905), (4264, 0.00454624722656051), (1573, 0.0045449107212447585), (1857, 0.0045417035015950635), (1127, 0.004540712375358485), (3602, 0.004536165102704674), (1622, 0.004534966118457995), (634, 0.004532017668175815), (1082, 0.004530923132656162), (4211, 0.004528622817440264), (927, 0.004525247754470469), (1635, 0.0045244140400680045), (633, 0.0045195689450570255), (90, 0.004511298820312949), (2232, 0.00450713427041366), (4039, 0.004497181173511471), (1933, 0.004496946860875293), (1846, 0.00449415149633611), (1953, 0.004482532871190866), (152, 0.004480162377431887), (3583, 0.004479553777020868), (3555, 0.004471280542747129), (1347, 0.004456071224498093), (2245, 0.0044559238644446015), (3011, 0.004454894047740583), (2432, 0.004446831956179276), (3664, 0.004434450523125298), (310, 0.0044324607065052745), (3886, 0.004430555543774055), (1632, 0.004423258499538447), (4438, 0.004422951263287813), (93, 0.004418656840322171), (3126, 0.004418094007533675), (3970, 0.00441235901817224), (1633, 0.004408178160738385), (1207, 0.004407380155076318), (1993, 0.004404753943201429), (3824, 0.004403203520833348), (3881, 0.004399498239922742), (4587, 0.004396915493480531), (2711, 0.004389725240886559), (2787, 0.0043867942490158265), (4441, 0.004382409607814832), (1631, 0.004376975220158414), (260, 0.004375759434559262), (1428, 0.004373208871986034), (1211, 0.004371438026142519), (3361, 0.004367134773433362), (4071, 0.004365080839408345), (4151, 0.00435750767457364), (3723, 0.004353829586358225), (4292, 0.004346641270334503), (3823, 0.004337632521968428), (3133, 0.00433629262051562), (1914, 0.0043357717271408636), (1451, 0.004333419161392225), (2139, 0.004329829930682735), (661, 0.0043277766914817635), (3135, 0.004320968927313894), (974, 0.00431872120142841), (4585, 0.004316825219797293), (426, 0.004315083525299143), (3788, 0.004312418804018252), (810, 0.00431024470610246), (4328, 0.004309779076309047), (3100, 0.0043093976297925605), (2682, 0.004304243988514541), (3136, 0.004302789301984928), (3966, 0.004302620439293622), (3338, 0.004298076523995532), (690, 0.004292327916105059), (2442, 0.004290553298955561), (2660, 0.004289301064415875), (4697, 0.004288320125964996), (1480, 0.004288052651907407), (3143, 0.004284662611376249), (316, 0.004275668536878031), (1562, 0.004273169941830401), (1623, 0.0042720073056617385), (3079, 0.004251719719739137), (306, 0.004250577618359522), (1197, 0.004241742454974192), (94, 0.0042365859489527065), (2984, 0.004235521067904495), (4274, 0.004230225814165783), (80, 0.004227109798982705), (4322, 0.004224059410919857), (397, 0.004218130295350774), (4339, 0.004214172565029607), (1281, 0.004210757877745523), (1840, 0.004197512097260955), (4193, 0.004195492760646211), (1784, 0.004189175005907085), (3534, 0.004188386236756716), (4044, 0.004185917988001525), (3247, 0.004172448145238135), (4290, 0.004163826251867192), (893, 0.0041600117443788024), (898, 0.004155926036290059), (997, 0.004149127110904068), (2678, 0.004130445306673908), (323, 0.004126702166598835), (932, 0.0041240318599223), (803, 0.004123319018849689), (191, 0.00411617790201361), (4582, 0.004115089528140447), (1154, 0.004112052748094562), (559, 0.004110087166529764), (3495, 0.004102292524056776), (611, 0.004074741219502081), (4365, 0.004063496237183204), (2299, 0.004055627755214389), (3160, 0.00405236397855484), (756, 0.004051083609040267), (3619, 0.0040475877803817254), (187, 0.004046624716605282), (4571, 0.004030049959053471), (4468, 0.004028035082793066), (1925, 0.00402731300929992), (1590, 0.004022298707395246), (3178, 0.004009837888876761), (1772, 0.004003333399430373), (1559, 0.003992703732862146), (1699, 0.003991474843652325), (4426, 0.003980631223261024), (234, 0.003970509617032527), (3339, 0.003970201087966743), (625, 0.0039700919528630274), (1546, 0.003968796498906102), (1753, 0.003965524253339128), (2801, 0.003957482166523577), (3776, 0.00395109019216415), (1309, 0.003948380480033667), (1120, 0.003933222812334196), (3405, 0.003921088336881911), (2541, 0.0039149352811333835), (723, 0.003905451704110581), (1458, 0.003904651594659914), (1910, 0.0038973922084841557), (639, 0.0038956299468069283), (3806, 0.003891967785171729), (3512, 0.003889013171202379), (2757, 0.003881814956378417), (314, 0.00386727864603967), (640, 0.00386212023458578), (3484, 0.003836623982975266), (4555, 0.003822393043576867), (4513, 0.003816259526860173), (469, 0.003812568168855789), (2998, 0.0038074690709344523), (738, 0.0038005054282405303), (2573, 0.0037816412403020683), (3925, 0.0037750382833963013), (290, 0.003764602526997217), (76, 0.003764277116293625), (295, 0.0037622811700992434), (1164, 0.0037512621307350573), (3944, 0.0037188104894249146), (3989, 0.003716566742122906), (1395, 0.003713520399989962), (289, 0.003702706209227987), (1576, 0.003695205136118929), (4607, 0.003682819782953628), (2529, 0.003681546872924425), (294, 0.003673282954906356), (2078, 0.003669061202462885), (2379, 0.003660186594663336), (2490, 0.0036554338412872044), (2937, 0.0036418513127225525), (3523, 0.003635675158808224), (4705, 0.00362608174288888), (2326, 0.003622571305140312), (3051, 0.003617701658361143), (2764, 0.0036132739405708987), (3672, 0.003603859110894287), (2858, 0.0035947932307475285), (2137, 0.003594592562013581), (3139, 0.003590755164002553), (4082, 0.003582801222053071), (2722, 0.0035603643441040967), (2189, 0.003560127381617647), (4202, 0.0035463057159148726), (3040, 0.0035418239777799524), (2989, 0.0035339482019520565), (2251, 0.003528765524922965), (3166, 0.003517983993137304), (2349, 0.0035115697404267793), (1145, 0.003507054526764835), (2407, 0.003505785923314624), (3990, 0.003500660434369241), (2889, 0.0034913155438241164), (2537, 0.003479145804022971), (77, 0.0034769808720954984), (4704, 0.0034647345174586603), (3052, 0.003464159943233295), (735, 0.0034631596343398384), (3055, 0.00345109669377229), (2404, 0.003449565039590501), (2775, 0.0034430225690450433), (4017, 0.0034416299225726284), (2870, 0.003438101273580002), (3561, 0.0034380523706759865), (3042, 0.0034363661000082167), (3030, 0.0034357627126280024), (627, 0.003434199982561845), (2883, 0.0034320629580592323), (2923, 0.00341716694722191), (3291, 0.00340818865345219), (2731, 0.0034043390625112645), (4749, 0.0034036456368132157), (4222, 0.00340138280559341), (4529, 0.003400501052237265), (2310, 0.0033909407420161354), (4221, 0.0033908723979946044), (3479, 0.003387007242974126), (4484, 0.0033814476312483688), (4611, 0.0033805137878272673), (3939, 0.003377902592750367), (2673, 0.003373810766375997), (2861, 0.0033616545852928384), (1210, 0.0033546679070800924), (4172, 0.00335287256990068), (2559, 0.0033339816446641937), (3878, 0.003333324966398531), (4418, 0.0033309126153688575), (2832, 0.0033283583713929433), (4696, 0.0033226057436817526), (2628, 0.0033200750239033737), (4407, 0.0033173901935479254), (3219, 0.0033144042482742184), (2448, 0.0033121806284444346), (2392, 0.003311442215763539), (3292, 0.0033107771042186923), (3762, 0.0033041175749981802), (2199, 0.003301396132983233), (3892, 0.003296946816248689), (3282, 0.0032890614008540546), (4423, 0.0032887293797678515), (4019, 0.0032877144876280358), (2425, 0.0032869830902377425), (2643, 0.0032800529079018326), (2257, 0.0032652889417637662), (3322, 0.003264097186804459), (889, 0.0032639821409427413), (3262, 0.003263324594002952), (2350, 0.0032589804707992606), (2901, 0.00325622751323716), (4230, 0.0032496256231181195), (4142, 0.0032425169740557275), (2838, 0.003241181830687934), (2286, 0.003241134432765468), (1153, 0.0032346284116908913), (1208, 0.0032334025418272053), (4400, 0.0032330609798207196), (4102, 0.00322017641330588), (3848, 0.0032176256582615113), (3015, 0.003213828852942743), (4606, 0.0032107990543004967), (3239, 0.003197536727176097), (3128, 0.0031970079515146023), (2423, 0.0031962161377439434), (3354, 0.0031930841877435717), (3140, 0.0031917751060036416), (526, 0.003189205961226647), (475, 0.0031830170208644714), (1711, 0.0031804287196656516), (1121, 0.0031774370506779245), (3687, 0.003167716046461269), (4692, 0.003165844538685759), (4521, 0.0031656248700788836), (4544, 0.0031638437420695442), (3363, 0.003163022311998249), (3616, 0.0031538433185305395), (3357, 0.0031524982659526628), (2834, 0.00314646446990567), (3537, 0.0031457463849610882), (2557, 0.003145443106586994), (2438, 0.0031414349495008736), (3159, 0.0031389054011713873), (3429, 0.0031366553343255815), (4306, 0.003135535775568489), (3577, 0.003134300423040642), (4107, 0.0031316484334973915), (3922, 0.003130849387440928), (2857, 0.0031306293625923617), (3613, 0.003128211442850244), (2266, 0.003122849247270207), (4572, 0.003112637602421651), (3074, 0.003111619902094144), (4298, 0.003111423665814052), (326, 0.0031059387747140853), (2797, 0.003104258374734227), (2957, 0.0031027576887766857), (3874, 0.003101336326241035), (4723, 0.0031009061546349703), (2488, 0.0030994924411226945), (3031, 0.0030980803409641354), (3832, 0.0030961468799514846), (2848, 0.0030957310537843004), (3302, 0.0030901029595293813), (3620, 0.0030882893020226336), (4147, 0.003088129444104714), (3544, 0.003087182481444542), (2966, 0.0030831102067987726), (3358, 0.003079020136582064), (3020, 0.0030788992114505536), (2415, 0.003077478211326259), (1593, 0.0030735361977677136), (3206, 0.0030685213451301942), (2454, 0.0030625130786813572), (2993, 0.0030590362949574944), (3257, 0.0030559723754571373), (2619, 0.003054195039715814), (777, 0.0030482065377159654), (3413, 0.003046256938374548), (1168, 0.003045520163266067), (2895, 0.0030357343976949364), (489, 0.0030339076498476585), (2434, 0.003031957879212553), (3911, 0.0030305245124554103), (4458, 0.003024789988948817), (1049, 0.003007328604568119), (4280, 0.003005719350014016), (2772, 0.0030042986176780227), (3308, 0.0030025452049455338), (2986, 0.0029999075948067637), (4717, 0.002994680505447409), (2738, 0.0029929611182556615), (431, 0.0029909808972183077), (4632, 0.002990015272819319), (3763, 0.0029889620081975953), (3935, 0.0029885096547979943), (2613, 0.0029878336157534656), (4416, 0.0029853335777020925), (2570, 0.0029850065270741774), (3081, 0.0029847390963485543), (2378, 0.00298470246671094), (3621, 0.002984345128468935), (3745, 0.0029834165348200602), (4584, 0.0029816502268501877), (4633, 0.002980571206173481), (1792, 0.002980454256720252), (4694, 0.002979939651503315), (1187, 0.0029797706917114716), (4145, 0.002979188154616858), (2707, 0.0029766094818745687), (518, 0.002973240242939486), (2720, 0.002972463807842025), (1748, 0.0029693466541139885), (4030, 0.002968509850789978), (4589, 0.0029684950554232452), (1169, 0.0029682484751212346), (4075, 0.0029593107497051722), (3540, 0.002958055113999265), (2142, 0.0029579118169215752), (1547, 0.0029538683671561376), (3359, 0.002951532219733447), (4126, 0.002951204889263052), (2544, 0.0029509775538051728), (3884, 0.0029508011050974987), (2320, 0.002948368317866604), (2696, 0.0029482119642483453), (3072, 0.00294772075305355), (3307, 0.0029460254497445247), (4002, 0.002945363782547396), (1947, 0.0029441683458714552), (2269, 0.002943527824462422), (2924, 0.002941313927795409), (3754, 0.0029412373240704105), (3729, 0.002939207932414357), (3425, 0.0029386601486688355), (4713, 0.002935920646335537), (3230, 0.002927991904175658), (2987, 0.002927922485926736), (3364, 0.002927793378336267), (2884, 0.002927723897692589), (448, 0.002927379117072186), (3419, 0.0029268337374655446), (3337, 0.0029263608551047733), (3396, 0.0029253541966865544), (3506, 0.0029250907731739545), (3866, 0.0029234354102327348), (4650, 0.0029227923349272288), (2872, 0.002919385177617544), (4369, 0.0029178234754435903), (3355, 0.002917792209756374), (925, 0.0029161833874092376), (508, 0.0029161753848960135), (4507, 0.002913088748170219), (3165, 0.0029129982157773647), (4267, 0.002912222038245148), (2478, 0.0029114611772438717), (614, 0.0029098979225331504), (3952, 0.0029084527399929486), (4516, 0.002908239246918524), (1656, 0.002907707999260136), (3639, 0.002902584346526088), (2796, 0.0029024219757778245), (3651, 0.0029012906726482673), (985, 0.0029012034398200413), (2702, 0.002898675239881087), (4295, 0.0028956476258980373), (4117, 0.002895105709173999), (1497, 0.0028944657655568303), (739, 0.002894012255446743), (4753, 0.0028919487884017667), (4243, 0.0028872437447467307), (3772, 0.002886166507773771), (3296, 0.002884568728293128), (2223, 0.0028836577395574144), (3611, 0.0028816713194184584), (2302, 0.002880656086041069), (2629, 0.0028789827889471047), (2437, 0.002878688806085793), (1909, 0.0028786576539522107), (3186, 0.002875686598671847), (998, 0.0028750966104490855), (1887, 0.0028740961062598647), (999, 0.002872743544256604), (2411, 0.002871812848002521), (3148, 0.002871502296407598), (2623, 0.0028711452225422983), (478, 0.00287030905466654), (2400, 0.0028685555016257774), (2914, 0.002868252351944781), (235, 0.002862603765501166), (3013, 0.002861016573119358), (576, 0.0028589991183695838), (1349, 0.0028576281102513806), (3274, 0.002857575305783021), (3587, 0.002856932498632551), (419, 0.0028564076731825024), (4368, 0.0028543440863195955), (4333, 0.0028538356132755457), (3560, 0.002849634449849319), (813, 0.002848492341463616), (3962, 0.0028483911122045955), (2974, 0.0028474488267028765), (922, 0.002845431908189281), (4718, 0.002844408783172781), (596, 0.002841667503161745), (2916, 0.002840804833235857), (1862, 0.002840419532515051), (1594, 0.002839568084275876), (3414, 0.00283898577333146), (4535, 0.0028386710230197294), (2134, 0.00283682288295139), (308, 0.0028360394287527844), (2356, 0.0028351679094693293), (4401, 0.0028335961250180682), (3737, 0.002831959461557706), (3593, 0.0028311413543016003), (4051, 0.0028294868139303216), (3804, 0.0028291372709332873), (1474, 0.0028283790706451106), (444, 0.002825858774682473), (3877, 0.002823766391590153), (3273, 0.0028235332757005805), (2585, 0.0028233189149995163), (2830, 0.0028226149209496687), (4397, 0.0028225842511361257), (41, 0.0028220612513682533), (4706, 0.0028176709841239303), (3003, 0.002817373993822037), (4259, 0.0028171123677211895), (4113, 0.002816959072990225), (2108, 0.002814968163191845), (1890, 0.0028141731231323083), (1109, 0.002812253640075932), (3062, 0.002811765663735291), (4138, 0.0028111756650919376), (2535, 0.002810971301213765), (2592, 0.002807715950437281), (3967, 0.002803644599206201), (3026, 0.002802065432959628), (3101, 0.002801975252648182), (4042, 0.0028011681307968457), (857, 0.0028006579787448853), (2176, 0.0027997386524467593), (1580, 0.0027985796143798237), (2890, 0.002798560657806323), (2159, 0.002796642519650156), (4263, 0.0027933745595439814), (3417, 0.002793308661435089), (587, 0.0027892462176755946), (3116, 0.002786958189800484), (476, 0.002783982955315012), (3677, 0.0027839214224453152), (2410, 0.0027822668653526748), (4446, 0.0027821499840411765), (1479, 0.0027816518653624054), (4308, 0.0027812821125682004), (1733, 0.0027808196806331604), (2390, 0.00278029308266928), (3183, 0.002777237875199438), (2624, 0.0027751302727880463), (253, 0.0027728619056607952), (3234, 0.002772188328120312), (3714, 0.0027721300976903756), (4130, 0.002772030138020013), (318, 0.0027716213992394364), (4140, 0.00277107417659247), (3497, 0.002771044725530212), (4101, 0.002768111461896002), (3813, 0.0027672354263009982), (4732, 0.002766230114419228), (3749, 0.0027652807534091156), (1905, 0.0027650227383712663), (3044, 0.0027645517635581586), (2293, 0.002764491159634992), (1805, 0.0027632161822077742), (499, 0.00276004299098267), (3064, 0.00275966997783602), (2748, 0.002757884417999227), (3258, 0.0027578268313340057), (887, 0.002757674922454598), (4087, 0.0027570148922926073), (2882, 0.0027559720055843895), (2507, 0.002755050857258633), (3915, 0.0027547260209605184), (8, 0.0027543335470164663), (4528, 0.0027542947624417118), (2595, 0.0027508174308408457), (3889, 0.0027505286173344066), (2888, 0.002747280669247543), (2705, 0.002746128020763118), (4545, 0.002744544390204101), (1959, 0.002743436013827267), (3269, 0.0027434131677741987), (192, 0.002743055956303319), (4734, 0.0027408297226725656), (3449, 0.0027405863645363804), (3271, 0.002740341597884234), (3893, 0.0027398348303490174), (4024, 0.002738817823037397), (3757, 0.0027358120658869966), (2190, 0.002733767585924657), (2776, 0.002731525702812193), (1518, 0.0027314707555649107), (1848, 0.0027301751429851437), (1907, 0.0027299453987985325), (4132, 0.0027299151468745046), (4161, 0.002728429570225236), (4657, 0.002727669422357331), (2475, 0.002727438673721665), (1995, 0.002727110649679419), (4540, 0.0027251255860746932), (4245, 0.002724901673319483), (791, 0.002724549082762478), (3184, 0.002724037993344761), (2661, 0.002722596781522986), (3496, 0.0027223481052450734), (395, 0.002721065212472461), (1637, 0.002720463657139303), (4269, 0.0027203946975308483), (3781, 0.0027174020257633266), (4495, 0.002716533945847962), (2786, 0.002715966686361918), (4574, 0.002715543513395254), (872, 0.002715127953717281), (4111, 0.002715031049720803), (1683, 0.002713944367144877), (1409, 0.002713264160293667), (2260, 0.0027130621732044118), (2725, 0.002712359055125162), (3873, 0.00271189350840195), (4680, 0.002711671174492814), (2940, 0.0027107723433522023), (3007, 0.0027094277754945184), (2391, 0.00270877751637532), (12, 0.0027083403549614574), (2393, 0.0027065538121768627), (1324, 0.0027053582349253757), (2609, 0.002705146017436059), (826, 0.002704815148187846), (3601, 0.0027047969246027127), (2664, 0.0027038269428264422), (3235, 0.00270366511309229), (4357, 0.0027034679302635816), (2970, 0.0027032949511497564), (4355, 0.0027018875230114077), (4169, 0.0027015747367255608), (3987, 0.002701211892488908), (2105, 0.002700658222522971), (3434, 0.002698158599317555), (3678, 0.0026980940701351206), (74, 0.0026973212224978174), (680, 0.0026971854142241744), (246, 0.0026971635638096143), (3590, 0.002694058421421463), (623, 0.0026936257054534733), (612, 0.002692730520167283), (2821, 0.002692429842320299), (1896, 0.0026905206917478518), (2361, 0.0026901282387533556), (3084, 0.002689900140730751), (4489, 0.002689857121291043), (3314, 0.002689809805691749), (4471, 0.002689451482618859), (4054, 0.0026892405044579965), (456, 0.002687049016489072), (2792, 0.0026869471767721697), (4505, 0.002684540711662958), (2953, 0.0026844908895121626), (4575, 0.002683455745897461), (2288, 0.0026826168576963225), (2755, 0.0026817901026760537), (4286, 0.0026814309883877183), (2610, 0.0026802854429516187), (4318, 0.0026799528252094695), (1822, 0.0026772468878810953), (3037, 0.0026770809629725915), (3406, 0.0026765700485092488), (4, 0.0026759665928032307), (1893, 0.0026749802914776536), (4420, 0.0026742807744180946), (4566, 0.0026735546109579985), (2878, 0.0026734722698293846), (1916, 0.0026726151622681778), (3388, 0.0026721463052558443), (783, 0.0026716577681842654), (2385, 0.0026712362062835506), (1007, 0.0026699680308093056), (1670, 0.002669356145188007), (3882, 0.002669225472758663), (3187, 0.002668897556949622), (178, 0.0026679650494889234), (3654, 0.0026672976115044516), (1570, 0.0026672319410395474), (2419, 0.0026645177252727064), (262, 0.002664335955514705), (3372, 0.0026635908403475645), (3242, 0.00266272402393711), (4225, 0.002662303167849778), (1402, 0.0026594667380092744), (564, 0.0026570278494582496), (4363, 0.002656280498809686), (1439, 0.002655482349085738), (4497, 0.002655261120508835), (3493, 0.0026545144823408597), (2083, 0.0026541513520933206), (3150, 0.002653530209421675), (20, 0.002652757093444607), (2926, 0.002652376174111369), (3770, 0.002652131044279344), (211, 0.002650943626518147), (1660, 0.002649882201961702), (4448, 0.0026486240455653193), (4083, 0.002647802731253028), (2561, 0.00264593995292727), (3241, 0.0026458927031980627), (3845, 0.002645360677428021), (890, 0.002645070987393356), (717, 0.0026448136161407753), (4419, 0.0026439719893291574), (2531, 0.0026431568888262676), (23, 0.0026429172195160198), (2370, 0.002642265734795532), (4136, 0.0026420257284279123), (3224, 0.0026404774165322666), (1851, 0.0026403793617911795), (2911, 0.0026395262476918485), (3902, 0.00263883245439192), (884, 0.0026386594931607954), (4361, 0.002638633481672648), (2904, 0.002637905178614228), (2405, 0.002637786001383582), (3353, 0.00263670277267785), (588, 0.002635413829651665), (2319, 0.002634696043908463), (1364, 0.0026334624526359895), (4625, 0.002633350504284691), (4262, 0.002633047641598312), (4756, 0.002632461050300673), (987, 0.0026305632048473585), (4079, 0.0026291170110588594), (2148, 0.0026287367207624723), (2072, 0.0026280155284696006), (3920, 0.002626985019883053), (11, 0.0026263170118314915), (3517, 0.0026259815785324957), (1703, 0.0026240806415885843), (1765, 0.0026230801215001583), (4340, 0.002623058386247619), (3527, 0.002621633249481942), (4334, 0.002621276955391081), (4422, 0.002620883442152452), (4287, 0.0026201914461210342), (3198, 0.0026199745298642603), (2863, 0.002614997779838142), (3636, 0.0026136381292832115), (377, 0.0026131342360246296), (1717, 0.0026119870362178933), (1516, 0.0026119169121049373), (3290, 0.0026100030058059257), (4643, 0.0026087964121890832), (1768, 0.0026075507565416433), (1946, 0.002606154682344159), (871, 0.0026058791087421596), (2466, 0.0026046209947012907), (2230, 0.0026046209600846027), (865, 0.0026041473034027983), (3016, 0.002603622948164211), (1294, 0.00260356810870273), (2894, 0.002602627655364738), (4563, 0.0026006699960084098), (3289, 0.0025991464854026964), (3225, 0.002598945361261664), (3809, 0.0025984933906336516), (71, 0.0025982330319670914), (3445, 0.0025973749235322155), (1355, 0.002597179130894557), (3526, 0.002595503472085825), (4273, 0.0025953107452440388), (3542, 0.002594891823392815), (115, 0.0025933002005932644), (2386, 0.0025929474899069405), (933, 0.00259014241972874), (1176, 0.002588853573949991), (969, 0.002588635847946133), (3113, 0.002586774729076886), (3606, 0.0025858958517718123), (4197, 0.002585496993168666), (2073, 0.002584790940607842), (3182, 0.0025835580046934645), (3283, 0.00258328829217608), (2292, 0.0025830825071317533), (1122, 0.002582060742118795), (3707, 0.0025812562026774196), (2397, 0.0025793747195195214), (3792, 0.00257917156307823), (2746, 0.002578707156757989), (2313, 0.002574911454680032), (4049, 0.0025739499721083815), (198, 0.002573256321933335), (1204, 0.0025732065841903317), (2430, 0.002573152120809181), (1533, 0.002572657564705808), (4135, 0.0025721544003564087), (579, 0.0025709274312358285), (1476, 0.002569492630955095), (4014, 0.002566107194359398), (3739, 0.002564063791104236), (2652, 0.0025639897203117157), (1410, 0.0025632853630778354), (4391, 0.002563059388397236), (3335, 0.0025624988480590443), (4501, 0.0025623314809338047), (1722, 0.002561095065502138), (3551, 0.0025597255630833856), (1574, 0.0025593435180176335), (1706, 0.002559280265609513), (2396, 0.0025592317330554275), (4266, 0.00255918244392629), (2554, 0.0025585195387028466), (848, 0.002557744428375922), (993, 0.0025548338994164986), (2192, 0.0025540715080322423), (2169, 0.0025525752827928266), (2783, 0.0025523400942677947), (2492, 0.002552054444300246), (4686, 0.0025516433396604223), (504, 0.002551508415229109), (2067, 0.002551429514355935), (2533, 0.0025508245122476585), (4604, 0.0025498804584698246), (2826, 0.002549723716021327), (378, 0.002547043242925246), (3491, 0.002546138032500976), (3564, 0.002546021075884705), (1131, 0.002544645217036425), (3341, 0.0025432834702508117), (2340, 0.0025424641138803356), (1170, 0.0025390307976471795), (2354, 0.0025387098304631133), (114, 0.0025385934325731236), (749, 0.002537705888891391), (4330, 0.0025375956311465804), (1304, 0.002537023998673735), (3478, 0.002536187190240642), (2495, 0.0025359570773834292), (226, 0.002535833594602342), (1378, 0.0025340273053027084), (4427, 0.0025333347754508614), (1163, 0.0025317112602762436), (66, 0.0025312341363153933), (2387, 0.0025306660961036337), (4320, 0.0025297404552931547), (2195, 0.002529494013120003), (2900, 0.0025281162349556426), (2943, 0.0025270661897384187), (3673, 0.002525909889348108), (3216, 0.0025238101626349585), (2853, 0.002523474283920426), (4056, 0.002522476728047455), (1298, 0.0025221305830124756), (2999, 0.0025217999584430037), (4409, 0.0025211780579558244), (2289, 0.0025186187714121), (4394, 0.002516685249546862), (3441, 0.0025153505923608717), (3477, 0.0025148686093033985), (1891, 0.002514175637785891), (400, 0.002512895464605051), (1072, 0.0025119691133360235), (490, 0.0025114046023391725), (4520, 0.0025106563620273803), (348, 0.002510604930984473), (2060, 0.0025104283919120114), (3565, 0.0025099886574085728), (1831, 0.0025076495173526094), (247, 0.002507649315273456), (466, 0.0025073849909961025), (1411, 0.0025061728502699713), (2569, 0.002506050169739512), (3381, 0.0025058973578958137), (4228, 0.002505610963151872), (1598, 0.0025035780137042654), (1666, 0.0025010320929579654), (1550, 0.0025008431493619386), (2416, 0.0024995988683299917), (1313, 0.0024991701666688348), (973, 0.002498682974922026), (4487, 0.0024986749425632655), (3173, 0.002497668536691947), (3093, 0.002495957880230708), (2946, 0.002495928607667309), (3906, 0.0024952876605332792), (3647, 0.0024952762541183417), (1100, 0.002494207439481666), (1110, 0.0024929035561424492), (169, 0.0024917837504511062), (215, 0.0024916105012742816), (1026, 0.00248868943291918), (1319, 0.0024882460941023266), (4020, 0.0024881089755816052), (3557, 0.0024870467081049533), (3827, 0.0024866665591879505), (3379, 0.0024864932425056924), (1286, 0.0024863444285309457), (1084, 0.0024851270070419744), (1882, 0.0024849159474963373), (2111, 0.0024842942047940035), (98, 0.0024834093817619105), (2945, 0.002482599465415304), (26, 0.0024815199490618002), (4530, 0.0024803676735156844), (2226, 0.0024799385815856717), (4687, 0.002479870547182701), (3220, 0.0024786990760609223), (4036, 0.0024780774227247016), (3069, 0.0024767080275248632), (1617, 0.0024759756901920234), (3719, 0.002475454992011422), (3706, 0.002475133323897431), (4743, 0.002474603104085692), (3412, 0.0024735000721670024), (2909, 0.0024734939006847024), (3402, 0.002471455859944226), (1350, 0.0024704619278470563), (1408, 0.0024700615971213528), (127, 0.0024694587388694607), (1422, 0.0024693633273359873), (1284, 0.0024688492364947816), (2401, 0.002464829336269374), (755, 0.002464731740465136), (3765, 0.002463604274901543), (4693, 0.002463574326632484), (959, 0.002463402893606119), (3075, 0.0024631511126581686), (1813, 0.002462243478839766), (2422, 0.0024618756983895), (4183, 0.002459850172901285), (349, 0.0024597751017132285), (2461, 0.002459043349133404), (4381, 0.0024587286226521532), (4550, 0.00245867485009386), (4573, 0.0024586147419366146), (4129, 0.002454845699527974), (3348, 0.0024544136731035884), (3890, 0.0024536526556442157), (541, 0.0024531262551875307), (488, 0.002453124966462653), (4472, 0.002451605523132174), (2571, 0.002450321298885639), (1645, 0.0024501016352676042), (3298, 0.002449889141972864), (4069, 0.002449679421573418), (1247, 0.0024496046105345025), (2612, 0.0024494145037263775), (2268, 0.002449391524423003), (3641, 0.0024493907161684263), (4139, 0.0024490787046745613), (1969, 0.0024475444749093777), (1463, 0.0024452807156080244), (2642, 0.0024435014093075955), (1597, 0.002443077357812355), (4461, 0.0024415519508728923), (3917, 0.0024396790123713276), (646, 0.0024389251045113147), (3900, 0.0024387712171574766), (1117, 0.0024363948721887485), (2131, 0.0024363566535109517), (4729, 0.0024361362289319413), (2117, 0.002432738926313128), (3503, 0.0024319481504375285), (1034, 0.0024287885484453667), (487, 0.002427831592230217), (2367, 0.002427701738116989), (731, 0.002426041885645131), (1027, 0.0024251785301193946), (2141, 0.0024241215686779806), (4567, 0.002423930849822145), (1416, 0.0024236082196454397), (4536, 0.0024230497488252267), (4155, 0.002422922587266204), (883, 0.002422689099820759), (3214, 0.0024212685427485426), (2779, 0.0024210805376161213), (3268, 0.002420614749260174), (854, 0.0024204130433707048), (798, 0.002420279154987218), (1877, 0.0024201305065912836), (1744, 0.0024194666478152237), (1929, 0.0024177987312427813), (1002, 0.0024164625079969525), (3390, 0.002416444471575386), (157, 0.002415439486141447), (4085, 0.0024138727524534386), (1273, 0.0024137296448996405), (3691, 0.0024132941512466626), (3170, 0.0024127694654795177), (984, 0.0024124304913493468), (4213, 0.0024116332571820073), (221, 0.0024113614902875756), (2765, 0.002410741070728475), (2242, 0.0024106327127107353), (2068, 0.0024099656054347007), (505, 0.002409323202911005), (2965, 0.002409187210510178), (4206, 0.0024090792775228157), (4428, 0.0024082352367095082), (2892, 0.0024074500325428788), (3898, 0.002406745499417385), (767, 0.002405830891505594), (4345, 0.0024056806139171995), (3799, 0.002404097635728932), (373, 0.0024035937816996485), (2679, 0.0023999069621903238), (698, 0.002399544762154424), (2651, 0.002399527090955675), (3646, 0.002398125884687228), (1742, 0.002398036686183953), (1404, 0.0023973664832842947), (2997, 0.0023971601065590833), (325, 0.0023966071369795313), (2800, 0.0023961369181088174), (1032, 0.0023954401496635793), (3014, 0.002394225992439259), (388, 0.0023942044323020653), (3194, 0.002393826048162591), (1036, 0.002391995314691646), (3811, 0.0023908909837663888), (1663, 0.002389267377161177), (2166, 0.002388531571930009), (3615, 0.002388296766524122), (2525, 0.0023881792409710728), (2004, 0.002383684521118418), (3300, 0.002383369460594118), (4011, 0.002381858591799198), (507, 0.0023814032611240723), (4254, 0.0023813558699458046), (1693, 0.002381258262883481), (154, 0.002380610004741567), (3057, 0.0023791981149129493), (1372, 0.0023790922849152413), (886, 0.002377685816062925), (140, 0.0023757143815839364), (3071, 0.002375524856170654), (941, 0.0023753858347316313), (3243, 0.0023753766953138553), (975, 0.00237425448540664), (4059, 0.0023717520410445306), (2552, 0.0023711683412701526), (2099, 0.0023705148642880736), (1884, 0.0023704895535816197), (2634, 0.0023697651035010894), (471, 0.002368427181806095), (655, 0.002368357851637855), (4634, 0.0023665371862373764), (229, 0.0023644648944414113), (2862, 0.0023635872260665803), (372, 0.0023630726175345195), (598, 0.0023630170191799795), (944, 0.0023629094371403355), (659, 0.002362431523901131), (3725, 0.002361483407774026), (3147, 0.0023610495805435113), (410, 0.0023595146802160615), (2201, 0.002359272840430379), (4356, 0.002358670992777147), (1558, 0.0023575804558839336), (2446, 0.0023555939250982988), (2528, 0.00235523293512342), (1456, 0.00235405416458593), (3500, 0.0023529667283993024), (2907, 0.0023521461999904797), (1641, 0.002351853169564637), (2556, 0.0023516975035823688), (589, 0.0023504596104199854), (2129, 0.002350041367477207), (399, 0.0023500375059201137), (1642, 0.002347271044462082), (2317, 0.0023466506336819524), (3627, 0.0023466132651486036), (805, 0.002345272830088757), (4616, 0.0023428090596489324), (136, 0.0023420536635438984), (2735, 0.0023416543354241146), (2399, 0.002341093337304315), (2593, 0.0023399307961830132), (3369, 0.0023393798748198896), (355, 0.002338600461277964), (2482, 0.002337730659309377), (324, 0.002337556451399951), (1357, 0.0023372106844995522), (1543, 0.0023366207244844297), (4479, 0.0023358563951205434), (1814, 0.0023351957135587156), (2674, 0.0023346186385766136), (4174, 0.0023343493902812707), (2845, 0.0023343307734320154), (4348, 0.002332330038672854), (907, 0.0023323006017659177), (1079, 0.002332255965400353), (2453, 0.0023309730193911615), (121, 0.002330964769408956), (3455, 0.002328708998375963), (457, 0.002327732812904547), (359, 0.002327468126652067), (524, 0.002326628494390853), (4326, 0.0023252246844545858), (416, 0.002324088327746965), (3050, 0.002323618032452493), (4277, 0.0023230286175405807), (1672, 0.0023217223960264755), (1628, 0.002320593668512959), (624, 0.0023197786136598822), (1782, 0.002319619744996233), (4620, 0.0023172719562090504), (3742, 0.002316604456287794), (2954, 0.0023157488146083563), (1434, 0.002315527367297578), (4359, 0.0023154577056356935), (4638, 0.002313508444612963), (3563, 0.0023114996233486447), (759, 0.002309117906857393), (2728, 0.0023085003156347404), (3953, 0.0023075672917894077), (3278, 0.0023061090609036313), (1528, 0.002303568038250878), (1503, 0.002299473424889381), (2402, 0.002296822088102547), (3304, 0.002296479559569189), (1869, 0.002296258136156996), (3614, 0.0022955963386496457), (473, 0.0022945038896853643), (3311, 0.0022941875363447282), (1827, 0.0022934225352260924), (1826, 0.0022933726714825576), (2338, 0.0022913946207671343), (1605, 0.002291251246732443), (1161, 0.0022893898458985064), (1719, 0.002288890438865886), (2323, 0.0022887100335569686), (1366, 0.0022877468313852664), (4350, 0.002285970053867939), (4712, 0.002284689699683904), (2741, 0.002283548881816105), (1080, 0.002283153078480931), (3336, 0.0022827623066486316), (4074, 0.0022823850645029334), (3027, 0.0022822077528129765), (3986, 0.002281949782837444), (2457, 0.002281400117753307), (1625, 0.0022805657073798964), (4143, 0.0022797552107130968), (3863, 0.002279008679471772), (722, 0.002278862164489498), (4304, 0.002276243083383022), (2591, 0.0022753445327195194), (1219, 0.0022752191158049357), (158, 0.00227496768572757), (3327, 0.002274866668351808), (1980, 0.00227477464899649), (1808, 0.0022745282789540036), (4080, 0.002274010786165699), (1004, 0.0022732257076968922), (2976, 0.0022719244680200154), (3795, 0.002268685180826908), (594, 0.0022668822325154743), (1921, 0.0022665867771187306), (815, 0.0022658102075283266), (856, 0.0022638347872648936), (2163, 0.002262996563982751), (268, 0.002262024465164382), (1318, 0.002261869906682178), (2213, 0.0022616680757847943), (1392, 0.0022549171667648254), (703, 0.002252830558764677), (3380, 0.002251361322278201), (1423, 0.002250838550875257), (132, 0.00224850359095424), (1830, 0.0022472182498345346), (1394, 0.0022470021552231244), (1954, 0.002246617660364065), (1251, 0.0022442547715836986), (4343, 0.002243294059099313), (495, 0.0022431563403783133), (3755, 0.002241461077547313), (2047, 0.002241134126322357), (712, 0.0022406993971376544), (2502, 0.00223764903510972), (4220, 0.0022373580615292323), (1199, 0.002237279405744827), (2753, 0.0022342808694140515), (184, 0.0022333195719391554), (92, 0.0022319382023189014), (605, 0.0022316315763223366), (4247, 0.002229109657702569), (1616, 0.002228772441146099), (4066, 0.002227252098130379), (97, 0.0022256720396511935), (2240, 0.0022256256462686403), (480, 0.0022254937857947676), (647, 0.002225248093371474), (3894, 0.002224285841091659), (249, 0.002224218157121805), (1301, 0.0022157326279519393), (4296, 0.002209121818019449), (4473, 0.002208848285768499), (1943, 0.0022075058990114124), (2721, 0.002203725342571355), (4429, 0.002202062550120158), (1217, 0.0022018181096331805), (2520, 0.002198569670798424), (2747, 0.002197577518593177), (103, 0.002196696924815654), (3211, 0.002195874288903394), (165, 0.0021924308432048874), (2270, 0.0021913059233266705), (357, 0.002188566105292061), (1828, 0.002188375397088414), (4386, 0.0021873468814636796), (1370, 0.002186813531333692), (1450, 0.002185578767009918), (278, 0.0021843202599993138), (3238, 0.00218259378430728), (2527, 0.002181309191179122), (3393, 0.0021812533691201504), (286, 0.0021763451606793822), (2611, 0.0021758158812791727), (3569, 0.0021744560302634944), (2743, 0.002174428378375937), (4411, 0.002172750642469467), (2382, 0.0021725502922258716), (4476, 0.002170214823496106), (1088, 0.0021680283963311565), (1565, 0.00216783239418901), (2146, 0.0021674057808973805), (1691, 0.002164018010334086), (432, 0.0021575733461531416), (3200, 0.0021549128346638855), (1352, 0.0021543285954857753), (2758, 0.002153957079075249), (1340, 0.0021538351318456717), (3855, 0.0021519815075837063), (626, 0.0021492988165263674), (3669, 0.0021492957787100815), (267, 0.002149267600301901), (3668, 0.002146676808987418), (951, 0.002141013818313959), (3657, 0.0021402453501994097), (4636, 0.0021387597745254486), (2039, 0.0021333513682361693), (707, 0.002133185976689704), (195, 0.002131742281162176), (196, 0.002130241788619929), (1801, 0.0021299122361676443), (2127, 0.0021291085789020394), (3347, 0.0021286521604270314), (2132, 0.0021188073189145665), (3928, 0.002118505549736894), (1042, 0.0021181778347175257), (2359, 0.0021168368849086407), (2287, 0.002115909997010881), (1209, 0.0021134636228278118), (3252, 0.0021132864424817043), (3056, 0.002101035489155867), (901, 0.0021006570803087377), (3024, 0.0020980064772858813), (4200, 0.0020968865998536737), (1305, 0.002096690938261902), (4015, 0.0020921059156520354), (2034, 0.0020894914968265874), (3548, 0.0020856240241655007), (2509, 0.0020841748846264375), (1427, 0.002079006180481084), (1415, 0.002077914644244706), (2526, 0.0020750832006275395), (645, 0.0020714050466539105), (1624, 0.0020638114682631757), (4311, 0.0020605103980192406), (4744, 0.002055966077073321), (2441, 0.0020537366434319666), (4626, 0.002050481727273585), (3575, 0.00204892542434744), (3431, 0.0020366287014385322), (194, 0.0020348397455064384), (3538, 0.0020222667751278976), (2766, 0.002012406547137173), (2010, 0.002002859007078954), (1677, 0.0019953119175455886), (4598, 0.0019897082854757183), (3301, 0.0019860420011163526), (1040, 0.0019808664673990114), (3199, 0.0019640006274080322), (607, 0.0019542901203648206), (3626, 0.0019457778288461565), (453, 0.0019393347333000767), (351, 0.0019349498104706414), (228, 0.0019207863172057056), (2636, 0.001904071921963219), (4445, 0.0019039356006044584), (1277, 0.001896569192555034), (3546, 0.0018921856768456722), (4301, 0.0018816480208664053), (2902, 0.0018652926953995985), (4752, 0.0018166836686154624), (293, 0.0018032932320903583), (4171, 0.0017924201375203218), (3365, 0.001788524576634078), (129, 0.0017710145837505128), (740, 0.0017013738490800243), (3392, 0.0016851661424786926), (202, 0.0016641723699352563), (24, 0.001656448263643531), (1780, 0.0016544448680672222), (3608, 0.001651940750250806), (2534, 0.001131364904594111), (1, 0.0), (2, 0.0), (14, 0.0), (17, 0.0), (28, 0.0), (36, 0.0), (37, 0.0), (49, 0.0), (53, 0.0), (54, 0.0), (55, 0.0), (58, 0.0), (59, 0.0), (64, 0.0), (73, 0.0), (91, 0.0), (100, 0.0), (101, 0.0), (117, 0.0), (133, 0.0), (134, 0.0), (141, 0.0), (146, 0.0), (150, 0.0), (151, 0.0), (153, 0.0), (163, 0.0), (171, 0.0), (186, 0.0), (188, 0.0), (205, 0.0), (214, 0.0), (219, 0.0), (223, 0.0), (225, 0.0), (237, 0.0), (245, 0.0), (258, 0.0), (259, 0.0), (264, 0.0), (265, 0.0), (272, 0.0), (275, 0.0), (297, 0.0), (298, 0.0), (299, 0.0), (302, 0.0), (312, 0.0), (319, 0.0), (331, 0.0), (335, 0.0), (337, 0.0), (338, 0.0), (339, 0.0), (344, 0.0), (352, 0.0), (361, 0.0), (362, 0.0), (365, 0.0), (366, 0.0), (376, 0.0), (379, 0.0), (382, 0.0), (390, 0.0), (391, 0.0), (392, 0.0), (393, 0.0), (394, 0.0), (401, 0.0), (404, 0.0), (405, 0.0), (411, 0.0), (415, 0.0), (423, 0.0), (427, 0.0), (439, 0.0), (440, 0.0), (454, 0.0), (484, 0.0), (486, 0.0), (491, 0.0), (492, 0.0), (498, 0.0), (506, 0.0), (516, 0.0), (517, 0.0), (520, 0.0), (525, 0.0), (528, 0.0), (529, 0.0), (531, 0.0), (535, 0.0), (536, 0.0), (546, 0.0), (548, 0.0), (549, 0.0), (552, 0.0), (554, 0.0), (556, 0.0), (557, 0.0), (565, 0.0), (567, 0.0), (569, 0.0), (570, 0.0), (572, 0.0), (573, 0.0), (574, 0.0), (575, 0.0), (577, 0.0), (585, 0.0), (591, 0.0), (592, 0.0), (599, 0.0), (601, 0.0), (602, 0.0), (603, 0.0), (610, 0.0), (630, 0.0), (649, 0.0), (650, 0.0), (656, 0.0), (658, 0.0), (662, 0.0), (663, 0.0), (665, 0.0), (674, 0.0), (679, 0.0), (681, 0.0), (686, 0.0), (699, 0.0), (700, 0.0), (702, 0.0), (704, 0.0), (708, 0.0), (709, 0.0), (711, 0.0), (713, 0.0), (714, 0.0), (718, 0.0), (720, 0.0), (724, 0.0), (725, 0.0), (726, 0.0), (730, 0.0), (736, 0.0), (741, 0.0), (746, 0.0), (747, 0.0), (751, 0.0), (754, 0.0), (764, 0.0), (770, 0.0), (771, 0.0), (772, 0.0), (773, 0.0), (780, 0.0), (781, 0.0), (784, 0.0), (785, 0.0), (786, 0.0), (789, 0.0), (797, 0.0), (807, 0.0), (819, 0.0), (820, 0.0), (822, 0.0), (837, 0.0), (839, 0.0), (840, 0.0), (841, 0.0), (846, 0.0), (859, 0.0), (881, 0.0), (882, 0.0), (892, 0.0), (909, 0.0), (912, 0.0), (913, 0.0), (914, 0.0), (920, 0.0), (926, 0.0), (938, 0.0), (943, 0.0), (945, 0.0), (946, 0.0), (950, 0.0), (954, 0.0), (955, 0.0), (956, 0.0), (960, 0.0), (961, 0.0), (964, 0.0), (965, 0.0), (971, 0.0), (972, 0.0), (977, 0.0), (978, 0.0), (982, 0.0), (983, 0.0), (990, 0.0), (995, 0.0), (1008, 0.0), (1010, 0.0), (1011, 0.0), (1013, 0.0), (1016, 0.0), (1022, 0.0), (1025, 0.0), (1028, 0.0), (1029, 0.0), (1031, 0.0), (1038, 0.0), (1039, 0.0), (1051, 0.0), (1055, 0.0), (1056, 0.0), (1062, 0.0), (1066, 0.0), (1067, 0.0), (1073, 0.0), (1081, 0.0), (1086, 0.0), (1089, 0.0), (1091, 0.0), (1093, 0.0), (1097, 0.0), (1101, 0.0), (1103, 0.0), (1105, 0.0), (1106, 0.0), (1108, 0.0), (1113, 0.0), (1126, 0.0), (1130, 0.0), (1133, 0.0), (1135, 0.0), (1139, 0.0), (1142, 0.0), (1143, 0.0), (1147, 0.0), (1149, 0.0), (1151, 0.0), (1155, 0.0), (1156, 0.0), (1159, 0.0), (1165, 0.0), (1166, 0.0), (1171, 0.0), (1178, 0.0), (1180, 0.0), (1189, 0.0), (1190, 0.0), (1193, 0.0), (1196, 0.0), (1198, 0.0), (1200, 0.0), (1201, 0.0), (1212, 0.0), (1218, 0.0), (1221, 0.0), (1222, 0.0), (1227, 0.0), (1228, 0.0), (1233, 0.0), (1235, 0.0), (1240, 0.0), (1242, 0.0), (1244, 0.0), (1246, 0.0), (1253, 0.0), (1256, 0.0), (1258, 0.0), (1263, 0.0), (1265, 0.0), (1268, 0.0), (1269, 0.0), (1271, 0.0), (1285, 0.0), (1287, 0.0), (1288, 0.0), (1289, 0.0), (1291, 0.0), (1295, 0.0), (1296, 0.0), (1297, 0.0), (1299, 0.0), (1315, 0.0), (1321, 0.0), (1322, 0.0), (1323, 0.0), (1326, 0.0), (1328, 0.0), (1333, 0.0), (1336, 0.0), (1346, 0.0), (1353, 0.0), (1354, 0.0), (1368, 0.0), (1373, 0.0), (1390, 0.0), (1399, 0.0), (1424, 0.0), (1437, 0.0), (1441, 0.0), (1444, 0.0), (1447, 0.0), (1457, 0.0), (1459, 0.0), (1460, 0.0), (1466, 0.0), (1467, 0.0), (1468, 0.0), (1470, 0.0), (1473, 0.0), (1485, 0.0), (1487, 0.0), (1490, 0.0), (1491, 0.0), (1495, 0.0), (1496, 0.0), (1508, 0.0), (1511, 0.0), (1517, 0.0), (1520, 0.0), (1521, 0.0), (1522, 0.0), (1524, 0.0), (1525, 0.0), (1529, 0.0), (1532, 0.0), (1534, 0.0), (1535, 0.0), (1541, 0.0), (1545, 0.0), (1548, 0.0), (1549, 0.0), (1556, 0.0), (1557, 0.0), (1561, 0.0), (1563, 0.0), (1564, 0.0), (1569, 0.0), (1577, 0.0), (1578, 0.0), (1581, 0.0), (1584, 0.0), (1586, 0.0), (1589, 0.0), (1592, 0.0), (1596, 0.0), (1599, 0.0), (1600, 0.0), (1601, 0.0), (1602, 0.0), (1603, 0.0), (1604, 0.0), (1606, 0.0), (1607, 0.0), (1610, 0.0), (1611, 0.0), (1613, 0.0), (1615, 0.0), (1618, 0.0), (1626, 0.0), (1636, 0.0), (1638, 0.0), (1639, 0.0), (1640, 0.0), (1646, 0.0), (1649, 0.0), (1651, 0.0), (1668, 0.0), (1669, 0.0), (1673, 0.0), (1679, 0.0), (1686, 0.0), (1689, 0.0), (1697, 0.0), (1698, 0.0), (1700, 0.0), (1704, 0.0), (1709, 0.0), (1725, 0.0), (1726, 0.0), (1728, 0.0), (1729, 0.0), (1731, 0.0), (1734, 0.0), (1745, 0.0), (1751, 0.0), (1755, 0.0), (1756, 0.0), (1758, 0.0), (1766, 0.0), (1767, 0.0), (1769, 0.0), (1771, 0.0), (1775, 0.0), (1777, 0.0), (1778, 0.0), (1783, 0.0), (1785, 0.0), (1786, 0.0), (1794, 0.0), (1800, 0.0), (1803, 0.0), (1804, 0.0), (1810, 0.0), (1820, 0.0), (1823, 0.0), (1824, 0.0), (1825, 0.0), (1834, 0.0), (1835, 0.0), (1836, 0.0), (1839, 0.0), (1842, 0.0), (1844, 0.0), (1855, 0.0), (1856, 0.0), (1879, 0.0), (1883, 0.0), (1888, 0.0), (1889, 0.0), (1894, 0.0), (1898, 0.0), (1899, 0.0), (1912, 0.0), (1915, 0.0), (1917, 0.0), (1926, 0.0), (1928, 0.0), (1932, 0.0), (1938, 0.0), (1944, 0.0), (1955, 0.0), (1956, 0.0), (1961, 0.0), (1963, 0.0), (1965, 0.0), (1966, 0.0), (1972, 0.0), (1974, 0.0), (1978, 0.0), (1979, 0.0), (1984, 0.0), (2001, 0.0), (2002, 0.0), (2003, 0.0), (2006, 0.0), (2007, 0.0), (2009, 0.0), (2017, 0.0), (2019, 0.0), (2021, 0.0), (2025, 0.0), (2028, 0.0), (2030, 0.0), (2032, 0.0), (2033, 0.0), (2036, 0.0), (2038, 0.0), (2041, 0.0), (2042, 0.0), (2043, 0.0), (2046, 0.0), (2050, 0.0), (2054, 0.0), (2059, 0.0), (2063, 0.0), (2071, 0.0), (2079, 0.0), (2081, 0.0), (2085, 0.0), (2086, 0.0), (2090, 0.0), (2092, 0.0), (2106, 0.0), (2107, 0.0), (2115, 0.0), (2118, 0.0), (2120, 0.0), (2124, 0.0), (2125, 0.0), (2128, 0.0), (2135, 0.0), (2138, 0.0), (2140, 0.0), (2150, 0.0), (2152, 0.0), (2153, 0.0), (2164, 0.0), (2165, 0.0), (2168, 0.0), (2170, 0.0), (2171, 0.0), (2172, 0.0), (2179, 0.0), (2180, 0.0), (2182, 0.0), (2183, 0.0), (2186, 0.0), (2194, 0.0), (2200, 0.0), (2204, 0.0), (2215, 0.0), (2217, 0.0), (2218, 0.0), (2219, 0.0), (2220, 0.0), (2222, 0.0), (2225, 0.0), (2227, 0.0), (2233, 0.0), (2234, 0.0), (2238, 0.0), (2241, 0.0), (2243, 0.0), (2247, 0.0), (2249, 0.0), (2253, 0.0), (2256, 0.0), (2259, 0.0), (2261, 0.0), (2262, 0.0), (2263, 0.0), (2267, 0.0), (2271, 0.0), (2272, 0.0), (2274, 0.0), (2281, 0.0), (2282, 0.0), (2296, 0.0), (2297, 0.0), (2300, 0.0), (2305, 0.0), (2307, 0.0), (2311, 0.0), (2312, 0.0), (2315, 0.0), (2322, 0.0), (2325, 0.0), (2327, 0.0), (2329, 0.0), (2331, 0.0), (2332, 0.0), (2333, 0.0), (2337, 0.0), (2341, 0.0), (2342, 0.0), (2345, 0.0), (2351, 0.0), (2352, 0.0), (2357, 0.0), (2360, 0.0), (2364, 0.0), (2369, 0.0), (2372, 0.0), (2373, 0.0), (2377, 0.0), (2380, 0.0), (2381, 0.0), (2384, 0.0), (2389, 0.0), (2395, 0.0), (2398, 0.0), (2409, 0.0), (2414, 0.0), (2420, 0.0), (2431, 0.0), (2433, 0.0), (2435, 0.0), (2445, 0.0), (2450, 0.0), (2451, 0.0), (2452, 0.0), (2455, 0.0), (2456, 0.0), (2458, 0.0), (2462, 0.0), (2465, 0.0), (2470, 0.0), (2471, 0.0), (2472, 0.0), (2479, 0.0), (2483, 0.0), (2485, 0.0), (2491, 0.0), (2493, 0.0), (2497, 0.0), (2498, 0.0), (2499, 0.0), (2500, 0.0), (2504, 0.0), (2508, 0.0), (2511, 0.0), (2514, 0.0), (2515, 0.0), (2516, 0.0), (2518, 0.0), (2521, 0.0), (2523, 0.0), (2532, 0.0), (2536, 0.0), (2539, 0.0), (2542, 0.0), (2543, 0.0), (2547, 0.0), (2548, 0.0), (2549, 0.0), (2551, 0.0), (2562, 0.0), (2564, 0.0), (2566, 0.0), (2574, 0.0), (2575, 0.0), (2577, 0.0), (2578, 0.0), (2583, 0.0), (2584, 0.0), (2586, 0.0), (2588, 0.0), (2589, 0.0), (2590, 0.0), (2594, 0.0), (2596, 0.0), (2597, 0.0), (2604, 0.0), (2605, 0.0), (2608, 0.0), (2615, 0.0), (2616, 0.0), (2620, 0.0), (2627, 0.0), (2631, 0.0), (2637, 0.0), (2641, 0.0), (2648, 0.0), (2656, 0.0), (2657, 0.0), (2658, 0.0), (2659, 0.0), (2662, 0.0), (2663, 0.0), (2666, 0.0), (2667, 0.0), (2669, 0.0), (2670, 0.0), (2671, 0.0), (2672, 0.0), (2675, 0.0), (2676, 0.0), (2677, 0.0), (2681, 0.0), (2684, 0.0), (2685, 0.0), (2686, 0.0), (2690, 0.0), (2693, 0.0), (2701, 0.0), (2703, 0.0), (2704, 0.0), (2709, 0.0), (2715, 0.0), (2717, 0.0), (2719, 0.0), (2729, 0.0), (2730, 0.0), (2734, 0.0), (2737, 0.0), (2749, 0.0), (2750, 0.0), (2754, 0.0), (2756, 0.0), (2763, 0.0), (2770, 0.0), (2773, 0.0), (2781, 0.0), (2785, 0.0), (2793, 0.0), (2794, 0.0), (2799, 0.0), (2804, 0.0), (2806, 0.0), (2810, 0.0), (2811, 0.0), (2813, 0.0), (2814, 0.0), (2817, 0.0), (2818, 0.0), (2824, 0.0), (2827, 0.0), (2828, 0.0), (2829, 0.0), (2835, 0.0), (2836, 0.0), (2837, 0.0), (2839, 0.0), (2842, 0.0), (2850, 0.0), (2851, 0.0), (2852, 0.0), (2855, 0.0), (2856, 0.0), (2860, 0.0), (2864, 0.0), (2865, 0.0), (2866, 0.0), (2875, 0.0), (2877, 0.0), (2880, 0.0), (2891, 0.0), (2896, 0.0), (2898, 0.0), (2905, 0.0), (2906, 0.0), (2921, 0.0), (2922, 0.0), (2927, 0.0), (2928, 0.0), (2930, 0.0), (2938, 0.0), (2941, 0.0), (2951, 0.0), (2952, 0.0), (2955, 0.0), (2956, 0.0), (2958, 0.0), (2967, 0.0), (2968, 0.0), (2973, 0.0), (2979, 0.0), (2982, 0.0), (2983, 0.0), (2990, 0.0), (3001, 0.0), (3002, 0.0), (3006, 0.0), (3009, 0.0), (3021, 0.0), (3025, 0.0), (3029, 0.0), (3034, 0.0), (3038, 0.0), (3041, 0.0), (3047, 0.0), (3048, 0.0), (3054, 0.0), (3058, 0.0), (3059, 0.0), (3060, 0.0), (3061, 0.0), (3063, 0.0), (3073, 0.0), (3077, 0.0), (3078, 0.0), (3080, 0.0), (3082, 0.0), (3087, 0.0), (3088, 0.0), (3089, 0.0), (3090, 0.0), (3092, 0.0), (3103, 0.0), (3104, 0.0), (3105, 0.0), (3106, 0.0), (3107, 0.0), (3109, 0.0), (3115, 0.0), (3121, 0.0), (3130, 0.0), (3132, 0.0), (3138, 0.0), (3141, 0.0), (3145, 0.0), (3162, 0.0), (3169, 0.0), (3172, 0.0), (3175, 0.0), (3176, 0.0), (3177, 0.0), (3181, 0.0), (3188, 0.0), (3189, 0.0), (3190, 0.0), (3193, 0.0), (3197, 0.0), (3201, 0.0), (3202, 0.0), (3204, 0.0), (3207, 0.0), (3208, 0.0), (3212, 0.0), (3217, 0.0), (3221, 0.0), (3223, 0.0), (3229, 0.0), (3231, 0.0), (3236, 0.0), (3250, 0.0), (3251, 0.0), (3261, 0.0), (3266, 0.0), (3270, 0.0), (3272, 0.0), (3277, 0.0), (3281, 0.0), (3286, 0.0), (3287, 0.0), (3305, 0.0), (3310, 0.0), (3320, 0.0), (3321, 0.0), (3323, 0.0), (3324, 0.0), (3332, 0.0), (3333, 0.0), (3340, 0.0), (3343, 0.0), (3350, 0.0), (3366, 0.0), (3368, 0.0), (3371, 0.0), (3378, 0.0), (3383, 0.0), (3394, 0.0), (3397, 0.0), (3400, 0.0), (3401, 0.0), (3411, 0.0), (3415, 0.0), (3422, 0.0), (3424, 0.0), (3439, 0.0), (3442, 0.0), (3444, 0.0), (3454, 0.0), (3459, 0.0), (3461, 0.0), (3467, 0.0), (3472, 0.0), (3473, 0.0), (3475, 0.0), (3476, 0.0), (3481, 0.0), (3482, 0.0), (3485, 0.0), (3489, 0.0), (3490, 0.0), (3494, 0.0), (3505, 0.0), (3510, 0.0), (3519, 0.0), (3522, 0.0), (3525, 0.0), (3529, 0.0), (3530, 0.0), (3532, 0.0), (3533, 0.0), (3539, 0.0), (3543, 0.0), (3545, 0.0), (3547, 0.0), (3549, 0.0), (3550, 0.0), (3554, 0.0), (3562, 0.0), (3567, 0.0), (3568, 0.0), (3578, 0.0), (3581, 0.0), (3585, 0.0), (3589, 0.0), (3591, 0.0), (3592, 0.0), (3595, 0.0), (3600, 0.0), (3603, 0.0), (3607, 0.0), (3609, 0.0), (3610, 0.0), (3617, 0.0), (3622, 0.0), (3625, 0.0), (3628, 0.0), (3631, 0.0), (3633, 0.0), (3644, 0.0), (3649, 0.0), (3650, 0.0), (3662, 0.0), (3663, 0.0), (3671, 0.0), (3676, 0.0), (3681, 0.0), (3682, 0.0), (3683, 0.0), (3685, 0.0), (3686, 0.0), (3690, 0.0), (3693, 0.0), (3695, 0.0), (3697, 0.0), (3698, 0.0), (3700, 0.0), (3702, 0.0), (3703, 0.0), (3709, 0.0), (3712, 0.0), (3716, 0.0), (3717, 0.0), (3718, 0.0), (3722, 0.0), (3724, 0.0), (3726, 0.0), (3730, 0.0), (3732, 0.0), (3735, 0.0), (3736, 0.0), (3738, 0.0), (3740, 0.0), (3743, 0.0), (3758, 0.0), (3759, 0.0), (3760, 0.0), (3761, 0.0), (3764, 0.0), (3783, 0.0), (3785, 0.0), (3786, 0.0), (3789, 0.0), (3790, 0.0), (3791, 0.0), (3796, 0.0), (3798, 0.0), (3800, 0.0), (3803, 0.0), (3805, 0.0), (3808, 0.0), (3812, 0.0), (3816, 0.0), (3817, 0.0), (3818, 0.0), (3820, 0.0), (3830, 0.0), (3831, 0.0), (3834, 0.0), (3836, 0.0), (3837, 0.0), (3838, 0.0), (3840, 0.0), (3843, 0.0), (3846, 0.0), (3847, 0.0), (3851, 0.0), (3856, 0.0), (3858, 0.0), (3859, 0.0), (3869, 0.0), (3870, 0.0), (3879, 0.0), (3885, 0.0), (3887, 0.0), (3896, 0.0), (3912, 0.0), (3914, 0.0), (3918, 0.0), (3921, 0.0), (3929, 0.0), (3930, 0.0), (3931, 0.0), (3933, 0.0), (3936, 0.0), (3937, 0.0), (3943, 0.0), (3948, 0.0), (3950, 0.0), (3964, 0.0), (3965, 0.0), (3968, 0.0), (3969, 0.0), (3971, 0.0), (3972, 0.0), (3977, 0.0), (3979, 0.0), (3980, 0.0), (3981, 0.0), (3982, 0.0), (3985, 0.0), (3988, 0.0), (3991, 0.0), (3994, 0.0), (3996, 0.0), (4003, 0.0), (4006, 0.0), (4010, 0.0), (4018, 0.0), (4021, 0.0), (4022, 0.0), (4026, 0.0), (4027, 0.0), (4029, 0.0), (4031, 0.0), (4034, 0.0), (4037, 0.0), (4040, 0.0), (4041, 0.0), (4058, 0.0), (4063, 0.0), (4065, 0.0), (4067, 0.0), (4070, 0.0), (4072, 0.0), (4073, 0.0), (4078, 0.0), (4084, 0.0), (4086, 0.0), (4097, 0.0), (4100, 0.0), (4108, 0.0), (4109, 0.0), (4112, 0.0), (4114, 0.0), (4115, 0.0), (4125, 0.0), (4127, 0.0), (4131, 0.0), (4144, 0.0), (4146, 0.0), (4150, 0.0), (4153, 0.0), (4157, 0.0), (4159, 0.0), (4166, 0.0), (4167, 0.0), (4168, 0.0), (4170, 0.0), (4173, 0.0), (4179, 0.0), (4180, 0.0), (4181, 0.0), (4185, 0.0), (4186, 0.0), (4188, 0.0), (4190, 0.0), (4191, 0.0), (4194, 0.0), (4198, 0.0), (4199, 0.0), (4201, 0.0), (4204, 0.0), (4207, 0.0), (4212, 0.0), (4214, 0.0), (4215, 0.0), (4218, 0.0), (4223, 0.0), (4224, 0.0), (4229, 0.0), (4234, 0.0), (4237, 0.0), (4238, 0.0), (4239, 0.0), (4241, 0.0), (4250, 0.0), (4253, 0.0), (4256, 0.0), (4258, 0.0), (4260, 0.0), (4270, 0.0), (4271, 0.0), (4276, 0.0), (4278, 0.0), (4279, 0.0), (4291, 0.0), (4297, 0.0), (4300, 0.0), (4302, 0.0), (4305, 0.0), (4313, 0.0), (4315, 0.0), (4316, 0.0), (4317, 0.0), (4319, 0.0), (4323, 0.0), (4324, 0.0), (4327, 0.0), (4329, 0.0), (4332, 0.0), (4338, 0.0), (4341, 0.0), (4346, 0.0), (4347, 0.0), (4352, 0.0), (4353, 0.0), (4358, 0.0), (4364, 0.0), (4370, 0.0), (4372, 0.0), (4393, 0.0), (4404, 0.0), (4405, 0.0), (4406, 0.0), (4408, 0.0), (4410, 0.0), (4413, 0.0), (4414, 0.0), (4415, 0.0), (4417, 0.0), (4421, 0.0), (4424, 0.0), (4425, 0.0), (4433, 0.0), (4434, 0.0), (4437, 0.0), (4439, 0.0), (4447, 0.0), (4449, 0.0), (4451, 0.0), (4453, 0.0), (4454, 0.0), (4455, 0.0), (4457, 0.0), (4460, 0.0), (4463, 0.0), (4478, 0.0), (4480, 0.0), (4483, 0.0), (4485, 0.0), (4491, 0.0), (4493, 0.0), (4496, 0.0), (4498, 0.0), (4499, 0.0), (4500, 0.0), (4506, 0.0), (4508, 0.0), (4509, 0.0), (4519, 0.0), (4525, 0.0), (4526, 0.0), (4532, 0.0), (4539, 0.0), (4541, 0.0), (4542, 0.0), (4547, 0.0), (4549, 0.0), (4556, 0.0), (4558, 0.0), (4559, 0.0), (4560, 0.0), (4561, 0.0), (4562, 0.0), (4565, 0.0), (4568, 0.0), (4569, 0.0), (4570, 0.0), (4577, 0.0), (4578, 0.0), (4580, 0.0), (4592, 0.0), (4597, 0.0), (4599, 0.0), (4600, 0.0), (4609, 0.0), (4613, 0.0), (4615, 0.0), (4618, 0.0), (4622, 0.0), (4628, 0.0), (4631, 0.0), (4635, 0.0), (4644, 0.0), (4647, 0.0), (4648, 0.0), (4651, 0.0), (4654, 0.0), (4655, 0.0), (4662, 0.0), (4667, 0.0), (4671, 0.0), (4672, 0.0), (4675, 0.0), (4676, 0.0), (4681, 0.0), (4683, 0.0), (4688, 0.0), (4690, 0.0), (4700, 0.0), (4702, 0.0), (4711, 0.0), (4714, 0.0), (4716, 0.0), (4720, 0.0), (4725, 0.0), (4728, 0.0), (4730, 0.0), (4736, 0.0), (4737, 0.0), (4740, 0.0), (4741, 0.0), (4742, 0.0), (4745, 0.0), (4750, 0.0), (4751, 0.0), (4754, 0.0), (4755, 0.0), (4758, 0.0), (4759, 0.0)]\n"
          ]
        }
      ]
    },
    {
      "cell_type": "code",
      "source": [
        "# Sorting the movies based on the index\n",
        "\n",
        "print('Top 30 Movies suggested for you : \\n')\n",
        "\n",
        "i =1\n",
        "\n",
        "for movie in Sorted_Similar_Movies:\n",
        "  index = movie[0]\n",
        "  title_from_index = df[df.index==index]['Movie_Title'].values[0]\n",
        "  if (i<31):\n",
        "    print(i, '.',title_from_index)\n",
        "    i+=1\n"
      ],
      "metadata": {
        "colab": {
          "base_uri": "https://localhost:8080/"
        },
        "id": "SLGJYE_8xV1D",
        "outputId": "724b5397-68dc-4bd0-d657-577df31848bf"
      },
      "execution_count": 41,
      "outputs": [
        {
          "output_type": "stream",
          "name": "stdout",
          "text": [
            "Top 30 Movies suggested for you : \n",
            "\n",
            "1 . Niagara\n",
            "2 . Caravans\n",
            "3 . My Week with Marilyn\n",
            "4 . Brokeback Mountain\n",
            "5 . Harry Brown\n",
            "6 . Night of the Living Dead\n",
            "7 . The Curse of Downers Grove\n",
            "8 . The Boy Next Door\n",
            "9 . Back to the Future\n",
            "10 . The Juror\n",
            "11 . Some Like It Hot\n",
            "12 . Enough\n",
            "13 . The Kentucky Fried Movie\n",
            "14 . Eye for an Eye\n",
            "15 . Welcome to the Sticks\n",
            "16 . Alice Through the Looking Glass\n",
            "17 . Superman III\n",
            "18 . The Misfits\n",
            "19 . Premium Rush\n",
            "20 . Duel in the Sun\n",
            "21 . Sabotage\n",
            "22 . Small Soldiers\n",
            "23 . All That Jazz\n",
            "24 . Camping Sauvage\n",
            "25 . The Raid\n",
            "26 . Beyond the Black Rainbow\n",
            "27 . To Kill a Mockingbird\n",
            "28 . World Trade Center\n",
            "29 . The Dark Knight Rises\n",
            "30 . Tora! Tora! Tora!\n"
          ]
        }
      ]
    },
    {
      "cell_type": "markdown",
      "source": [
        "**Prediction:**"
      ],
      "metadata": {
        "id": "bsAEvptU5wgU"
      }
    },
    {
      "cell_type": "markdown",
      "source": [
        "**Top 10 Movie Recommendation System**"
      ],
      "metadata": {
        "id": "maIDnG5O1g4E"
      }
    },
    {
      "cell_type": "code",
      "source": [
        "Movie_Name = input(' Enter your favourite movie name : ')\n",
        "\n",
        "list_of_all_titles = df['Movie_Title'].tolist()\n",
        "\n",
        "Find_Close_Match = difflib.get_close_matches(Movie_Name, list_of_all_titles)\n",
        "close_match = Find_Close_Match[0]\n",
        "\n",
        "Index_of_Movie = df[df.Movie_Title == close_match]['Movie_ID'].values[0]\n",
        "\n",
        "Recommendation_Score = list(enumerate(Similarity_Score[Index_of_Movie]))\n",
        "\n",
        "sorted_similar_movies = sorted(Recommendation_Score, key = lambda x:x[1], reverse = True)\n",
        "print('Top 10 Movie suggested for you :\\n')\n",
        "\n",
        "i =1\n",
        "\n",
        "for movie in sorted_similar_movies:\n",
        "  index = movie[0]\n",
        "  title_from_index = df[df.Movie_ID==index]['Movie_Title'].values\n",
        "  if (i<11):\n",
        "    print(i, '.',title_from_index)\n",
        "    i+=1"
      ],
      "metadata": {
        "colab": {
          "base_uri": "https://localhost:8080/"
        },
        "id": "ZrtgoiMf1Siw",
        "outputId": "dd70e4ad-a6d1-454a-b3b5-3ac378cd033a"
      },
      "execution_count": 44,
      "outputs": [
        {
          "output_type": "stream",
          "name": "stdout",
          "text": [
            " Enter your favourite movie name : avtaar\n",
            "Top 10 Movie suggested for you :\n",
            "\n",
            "1 . ['Avatar']\n",
            "2 . ['The Girl on the Train']\n",
            "3 . ['Act of Valor']\n",
            "4 . ['Donnie Darko']\n",
            "5 . ['Precious']\n",
            "6 . ['Freaky Friday']\n",
            "7 . ['The Opposite Sex']\n",
            "8 . ['Heaven is for Real']\n",
            "9 . ['Run Lola Run']\n",
            "10 . ['Elizabethtown']\n"
          ]
        }
      ]
    },
    {
      "cell_type": "markdown",
      "source": [
        "**Explaination:**"
      ],
      "metadata": {
        "id": "UNs15i8v4-lw"
      }
    },
    {
      "cell_type": "markdown",
      "source": [
        "This movie recommendation project uses content-based filtering to suggest movies similar to a selected one. Here's a quick breakdown:\n",
        "\n",
        "**Data Loading:** We read and explored the dataset, focusing on Movie_Genre and Movie_Keywords as the main features for recommendations.\n",
        "**Feature Engineering:** Combined Movie_Genre and Movie_Keywords into a single feature, which represents each movie’s content profile.\n",
        "**Cosine Similarity Calculation**: Calculated similarity between all movies, producing a similarity matrix where each entry represents the similarity score between two movies.\n",
        "**Recommendation Function:** Created a function to return the top similar movies for a selected title by sorting and ranking similarity scores."
      ],
      "metadata": {
        "id": "mr1brMy55ULs"
      }
    },
    {
      "cell_type": "code",
      "source": [],
      "metadata": {
        "id": "vOYPmkrM49N1"
      },
      "execution_count": null,
      "outputs": []
    }
  ]
}